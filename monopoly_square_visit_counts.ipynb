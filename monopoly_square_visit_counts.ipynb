{
 "cells": [
  {
   "cell_type": "markdown",
   "metadata": {},
   "source": [
    "# What are the most visitied squares in Monopoly?"
   ]
  },
  {
   "cell_type": "markdown",
   "metadata": {},
   "source": [
    "* What properties should be bought in a game of Monopoly?\n",
    "* A player does not move around the board in a random way \n",
    "* Two dice are used, not a uniform ditstribution of space movements\n",
    "* Game rules, as well as cards, dictate a player's position on the board sporadically\n",
    "* This script aims to simulate a player's movements around a board and output the liklihood of a player landing on any particular space."
   ]
  },
  {
   "cell_type": "code",
   "execution_count": 2,
   "metadata": {},
   "outputs": [
    {
     "data": {
      "text/html": [
       "        <script type=\"text/javascript\">\n",
       "        window.PlotlyConfig = {MathJaxConfig: 'local'};\n",
       "        if (window.MathJax) {MathJax.Hub.Config({SVG: {font: \"STIX-Web\"}});}\n",
       "        if (typeof require !== 'undefined') {\n",
       "        require.undef(\"plotly\");\n",
       "        requirejs.config({\n",
       "            paths: {\n",
       "                'plotly': ['https://cdn.plot.ly/plotly-latest.min']\n",
       "            }\n",
       "        });\n",
       "        require(['plotly'], function(Plotly) {\n",
       "            window._Plotly = Plotly;\n",
       "        });\n",
       "        }\n",
       "        </script>\n",
       "        "
      ]
     },
     "metadata": {},
     "output_type": "display_data"
    }
   ],
   "source": [
    "from random import randint    \n",
    "import numpy as np\n",
    "import matplotlib\n",
    "import matplotlib.pyplot as plt\n",
    "\n",
    "\n",
    "import plotly.plotly\n",
    "plotly.offline.init_notebook_mode(connected=True)\n",
    "plotly_plot = plotly.offline.iplot\n",
    "import plotly.figure_factory as ff\n",
    "\n",
    "\n",
    "from dice import dice_roll\n",
    "import __main__"
   ]
  },
  {
   "cell_type": "markdown",
   "metadata": {},
   "source": [
    "## Dice rolls\n",
    "How do dice rolls affect player position?\n",
    "As we roll two dice, the sum of the dice are more likely to be a 6,7, or 8 than a 2 or a 12 for instance. \n",
    "\n",
    "Plotting throw statistics"
   ]
  },
  {
   "cell_type": "code",
   "execution_count": 3,
   "metadata": {
    "scrolled": true
   },
   "outputs": [
    {
     "name": "stdout",
     "output_type": "stream",
     "text": [
      "{8: 1424, 6: 1371, 7: 1678, 10: 832, 11: 545, 5: 1099, 9: 1157, 2: 264, 3: 530, 4: 819, 12: 281}\n",
      "dict_items([(8, 1424), (6, 1371), (7, 1678), (10, 832), (11, 545), (5, 1099), (9, 1157), (2, 264), (3, 530), (4, 819), (12, 281)])\n"
     ]
    },
    {
     "data": {
      "text/plain": [
       "<BarContainer object of 11 artists>"
      ]
     },
     "execution_count": 3,
     "metadata": {},
     "output_type": "execute_result"
    },
    {
     "data": {
      "image/png": "[encoded data removed]",
      "text/plain": [
       "<Figure size 432x288 with 1 Axes>"
      ]
     },
     "metadata": {
      "needs_background": "light"
     },
     "output_type": "display_data"
    }
   ],
   "source": [
    "rolls = {}\n",
    "for i in range(10000):\n",
    "    roll = dice_roll()[0]\n",
    "    if roll in rolls:\n",
    "        rolls[roll] += 1\n",
    "    else:\n",
    "        rolls[roll] = 1\n",
    "\n",
    "print(rolls)\n",
    "print(rolls.items())\n",
    "\n",
    "plt.bar(list(rolls.keys()), rolls.values(), color='g')"
   ]
  },
  {
   "cell_type": "markdown",
   "metadata": {},
   "source": [
    "The dice_roll function, returns the value that the player moves and whether the roll was a double. When three rolls are accured consecutively, the player's position is set equal to 10 (Jail position)"
   ]
  },
  {
   "cell_type": "code",
   "execution_count": null,
   "metadata": {},
   "outputs": [],
   "source": []
  },
  {
   "cell_type": "code",
   "execution_count": 4,
   "metadata": {},
   "outputs": [
    {
     "data": {
      "application/vnd.plotly.v1+json": {
       "config": {
        "linkText": "Export to plot.ly",
        "plotlyServerURL": "https://plot.ly",
        "showLink": false
       },
       "data": [
        {
         "colorscale": [
          [
           0,
           "rgb(255,255,255)"
          ],
          [
           0.01,
           "rgb(173,216,230)"
          ],
          [
           0.4,
           "rgb(100,149,237)"
          ],
          [
           0.6,
           "rgb(65,105,225)"
          ],
          [
           0.8,
           "rgb(0,0,205)"
          ],
          [
           1,
           "rgb(25,25,112)"
          ]
         ],
         "reversescale": false,
         "showscale": false,
         "type": "heatmap",
         "uid": "bfe216b8-8ae9-45fd-b0ae-f70d5f5929b5",
         "z": [
          [
           11,
           10,
           9,
           8,
           7,
           6,
           5,
           4,
           3,
           2,
           1
          ],
          [
           12,
           0,
           0,
           0,
           0,
           0,
           0,
           0,
           0,
           0,
           40
          ],
          [
           13,
           0,
           0,
           0,
           0,
           0,
           0,
           0,
           0,
           0,
           39
          ],
          [
           14,
           0,
           0,
           0,
           0,
           0,
           0,
           0,
           0,
           0,
           38
          ],
          [
           15,
           0,
           0,
           0,
           0,
           0,
           0,
           0,
           0,
           0,
           37
          ],
          [
           16,
           0,
           0,
           0,
           0,
           0,
           0,
           0,
           0,
           0,
           36
          ],
          [
           17,
           0,
           0,
           0,
           0,
           0,
           0,
           0,
           0,
           0,
           35
          ],
          [
           18,
           0,
           0,
           0,
           0,
           0,
           0,
           0,
           0,
           0,
           34
          ],
          [
           19,
           0,
           0,
           0,
           0,
           0,
           0,
           0,
           0,
           0,
           33
          ],
          [
           20,
           0,
           0,
           0,
           0,
           0,
           0,
           0,
           0,
           0,
           32
          ],
          [
           21,
           22,
           23,
           24,
           25,
           26,
           27,
           28,
           29,
           30,
           31
          ]
         ]
        }
       ],
       "layout": {
        "annotations": [
         {
          "font": {
           "color": "#000000"
          },
          "showarrow": false,
          "text": "Jail",
          "x": 0,
          "xref": "x",
          "y": 0,
          "yref": "y"
         },
         {
          "font": {
           "color": "#000000"
          },
          "showarrow": false,
          "text": "",
          "x": 1,
          "xref": "x",
          "y": 0,
          "yref": "y"
         },
         {
          "font": {
           "color": "#000000"
          },
          "showarrow": false,
          "text": "",
          "x": 2,
          "xref": "x",
          "y": 0,
          "yref": "y"
         },
         {
          "font": {
           "color": "#000000"
          },
          "showarrow": false,
          "text": "",
          "x": 3,
          "xref": "x",
          "y": 0,
          "yref": "y"
         },
         {
          "font": {
           "color": "#000000"
          },
          "showarrow": false,
          "text": "",
          "x": 4,
          "xref": "x",
          "y": 0,
          "yref": "y"
         },
         {
          "font": {
           "color": "#000000"
          },
          "showarrow": false,
          "text": "",
          "x": 5,
          "xref": "x",
          "y": 0,
          "yref": "y"
         },
         {
          "font": {
           "color": "#000000"
          },
          "showarrow": false,
          "text": "",
          "x": 6,
          "xref": "x",
          "y": 0,
          "yref": "y"
         },
         {
          "font": {
           "color": "#000000"
          },
          "showarrow": false,
          "text": "",
          "x": 7,
          "xref": "x",
          "y": 0,
          "yref": "y"
         },
         {
          "font": {
           "color": "#000000"
          },
          "showarrow": false,
          "text": "",
          "x": 8,
          "xref": "x",
          "y": 0,
          "yref": "y"
         },
         {
          "font": {
           "color": "#000000"
          },
          "showarrow": false,
          "text": "",
          "x": 9,
          "xref": "x",
          "y": 0,
          "yref": "y"
         },
         {
          "font": {
           "color": "#000000"
          },
          "showarrow": false,
          "text": "Go",
          "x": 10,
          "xref": "x",
          "y": 0,
          "yref": "y"
         },
         {
          "font": {
           "color": "#000000"
          },
          "showarrow": false,
          "text": "",
          "x": 0,
          "xref": "x",
          "y": 1,
          "yref": "y"
         },
         {
          "font": {
           "color": "#000000"
          },
          "showarrow": false,
          "text": "",
          "x": 1,
          "xref": "x",
          "y": 1,
          "yref": "y"
         },
         {
          "font": {
           "color": "#000000"
          },
          "showarrow": false,
          "text": "",
          "x": 2,
          "xref": "x",
          "y": 1,
          "yref": "y"
         },
         {
          "font": {
           "color": "#000000"
          },
          "showarrow": false,
          "text": "",
          "x": 3,
          "xref": "x",
          "y": 1,
          "yref": "y"
         },
         {
          "font": {
           "color": "#000000"
          },
          "showarrow": false,
          "text": "",
          "x": 4,
          "xref": "x",
          "y": 1,
          "yref": "y"
         },
         {
          "font": {
           "color": "#000000"
          },
          "showarrow": false,
          "text": "",
          "x": 5,
          "xref": "x",
          "y": 1,
          "yref": "y"
         },
         {
          "font": {
           "color": "#000000"
          },
          "showarrow": false,
          "text": "",
          "x": 6,
          "xref": "x",
          "y": 1,
          "yref": "y"
         },
         {
          "font": {
           "color": "#000000"
          },
          "showarrow": false,
          "text": "",
          "x": 7,
          "xref": "x",
          "y": 1,
          "yref": "y"
         },
         {
          "font": {
           "color": "#000000"
          },
          "showarrow": false,
          "text": "",
          "x": 8,
          "xref": "x",
          "y": 1,
          "yref": "y"
         },
         {
          "font": {
           "color": "#000000"
          },
          "showarrow": false,
          "text": "",
          "x": 9,
          "xref": "x",
          "y": 1,
          "yref": "y"
         },
         {
          "font": {
           "color": "#FFFFFF"
          },
          "showarrow": false,
          "text": "",
          "x": 10,
          "xref": "x",
          "y": 1,
          "yref": "y"
         },
         {
          "font": {
           "color": "#000000"
          },
          "showarrow": false,
          "text": "",
          "x": 0,
          "xref": "x",
          "y": 2,
          "yref": "y"
         },
         {
          "font": {
           "color": "#000000"
          },
          "showarrow": false,
          "text": "",
          "x": 1,
          "xref": "x",
          "y": 2,
          "yref": "y"
         },
         {
          "font": {
           "color": "#000000"
          },
          "showarrow": false,
          "text": "",
          "x": 2,
          "xref": "x",
          "y": 2,
          "yref": "y"
         },
         {
          "font": {
           "color": "#000000"
          },
          "showarrow": false,
          "text": "",
          "x": 3,
          "xref": "x",
          "y": 2,
          "yref": "y"
         },
         {
          "font": {
           "color": "#000000"
          },
          "showarrow": false,
          "text": "",
          "x": 4,
          "xref": "x",
          "y": 2,
          "yref": "y"
         },
         {
          "font": {
           "color": "#000000"
          },
          "showarrow": false,
          "text": "",
          "x": 5,
          "xref": "x",
          "y": 2,
          "yref": "y"
         },
         {
          "font": {
           "color": "#000000"
          },
          "showarrow": false,
          "text": "",
          "x": 6,
          "xref": "x",
          "y": 2,
          "yref": "y"
         },
         {
          "font": {
           "color": "#000000"
          },
          "showarrow": false,
          "text": "",
          "x": 7,
          "xref": "x",
          "y": 2,
          "yref": "y"
         },
         {
          "font": {
           "color": "#000000"
          },
          "showarrow": false,
          "text": "",
          "x": 8,
          "xref": "x",
          "y": 2,
          "yref": "y"
         },
         {
          "font": {
           "color": "#000000"
          },
          "showarrow": false,
          "text": "",
          "x": 9,
          "xref": "x",
          "y": 2,
          "yref": "y"
         },
         {
          "font": {
           "color": "#FFFFFF"
          },
          "showarrow": false,
          "text": "",
          "x": 10,
          "xref": "x",
          "y": 2,
          "yref": "y"
         },
         {
          "font": {
           "color": "#000000"
          },
          "showarrow": false,
          "text": "",
          "x": 0,
          "xref": "x",
          "y": 3,
          "yref": "y"
         },
         {
          "font": {
           "color": "#000000"
          },
          "showarrow": false,
          "text": "",
          "x": 1,
          "xref": "x",
          "y": 3,
          "yref": "y"
         },
         {
          "font": {
           "color": "#000000"
          },
          "showarrow": false,
          "text": "",
          "x": 2,
          "xref": "x",
          "y": 3,
          "yref": "y"
         },
         {
          "font": {
           "color": "#000000"
          },
          "showarrow": false,
          "text": "",
          "x": 3,
          "xref": "x",
          "y": 3,
          "yref": "y"
         },
         {
          "font": {
           "color": "#000000"
          },
          "showarrow": false,
          "text": "",
          "x": 4,
          "xref": "x",
          "y": 3,
          "yref": "y"
         },
         {
          "font": {
           "color": "#000000"
          },
          "showarrow": false,
          "text": "",
          "x": 5,
          "xref": "x",
          "y": 3,
          "yref": "y"
         },
         {
          "font": {
           "color": "#000000"
          },
          "showarrow": false,
          "text": "",
          "x": 6,
          "xref": "x",
          "y": 3,
          "yref": "y"
         },
         {
          "font": {
           "color": "#000000"
          },
          "showarrow": false,
          "text": "",
          "x": 7,
          "xref": "x",
          "y": 3,
          "yref": "y"
         },
         {
          "font": {
           "color": "#000000"
          },
          "showarrow": false,
          "text": "",
          "x": 8,
          "xref": "x",
          "y": 3,
          "yref": "y"
         },
         {
          "font": {
           "color": "#000000"
          },
          "showarrow": false,
          "text": "",
          "x": 9,
          "xref": "x",
          "y": 3,
          "yref": "y"
         },
         {
          "font": {
           "color": "#FFFFFF"
          },
          "showarrow": false,
          "text": "",
          "x": 10,
          "xref": "x",
          "y": 3,
          "yref": "y"
         },
         {
          "font": {
           "color": "#000000"
          },
          "showarrow": false,
          "text": "",
          "x": 0,
          "xref": "x",
          "y": 4,
          "yref": "y"
         },
         {
          "font": {
           "color": "#000000"
          },
          "showarrow": false,
          "text": "",
          "x": 1,
          "xref": "x",
          "y": 4,
          "yref": "y"
         },
         {
          "font": {
           "color": "#000000"
          },
          "showarrow": false,
          "text": "",
          "x": 2,
          "xref": "x",
          "y": 4,
          "yref": "y"
         },
         {
          "font": {
           "color": "#000000"
          },
          "showarrow": false,
          "text": "",
          "x": 3,
          "xref": "x",
          "y": 4,
          "yref": "y"
         },
         {
          "font": {
           "color": "#000000"
          },
          "showarrow": false,
          "text": "",
          "x": 4,
          "xref": "x",
          "y": 4,
          "yref": "y"
         },
         {
          "font": {
           "color": "#000000"
          },
          "showarrow": false,
          "text": "",
          "x": 5,
          "xref": "x",
          "y": 4,
          "yref": "y"
         },
         {
          "font": {
           "color": "#000000"
          },
          "showarrow": false,
          "text": "",
          "x": 6,
          "xref": "x",
          "y": 4,
          "yref": "y"
         },
         {
          "font": {
           "color": "#000000"
          },
          "showarrow": false,
          "text": "",
          "x": 7,
          "xref": "x",
          "y": 4,
          "yref": "y"
         },
         {
          "font": {
           "color": "#000000"
          },
          "showarrow": false,
          "text": "",
          "x": 8,
          "xref": "x",
          "y": 4,
          "yref": "y"
         },
         {
          "font": {
           "color": "#000000"
          },
          "showarrow": false,
          "text": "",
          "x": 9,
          "xref": "x",
          "y": 4,
          "yref": "y"
         },
         {
          "font": {
           "color": "#FFFFFF"
          },
          "showarrow": false,
          "text": "",
          "x": 10,
          "xref": "x",
          "y": 4,
          "yref": "y"
         },
         {
          "font": {
           "color": "#000000"
          },
          "showarrow": false,
          "text": "",
          "x": 0,
          "xref": "x",
          "y": 5,
          "yref": "y"
         },
         {
          "font": {
           "color": "#000000"
          },
          "showarrow": false,
          "text": "",
          "x": 1,
          "xref": "x",
          "y": 5,
          "yref": "y"
         },
         {
          "font": {
           "color": "#000000"
          },
          "showarrow": false,
          "text": "",
          "x": 2,
          "xref": "x",
          "y": 5,
          "yref": "y"
         },
         {
          "font": {
           "color": "#000000"
          },
          "showarrow": false,
          "text": "",
          "x": 3,
          "xref": "x",
          "y": 5,
          "yref": "y"
         },
         {
          "font": {
           "color": "#000000"
          },
          "showarrow": false,
          "text": "",
          "x": 4,
          "xref": "x",
          "y": 5,
          "yref": "y"
         },
         {
          "font": {
           "color": "#000000"
          },
          "showarrow": false,
          "text": "",
          "x": 5,
          "xref": "x",
          "y": 5,
          "yref": "y"
         },
         {
          "font": {
           "color": "#000000"
          },
          "showarrow": false,
          "text": "",
          "x": 6,
          "xref": "x",
          "y": 5,
          "yref": "y"
         },
         {
          "font": {
           "color": "#000000"
          },
          "showarrow": false,
          "text": "",
          "x": 7,
          "xref": "x",
          "y": 5,
          "yref": "y"
         },
         {
          "font": {
           "color": "#000000"
          },
          "showarrow": false,
          "text": "",
          "x": 8,
          "xref": "x",
          "y": 5,
          "yref": "y"
         },
         {
          "font": {
           "color": "#000000"
          },
          "showarrow": false,
          "text": "",
          "x": 9,
          "xref": "x",
          "y": 5,
          "yref": "y"
         },
         {
          "font": {
           "color": "#FFFFFF"
          },
          "showarrow": false,
          "text": "",
          "x": 10,
          "xref": "x",
          "y": 5,
          "yref": "y"
         },
         {
          "font": {
           "color": "#000000"
          },
          "showarrow": false,
          "text": "",
          "x": 0,
          "xref": "x",
          "y": 6,
          "yref": "y"
         },
         {
          "font": {
           "color": "#000000"
          },
          "showarrow": false,
          "text": "",
          "x": 1,
          "xref": "x",
          "y": 6,
          "yref": "y"
         },
         {
          "font": {
           "color": "#000000"
          },
          "showarrow": false,
          "text": "",
          "x": 2,
          "xref": "x",
          "y": 6,
          "yref": "y"
         },
         {
          "font": {
           "color": "#000000"
          },
          "showarrow": false,
          "text": "",
          "x": 3,
          "xref": "x",
          "y": 6,
          "yref": "y"
         },
         {
          "font": {
           "color": "#000000"
          },
          "showarrow": false,
          "text": "",
          "x": 4,
          "xref": "x",
          "y": 6,
          "yref": "y"
         },
         {
          "font": {
           "color": "#000000"
          },
          "showarrow": false,
          "text": "",
          "x": 5,
          "xref": "x",
          "y": 6,
          "yref": "y"
         },
         {
          "font": {
           "color": "#000000"
          },
          "showarrow": false,
          "text": "",
          "x": 6,
          "xref": "x",
          "y": 6,
          "yref": "y"
         },
         {
          "font": {
           "color": "#000000"
          },
          "showarrow": false,
          "text": "",
          "x": 7,
          "xref": "x",
          "y": 6,
          "yref": "y"
         },
         {
          "font": {
           "color": "#000000"
          },
          "showarrow": false,
          "text": "",
          "x": 8,
          "xref": "x",
          "y": 6,
          "yref": "y"
         },
         {
          "font": {
           "color": "#000000"
          },
          "showarrow": false,
          "text": "",
          "x": 9,
          "xref": "x",
          "y": 6,
          "yref": "y"
         },
         {
          "font": {
           "color": "#FFFFFF"
          },
          "showarrow": false,
          "text": "",
          "x": 10,
          "xref": "x",
          "y": 6,
          "yref": "y"
         },
         {
          "font": {
           "color": "#000000"
          },
          "showarrow": false,
          "text": "",
          "x": 0,
          "xref": "x",
          "y": 7,
          "yref": "y"
         },
         {
          "font": {
           "color": "#000000"
          },
          "showarrow": false,
          "text": "",
          "x": 1,
          "xref": "x",
          "y": 7,
          "yref": "y"
         },
         {
          "font": {
           "color": "#000000"
          },
          "showarrow": false,
          "text": "",
          "x": 2,
          "xref": "x",
          "y": 7,
          "yref": "y"
         },
         {
          "font": {
           "color": "#000000"
          },
          "showarrow": false,
          "text": "",
          "x": 3,
          "xref": "x",
          "y": 7,
          "yref": "y"
         },
         {
          "font": {
           "color": "#000000"
          },
          "showarrow": false,
          "text": "",
          "x": 4,
          "xref": "x",
          "y": 7,
          "yref": "y"
         },
         {
          "font": {
           "color": "#000000"
          },
          "showarrow": false,
          "text": "",
          "x": 5,
          "xref": "x",
          "y": 7,
          "yref": "y"
         },
         {
          "font": {
           "color": "#000000"
          },
          "showarrow": false,
          "text": "",
          "x": 6,
          "xref": "x",
          "y": 7,
          "yref": "y"
         },
         {
          "font": {
           "color": "#000000"
          },
          "showarrow": false,
          "text": "",
          "x": 7,
          "xref": "x",
          "y": 7,
          "yref": "y"
         },
         {
          "font": {
           "color": "#000000"
          },
          "showarrow": false,
          "text": "",
          "x": 8,
          "xref": "x",
          "y": 7,
          "yref": "y"
         },
         {
          "font": {
           "color": "#000000"
          },
          "showarrow": false,
          "text": "",
          "x": 9,
          "xref": "x",
          "y": 7,
          "yref": "y"
         },
         {
          "font": {
           "color": "#FFFFFF"
          },
          "showarrow": false,
          "text": "",
          "x": 10,
          "xref": "x",
          "y": 7,
          "yref": "y"
         },
         {
          "font": {
           "color": "#000000"
          },
          "showarrow": false,
          "text": "",
          "x": 0,
          "xref": "x",
          "y": 8,
          "yref": "y"
         },
         {
          "font": {
           "color": "#000000"
          },
          "showarrow": false,
          "text": "",
          "x": 1,
          "xref": "x",
          "y": 8,
          "yref": "y"
         },
         {
          "font": {
           "color": "#000000"
          },
          "showarrow": false,
          "text": "",
          "x": 2,
          "xref": "x",
          "y": 8,
          "yref": "y"
         },
         {
          "font": {
           "color": "#000000"
          },
          "showarrow": false,
          "text": "",
          "x": 3,
          "xref": "x",
          "y": 8,
          "yref": "y"
         },
         {
          "font": {
           "color": "#000000"
          },
          "showarrow": false,
          "text": "",
          "x": 4,
          "xref": "x",
          "y": 8,
          "yref": "y"
         },
         {
          "font": {
           "color": "#000000"
          },
          "showarrow": false,
          "text": "",
          "x": 5,
          "xref": "x",
          "y": 8,
          "yref": "y"
         },
         {
          "font": {
           "color": "#000000"
          },
          "showarrow": false,
          "text": "",
          "x": 6,
          "xref": "x",
          "y": 8,
          "yref": "y"
         },
         {
          "font": {
           "color": "#000000"
          },
          "showarrow": false,
          "text": "",
          "x": 7,
          "xref": "x",
          "y": 8,
          "yref": "y"
         },
         {
          "font": {
           "color": "#000000"
          },
          "showarrow": false,
          "text": "",
          "x": 8,
          "xref": "x",
          "y": 8,
          "yref": "y"
         },
         {
          "font": {
           "color": "#000000"
          },
          "showarrow": false,
          "text": "",
          "x": 9,
          "xref": "x",
          "y": 8,
          "yref": "y"
         },
         {
          "font": {
           "color": "#FFFFFF"
          },
          "showarrow": false,
          "text": "",
          "x": 10,
          "xref": "x",
          "y": 8,
          "yref": "y"
         },
         {
          "font": {
           "color": "#FFFFFF"
          },
          "showarrow": false,
          "text": "",
          "x": 0,
          "xref": "x",
          "y": 9,
          "yref": "y"
         },
         {
          "font": {
           "color": "#000000"
          },
          "showarrow": false,
          "text": "",
          "x": 1,
          "xref": "x",
          "y": 9,
          "yref": "y"
         },
         {
          "font": {
           "color": "#000000"
          },
          "showarrow": false,
          "text": "",
          "x": 2,
          "xref": "x",
          "y": 9,
          "yref": "y"
         },
         {
          "font": {
           "color": "#000000"
          },
          "showarrow": false,
          "text": "",
          "x": 3,
          "xref": "x",
          "y": 9,
          "yref": "y"
         },
         {
          "font": {
           "color": "#000000"
          },
          "showarrow": false,
          "text": "",
          "x": 4,
          "xref": "x",
          "y": 9,
          "yref": "y"
         },
         {
          "font": {
           "color": "#000000"
          },
          "showarrow": false,
          "text": "",
          "x": 5,
          "xref": "x",
          "y": 9,
          "yref": "y"
         },
         {
          "font": {
           "color": "#000000"
          },
          "showarrow": false,
          "text": "",
          "x": 6,
          "xref": "x",
          "y": 9,
          "yref": "y"
         },
         {
          "font": {
           "color": "#000000"
          },
          "showarrow": false,
          "text": "",
          "x": 7,
          "xref": "x",
          "y": 9,
          "yref": "y"
         },
         {
          "font": {
           "color": "#000000"
          },
          "showarrow": false,
          "text": "",
          "x": 8,
          "xref": "x",
          "y": 9,
          "yref": "y"
         },
         {
          "font": {
           "color": "#000000"
          },
          "showarrow": false,
          "text": "",
          "x": 9,
          "xref": "x",
          "y": 9,
          "yref": "y"
         },
         {
          "font": {
           "color": "#FFFFFF"
          },
          "showarrow": false,
          "text": "",
          "x": 10,
          "xref": "x",
          "y": 9,
          "yref": "y"
         },
         {
          "font": {
           "color": "#FFFFFF"
          },
          "showarrow": false,
          "text": "",
          "x": 0,
          "xref": "x",
          "y": 10,
          "yref": "y"
         },
         {
          "font": {
           "color": "#FFFFFF"
          },
          "showarrow": false,
          "text": "",
          "x": 1,
          "xref": "x",
          "y": 10,
          "yref": "y"
         },
         {
          "font": {
           "color": "#FFFFFF"
          },
          "showarrow": false,
          "text": "",
          "x": 2,
          "xref": "x",
          "y": 10,
          "yref": "y"
         },
         {
          "font": {
           "color": "#FFFFFF"
          },
          "showarrow": false,
          "text": "",
          "x": 3,
          "xref": "x",
          "y": 10,
          "yref": "y"
         },
         {
          "font": {
           "color": "#FFFFFF"
          },
          "showarrow": false,
          "text": "",
          "x": 4,
          "xref": "x",
          "y": 10,
          "yref": "y"
         },
         {
          "font": {
           "color": "#FFFFFF"
          },
          "showarrow": false,
          "text": "",
          "x": 5,
          "xref": "x",
          "y": 10,
          "yref": "y"
         },
         {
          "font": {
           "color": "#FFFFFF"
          },
          "showarrow": false,
          "text": "",
          "x": 6,
          "xref": "x",
          "y": 10,
          "yref": "y"
         },
         {
          "font": {
           "color": "#FFFFFF"
          },
          "showarrow": false,
          "text": "",
          "x": 7,
          "xref": "x",
          "y": 10,
          "yref": "y"
         },
         {
          "font": {
           "color": "#FFFFFF"
          },
          "showarrow": false,
          "text": "",
          "x": 8,
          "xref": "x",
          "y": 10,
          "yref": "y"
         },
         {
          "font": {
           "color": "#FFFFFF"
          },
          "showarrow": false,
          "text": "",
          "x": 9,
          "xref": "x",
          "y": 10,
          "yref": "y"
         },
         {
          "font": {
           "color": "#FFFFFF"
          },
          "showarrow": false,
          "text": "Free Parking",
          "x": 10,
          "xref": "x",
          "y": 10,
          "yref": "y"
         }
        ],
        "xaxis": {
         "gridcolor": "rgb(0, 0, 0)",
         "showticklabels": false,
         "side": "top",
         "ticks": ""
        },
        "yaxis": {
         "showticklabels": false,
         "ticks": "",
         "ticksuffix": "  "
        }
       }
      },
      "text/html": [
       "<div>\n",
       "        \n",
       "        \n",
       "            <div id=\"14383b7f-54ec-4607-991f-44192a7b9f93\" class=\"plotly-graph-div\" style=\"height:525px; width:100%;\"></div>\n",
       "            <script type=\"text/javascript\">\n",
       "                require([\"plotly\"], function(Plotly) {\n",
       "                    window.PLOTLYENV=window.PLOTLYENV || {};\n",
       "                    window.PLOTLYENV.BASE_URL='https://plot.ly';\n",
       "                    \n",
       "                if (document.getElementById(\"14383b7f-54ec-4607-991f-44192a7b9f93\")) {\n",
       "                    Plotly.newPlot(\n",
       "                        '14383b7f-54ec-4607-991f-44192a7b9f93',\n",
       "                        [{\"colorscale\": [[0.0, \"rgb(255,255,255)\"], [0.01, \"rgb(173,216,230)\"], [0.4, \"rgb(100,149,237)\"], [0.6, \"rgb(65,105,225)\"], [0.8, \"rgb(0,0,205)\"], [1.0, \"rgb(25,25,112)\"]], \"reversescale\": false, \"showscale\": false, \"type\": \"heatmap\", \"uid\": \"bfe216b8-8ae9-45fd-b0ae-f70d5f5929b5\", \"z\": [[11, 10, 9, 8, 7, 6, 5, 4, 3, 2, 1], [12, 0, 0, 0, 0, 0, 0, 0, 0, 0, 40], [13, 0, 0, 0, 0, 0, 0, 0, 0, 0, 39], [14, 0, 0, 0, 0, 0, 0, 0, 0, 0, 38], [15, 0, 0, 0, 0, 0, 0, 0, 0, 0, 37], [16, 0, 0, 0, 0, 0, 0, 0, 0, 0, 36], [17, 0, 0, 0, 0, 0, 0, 0, 0, 0, 35], [18, 0, 0, 0, 0, 0, 0, 0, 0, 0, 34], [19, 0, 0, 0, 0, 0, 0, 0, 0, 0, 33], [20, 0, 0, 0, 0, 0, 0, 0, 0, 0, 32], [21, 22, 23, 24, 25, 26, 27, 28, 29, 30, 31]]}],\n",
       "                        {\"annotations\": [{\"font\": {\"color\": \"#000000\"}, \"showarrow\": false, \"text\": \"Jail\", \"x\": 0, \"xref\": \"x\", \"y\": 0, \"yref\": \"y\"}, {\"font\": {\"color\": \"#000000\"}, \"showarrow\": false, \"text\": \"\", \"x\": 1, \"xref\": \"x\", \"y\": 0, \"yref\": \"y\"}, {\"font\": {\"color\": \"#000000\"}, \"showarrow\": false, \"text\": \"\", \"x\": 2, \"xref\": \"x\", \"y\": 0, \"yref\": \"y\"}, {\"font\": {\"color\": \"#000000\"}, \"showarrow\": false, \"text\": \"\", \"x\": 3, \"xref\": \"x\", \"y\": 0, \"yref\": \"y\"}, {\"font\": {\"color\": \"#000000\"}, \"showarrow\": false, \"text\": \"\", \"x\": 4, \"xref\": \"x\", \"y\": 0, \"yref\": \"y\"}, {\"font\": {\"color\": \"#000000\"}, \"showarrow\": false, \"text\": \"\", \"x\": 5, \"xref\": \"x\", \"y\": 0, \"yref\": \"y\"}, {\"font\": {\"color\": \"#000000\"}, \"showarrow\": false, \"text\": \"\", \"x\": 6, \"xref\": \"x\", \"y\": 0, \"yref\": \"y\"}, {\"font\": {\"color\": \"#000000\"}, \"showarrow\": false, \"text\": \"\", \"x\": 7, \"xref\": \"x\", \"y\": 0, \"yref\": \"y\"}, {\"font\": {\"color\": \"#000000\"}, \"showarrow\": false, \"text\": \"\", \"x\": 8, \"xref\": \"x\", \"y\": 0, \"yref\": \"y\"}, {\"font\": {\"color\": \"#000000\"}, \"showarrow\": false, \"text\": \"\", \"x\": 9, \"xref\": \"x\", \"y\": 0, \"yref\": \"y\"}, {\"font\": {\"color\": \"#000000\"}, \"showarrow\": false, \"text\": \"Go\", \"x\": 10, \"xref\": \"x\", \"y\": 0, \"yref\": \"y\"}, {\"font\": {\"color\": \"#000000\"}, \"showarrow\": false, \"text\": \"\", \"x\": 0, \"xref\": \"x\", \"y\": 1, \"yref\": \"y\"}, {\"font\": {\"color\": \"#000000\"}, \"showarrow\": false, \"text\": \"\", \"x\": 1, \"xref\": \"x\", \"y\": 1, \"yref\": \"y\"}, {\"font\": {\"color\": \"#000000\"}, \"showarrow\": false, \"text\": \"\", \"x\": 2, \"xref\": \"x\", \"y\": 1, \"yref\": \"y\"}, {\"font\": {\"color\": \"#000000\"}, \"showarrow\": false, \"text\": \"\", \"x\": 3, \"xref\": \"x\", \"y\": 1, \"yref\": \"y\"}, {\"font\": {\"color\": \"#000000\"}, \"showarrow\": false, \"text\": \"\", \"x\": 4, \"xref\": \"x\", \"y\": 1, \"yref\": \"y\"}, {\"font\": {\"color\": \"#000000\"}, \"showarrow\": false, \"text\": \"\", \"x\": 5, \"xref\": \"x\", \"y\": 1, \"yref\": \"y\"}, {\"font\": {\"color\": \"#000000\"}, \"showarrow\": false, \"text\": \"\", \"x\": 6, \"xref\": \"x\", \"y\": 1, \"yref\": \"y\"}, {\"font\": {\"color\": \"#000000\"}, \"showarrow\": false, \"text\": \"\", \"x\": 7, \"xref\": \"x\", \"y\": 1, \"yref\": \"y\"}, {\"font\": {\"color\": \"#000000\"}, \"showarrow\": false, \"text\": \"\", \"x\": 8, \"xref\": \"x\", \"y\": 1, \"yref\": \"y\"}, {\"font\": {\"color\": \"#000000\"}, \"showarrow\": false, \"text\": \"\", \"x\": 9, \"xref\": \"x\", \"y\": 1, \"yref\": \"y\"}, {\"font\": {\"color\": \"#FFFFFF\"}, \"showarrow\": false, \"text\": \"\", \"x\": 10, \"xref\": \"x\", \"y\": 1, \"yref\": \"y\"}, {\"font\": {\"color\": \"#000000\"}, \"showarrow\": false, \"text\": \"\", \"x\": 0, \"xref\": \"x\", \"y\": 2, \"yref\": \"y\"}, {\"font\": {\"color\": \"#000000\"}, \"showarrow\": false, \"text\": \"\", \"x\": 1, \"xref\": \"x\", \"y\": 2, \"yref\": \"y\"}, {\"font\": {\"color\": \"#000000\"}, \"showarrow\": false, \"text\": \"\", \"x\": 2, \"xref\": \"x\", \"y\": 2, \"yref\": \"y\"}, {\"font\": {\"color\": \"#000000\"}, \"showarrow\": false, \"text\": \"\", \"x\": 3, \"xref\": \"x\", \"y\": 2, \"yref\": \"y\"}, {\"font\": {\"color\": \"#000000\"}, \"showarrow\": false, \"text\": \"\", \"x\": 4, \"xref\": \"x\", \"y\": 2, \"yref\": \"y\"}, {\"font\": {\"color\": \"#000000\"}, \"showarrow\": false, \"text\": \"\", \"x\": 5, \"xref\": \"x\", \"y\": 2, \"yref\": \"y\"}, {\"font\": {\"color\": \"#000000\"}, \"showarrow\": false, \"text\": \"\", \"x\": 6, \"xref\": \"x\", \"y\": 2, \"yref\": \"y\"}, {\"font\": {\"color\": \"#000000\"}, \"showarrow\": false, \"text\": \"\", \"x\": 7, \"xref\": \"x\", \"y\": 2, \"yref\": \"y\"}, {\"font\": {\"color\": \"#000000\"}, \"showarrow\": false, \"text\": \"\", \"x\": 8, \"xref\": \"x\", \"y\": 2, \"yref\": \"y\"}, {\"font\": {\"color\": \"#000000\"}, \"showarrow\": false, \"text\": \"\", \"x\": 9, \"xref\": \"x\", \"y\": 2, \"yref\": \"y\"}, {\"font\": {\"color\": \"#FFFFFF\"}, \"showarrow\": false, \"text\": \"\", \"x\": 10, \"xref\": \"x\", \"y\": 2, \"yref\": \"y\"}, {\"font\": {\"color\": \"#000000\"}, \"showarrow\": false, \"text\": \"\", \"x\": 0, \"xref\": \"x\", \"y\": 3, \"yref\": \"y\"}, {\"font\": {\"color\": \"#000000\"}, \"showarrow\": false, \"text\": \"\", \"x\": 1, \"xref\": \"x\", \"y\": 3, \"yref\": \"y\"}, {\"font\": {\"color\": \"#000000\"}, \"showarrow\": false, \"text\": \"\", \"x\": 2, \"xref\": \"x\", \"y\": 3, \"yref\": \"y\"}, {\"font\": {\"color\": \"#000000\"}, \"showarrow\": false, \"text\": \"\", \"x\": 3, \"xref\": \"x\", \"y\": 3, \"yref\": \"y\"}, {\"font\": {\"color\": \"#000000\"}, \"showarrow\": false, \"text\": \"\", \"x\": 4, \"xref\": \"x\", \"y\": 3, \"yref\": \"y\"}, {\"font\": {\"color\": \"#000000\"}, \"showarrow\": false, \"text\": \"\", \"x\": 5, \"xref\": \"x\", \"y\": 3, \"yref\": \"y\"}, {\"font\": {\"color\": \"#000000\"}, \"showarrow\": false, \"text\": \"\", \"x\": 6, \"xref\": \"x\", \"y\": 3, \"yref\": \"y\"}, {\"font\": {\"color\": \"#000000\"}, \"showarrow\": false, \"text\": \"\", \"x\": 7, \"xref\": \"x\", \"y\": 3, \"yref\": \"y\"}, {\"font\": {\"color\": \"#000000\"}, \"showarrow\": false, \"text\": \"\", \"x\": 8, \"xref\": \"x\", \"y\": 3, \"yref\": \"y\"}, {\"font\": {\"color\": \"#000000\"}, \"showarrow\": false, \"text\": \"\", \"x\": 9, \"xref\": \"x\", \"y\": 3, \"yref\": \"y\"}, {\"font\": {\"color\": \"#FFFFFF\"}, \"showarrow\": false, \"text\": \"\", \"x\": 10, \"xref\": \"x\", \"y\": 3, \"yref\": \"y\"}, {\"font\": {\"color\": \"#000000\"}, \"showarrow\": false, \"text\": \"\", \"x\": 0, \"xref\": \"x\", \"y\": 4, \"yref\": \"y\"}, {\"font\": {\"color\": \"#000000\"}, \"showarrow\": false, \"text\": \"\", \"x\": 1, \"xref\": \"x\", \"y\": 4, \"yref\": \"y\"}, {\"font\": {\"color\": \"#000000\"}, \"showarrow\": false, \"text\": \"\", \"x\": 2, \"xref\": \"x\", \"y\": 4, \"yref\": \"y\"}, {\"font\": {\"color\": \"#000000\"}, \"showarrow\": false, \"text\": \"\", \"x\": 3, \"xref\": \"x\", \"y\": 4, \"yref\": \"y\"}, {\"font\": {\"color\": \"#000000\"}, \"showarrow\": false, \"text\": \"\", \"x\": 4, \"xref\": \"x\", \"y\": 4, \"yref\": \"y\"}, {\"font\": {\"color\": \"#000000\"}, \"showarrow\": false, \"text\": \"\", \"x\": 5, \"xref\": \"x\", \"y\": 4, \"yref\": \"y\"}, {\"font\": {\"color\": \"#000000\"}, \"showarrow\": false, \"text\": \"\", \"x\": 6, \"xref\": \"x\", \"y\": 4, \"yref\": \"y\"}, {\"font\": {\"color\": \"#000000\"}, \"showarrow\": false, \"text\": \"\", \"x\": 7, \"xref\": \"x\", \"y\": 4, \"yref\": \"y\"}, {\"font\": {\"color\": \"#000000\"}, \"showarrow\": false, \"text\": \"\", \"x\": 8, \"xref\": \"x\", \"y\": 4, \"yref\": \"y\"}, {\"font\": {\"color\": \"#000000\"}, \"showarrow\": false, \"text\": \"\", \"x\": 9, \"xref\": \"x\", \"y\": 4, \"yref\": \"y\"}, {\"font\": {\"color\": \"#FFFFFF\"}, \"showarrow\": false, \"text\": \"\", \"x\": 10, \"xref\": \"x\", \"y\": 4, \"yref\": \"y\"}, {\"font\": {\"color\": \"#000000\"}, \"showarrow\": false, \"text\": \"\", \"x\": 0, \"xref\": \"x\", \"y\": 5, \"yref\": \"y\"}, {\"font\": {\"color\": \"#000000\"}, \"showarrow\": false, \"text\": \"\", \"x\": 1, \"xref\": \"x\", \"y\": 5, \"yref\": \"y\"}, {\"font\": {\"color\": \"#000000\"}, \"showarrow\": false, \"text\": \"\", \"x\": 2, \"xref\": \"x\", \"y\": 5, \"yref\": \"y\"}, {\"font\": {\"color\": \"#000000\"}, \"showarrow\": false, \"text\": \"\", \"x\": 3, \"xref\": \"x\", \"y\": 5, \"yref\": \"y\"}, {\"font\": {\"color\": \"#000000\"}, \"showarrow\": false, \"text\": \"\", \"x\": 4, \"xref\": \"x\", \"y\": 5, \"yref\": \"y\"}, {\"font\": {\"color\": \"#000000\"}, \"showarrow\": false, \"text\": \"\", \"x\": 5, \"xref\": \"x\", \"y\": 5, \"yref\": \"y\"}, {\"font\": {\"color\": \"#000000\"}, \"showarrow\": false, \"text\": \"\", \"x\": 6, \"xref\": \"x\", \"y\": 5, \"yref\": \"y\"}, {\"font\": {\"color\": \"#000000\"}, \"showarrow\": false, \"text\": \"\", \"x\": 7, \"xref\": \"x\", \"y\": 5, \"yref\": \"y\"}, {\"font\": {\"color\": \"#000000\"}, \"showarrow\": false, \"text\": \"\", \"x\": 8, \"xref\": \"x\", \"y\": 5, \"yref\": \"y\"}, {\"font\": {\"color\": \"#000000\"}, \"showarrow\": false, \"text\": \"\", \"x\": 9, \"xref\": \"x\", \"y\": 5, \"yref\": \"y\"}, {\"font\": {\"color\": \"#FFFFFF\"}, \"showarrow\": false, \"text\": \"\", \"x\": 10, \"xref\": \"x\", \"y\": 5, \"yref\": \"y\"}, {\"font\": {\"color\": \"#000000\"}, \"showarrow\": false, \"text\": \"\", \"x\": 0, \"xref\": \"x\", \"y\": 6, \"yref\": \"y\"}, {\"font\": {\"color\": \"#000000\"}, \"showarrow\": false, \"text\": \"\", \"x\": 1, \"xref\": \"x\", \"y\": 6, \"yref\": \"y\"}, {\"font\": {\"color\": \"#000000\"}, \"showarrow\": false, \"text\": \"\", \"x\": 2, \"xref\": \"x\", \"y\": 6, \"yref\": \"y\"}, {\"font\": {\"color\": \"#000000\"}, \"showarrow\": false, \"text\": \"\", \"x\": 3, \"xref\": \"x\", \"y\": 6, \"yref\": \"y\"}, {\"font\": {\"color\": \"#000000\"}, \"showarrow\": false, \"text\": \"\", \"x\": 4, \"xref\": \"x\", \"y\": 6, \"yref\": \"y\"}, {\"font\": {\"color\": \"#000000\"}, \"showarrow\": false, \"text\": \"\", \"x\": 5, \"xref\": \"x\", \"y\": 6, \"yref\": \"y\"}, {\"font\": {\"color\": \"#000000\"}, \"showarrow\": false, \"text\": \"\", \"x\": 6, \"xref\": \"x\", \"y\": 6, \"yref\": \"y\"}, {\"font\": {\"color\": \"#000000\"}, \"showarrow\": false, \"text\": \"\", \"x\": 7, \"xref\": \"x\", \"y\": 6, \"yref\": \"y\"}, {\"font\": {\"color\": \"#000000\"}, \"showarrow\": false, \"text\": \"\", \"x\": 8, \"xref\": \"x\", \"y\": 6, \"yref\": \"y\"}, {\"font\": {\"color\": \"#000000\"}, \"showarrow\": false, \"text\": \"\", \"x\": 9, \"xref\": \"x\", \"y\": 6, \"yref\": \"y\"}, {\"font\": {\"color\": \"#FFFFFF\"}, \"showarrow\": false, \"text\": \"\", \"x\": 10, \"xref\": \"x\", \"y\": 6, \"yref\": \"y\"}, {\"font\": {\"color\": \"#000000\"}, \"showarrow\": false, \"text\": \"\", \"x\": 0, \"xref\": \"x\", \"y\": 7, \"yref\": \"y\"}, {\"font\": {\"color\": \"#000000\"}, \"showarrow\": false, \"text\": \"\", \"x\": 1, \"xref\": \"x\", \"y\": 7, \"yref\": \"y\"}, {\"font\": {\"color\": \"#000000\"}, \"showarrow\": false, \"text\": \"\", \"x\": 2, \"xref\": \"x\", \"y\": 7, \"yref\": \"y\"}, {\"font\": {\"color\": \"#000000\"}, \"showarrow\": false, \"text\": \"\", \"x\": 3, \"xref\": \"x\", \"y\": 7, \"yref\": \"y\"}, {\"font\": {\"color\": \"#000000\"}, \"showarrow\": false, \"text\": \"\", \"x\": 4, \"xref\": \"x\", \"y\": 7, \"yref\": \"y\"}, {\"font\": {\"color\": \"#000000\"}, \"showarrow\": false, \"text\": \"\", \"x\": 5, \"xref\": \"x\", \"y\": 7, \"yref\": \"y\"}, {\"font\": {\"color\": \"#000000\"}, \"showarrow\": false, \"text\": \"\", \"x\": 6, \"xref\": \"x\", \"y\": 7, \"yref\": \"y\"}, {\"font\": {\"color\": \"#000000\"}, \"showarrow\": false, \"text\": \"\", \"x\": 7, \"xref\": \"x\", \"y\": 7, \"yref\": \"y\"}, {\"font\": {\"color\": \"#000000\"}, \"showarrow\": false, \"text\": \"\", \"x\": 8, \"xref\": \"x\", \"y\": 7, \"yref\": \"y\"}, {\"font\": {\"color\": \"#000000\"}, \"showarrow\": false, \"text\": \"\", \"x\": 9, \"xref\": \"x\", \"y\": 7, \"yref\": \"y\"}, {\"font\": {\"color\": \"#FFFFFF\"}, \"showarrow\": false, \"text\": \"\", \"x\": 10, \"xref\": \"x\", \"y\": 7, \"yref\": \"y\"}, {\"font\": {\"color\": \"#000000\"}, \"showarrow\": false, \"text\": \"\", \"x\": 0, \"xref\": \"x\", \"y\": 8, \"yref\": \"y\"}, {\"font\": {\"color\": \"#000000\"}, \"showarrow\": false, \"text\": \"\", \"x\": 1, \"xref\": \"x\", \"y\": 8, \"yref\": \"y\"}, {\"font\": {\"color\": \"#000000\"}, \"showarrow\": false, \"text\": \"\", \"x\": 2, \"xref\": \"x\", \"y\": 8, \"yref\": \"y\"}, {\"font\": {\"color\": \"#000000\"}, \"showarrow\": false, \"text\": \"\", \"x\": 3, \"xref\": \"x\", \"y\": 8, \"yref\": \"y\"}, {\"font\": {\"color\": \"#000000\"}, \"showarrow\": false, \"text\": \"\", \"x\": 4, \"xref\": \"x\", \"y\": 8, \"yref\": \"y\"}, {\"font\": {\"color\": \"#000000\"}, \"showarrow\": false, \"text\": \"\", \"x\": 5, \"xref\": \"x\", \"y\": 8, \"yref\": \"y\"}, {\"font\": {\"color\": \"#000000\"}, \"showarrow\": false, \"text\": \"\", \"x\": 6, \"xref\": \"x\", \"y\": 8, \"yref\": \"y\"}, {\"font\": {\"color\": \"#000000\"}, \"showarrow\": false, \"text\": \"\", \"x\": 7, \"xref\": \"x\", \"y\": 8, \"yref\": \"y\"}, {\"font\": {\"color\": \"#000000\"}, \"showarrow\": false, \"text\": \"\", \"x\": 8, \"xref\": \"x\", \"y\": 8, \"yref\": \"y\"}, {\"font\": {\"color\": \"#000000\"}, \"showarrow\": false, \"text\": \"\", \"x\": 9, \"xref\": \"x\", \"y\": 8, \"yref\": \"y\"}, {\"font\": {\"color\": \"#FFFFFF\"}, \"showarrow\": false, \"text\": \"\", \"x\": 10, \"xref\": \"x\", \"y\": 8, \"yref\": \"y\"}, {\"font\": {\"color\": \"#FFFFFF\"}, \"showarrow\": false, \"text\": \"\", \"x\": 0, \"xref\": \"x\", \"y\": 9, \"yref\": \"y\"}, {\"font\": {\"color\": \"#000000\"}, \"showarrow\": false, \"text\": \"\", \"x\": 1, \"xref\": \"x\", \"y\": 9, \"yref\": \"y\"}, {\"font\": {\"color\": \"#000000\"}, \"showarrow\": false, \"text\": \"\", \"x\": 2, \"xref\": \"x\", \"y\": 9, \"yref\": \"y\"}, {\"font\": {\"color\": \"#000000\"}, \"showarrow\": false, \"text\": \"\", \"x\": 3, \"xref\": \"x\", \"y\": 9, \"yref\": \"y\"}, {\"font\": {\"color\": \"#000000\"}, \"showarrow\": false, \"text\": \"\", \"x\": 4, \"xref\": \"x\", \"y\": 9, \"yref\": \"y\"}, {\"font\": {\"color\": \"#000000\"}, \"showarrow\": false, \"text\": \"\", \"x\": 5, \"xref\": \"x\", \"y\": 9, \"yref\": \"y\"}, {\"font\": {\"color\": \"#000000\"}, \"showarrow\": false, \"text\": \"\", \"x\": 6, \"xref\": \"x\", \"y\": 9, \"yref\": \"y\"}, {\"font\": {\"color\": \"#000000\"}, \"showarrow\": false, \"text\": \"\", \"x\": 7, \"xref\": \"x\", \"y\": 9, \"yref\": \"y\"}, {\"font\": {\"color\": \"#000000\"}, \"showarrow\": false, \"text\": \"\", \"x\": 8, \"xref\": \"x\", \"y\": 9, \"yref\": \"y\"}, {\"font\": {\"color\": \"#000000\"}, \"showarrow\": false, \"text\": \"\", \"x\": 9, \"xref\": \"x\", \"y\": 9, \"yref\": \"y\"}, {\"font\": {\"color\": \"#FFFFFF\"}, \"showarrow\": false, \"text\": \"\", \"x\": 10, \"xref\": \"x\", \"y\": 9, \"yref\": \"y\"}, {\"font\": {\"color\": \"#FFFFFF\"}, \"showarrow\": false, \"text\": \"\", \"x\": 0, \"xref\": \"x\", \"y\": 10, \"yref\": \"y\"}, {\"font\": {\"color\": \"#FFFFFF\"}, \"showarrow\": false, \"text\": \"\", \"x\": 1, \"xref\": \"x\", \"y\": 10, \"yref\": \"y\"}, {\"font\": {\"color\": \"#FFFFFF\"}, \"showarrow\": false, \"text\": \"\", \"x\": 2, \"xref\": \"x\", \"y\": 10, \"yref\": \"y\"}, {\"font\": {\"color\": \"#FFFFFF\"}, \"showarrow\": false, \"text\": \"\", \"x\": 3, \"xref\": \"x\", \"y\": 10, \"yref\": \"y\"}, {\"font\": {\"color\": \"#FFFFFF\"}, \"showarrow\": false, \"text\": \"\", \"x\": 4, \"xref\": \"x\", \"y\": 10, \"yref\": \"y\"}, {\"font\": {\"color\": \"#FFFFFF\"}, \"showarrow\": false, \"text\": \"\", \"x\": 5, \"xref\": \"x\", \"y\": 10, \"yref\": \"y\"}, {\"font\": {\"color\": \"#FFFFFF\"}, \"showarrow\": false, \"text\": \"\", \"x\": 6, \"xref\": \"x\", \"y\": 10, \"yref\": \"y\"}, {\"font\": {\"color\": \"#FFFFFF\"}, \"showarrow\": false, \"text\": \"\", \"x\": 7, \"xref\": \"x\", \"y\": 10, \"yref\": \"y\"}, {\"font\": {\"color\": \"#FFFFFF\"}, \"showarrow\": false, \"text\": \"\", \"x\": 8, \"xref\": \"x\", \"y\": 10, \"yref\": \"y\"}, {\"font\": {\"color\": \"#FFFFFF\"}, \"showarrow\": false, \"text\": \"\", \"x\": 9, \"xref\": \"x\", \"y\": 10, \"yref\": \"y\"}, {\"font\": {\"color\": \"#FFFFFF\"}, \"showarrow\": false, \"text\": \"Free Parking\", \"x\": 10, \"xref\": \"x\", \"y\": 10, \"yref\": \"y\"}], \"xaxis\": {\"gridcolor\": \"rgb(0, 0, 0)\", \"showticklabels\": false, \"side\": \"top\", \"ticks\": \"\"}, \"yaxis\": {\"showticklabels\": false, \"ticks\": \"\", \"ticksuffix\": \"  \"}},\n",
       "                        {\"showLink\": false, \"linkText\": \"Export to plot.ly\", \"plotlyServerURL\": \"https://plot.ly\", \"responsive\": true}\n",
       "                    ).then(function(){\n",
       "                            \n",
       "var gd = document.getElementById('14383b7f-54ec-4607-991f-44192a7b9f93');\n",
       "var x = new MutationObserver(function (mutations, observer) {{\n",
       "        var display = window.getComputedStyle(gd).display;\n",
       "        if (!display || display === 'none') {{\n",
       "            console.log([gd, 'removed!']);\n",
       "            Plotly.purge(gd);\n",
       "            observer.disconnect();\n",
       "        }}\n",
       "}});\n",
       "\n",
       "// Listen for the removal of the full notebook cells\n",
       "var notebookContainer = gd.closest('#notebook-container');\n",
       "if (notebookContainer) {{\n",
       "    x.observe(notebookContainer, {childList: true});\n",
       "}}\n",
       "\n",
       "// Listen for the clearing of the current output cell\n",
       "var outputEl = gd.closest('.output');\n",
       "if (outputEl) {{\n",
       "    x.observe(outputEl, {childList: true});\n",
       "}}\n",
       "\n",
       "                        })\n",
       "                };\n",
       "                });\n",
       "            </script>\n",
       "        </div>"
      ]
     },
     "metadata": {},
     "output_type": "display_data"
    }
   ],
   "source": [
    "v = [1,2,3,4,5,6,7,8,9,10,11,12,13,14,15,16,17,18,19,20,21,22,23,24,25,26,27,28,29,30,31,32,33,34,35,36,37,38,39,40]\n",
    "\n",
    "z = [[v[10], v[9], v[8], v[7], v[6], v[5], v[4], v[3], v[2], v[1], v[0]],\n",
    "     [v[11], 0, 0, 0, 0, 0, 0, 0, 0, 0, v[39]],\n",
    "     [v[12], 0, 0, 0, 0, 0, 0, 0, 0, 0, v[38]],\n",
    "     [v[13], 0, 0, 0, 0, 0, 0, 0, 0, 0, v[37]],\n",
    "     [v[14], 0, 0, 0, 0, 0, 0, 0, 0, 0, v[36]],\n",
    "     [v[15], 0, 0, 0, 0, 0, 0, 0, 0, 0, v[35]],\n",
    "     [v[16], 0, 0, 0, 0, 0, 0, 0, 0, 0, v[34]],\n",
    "     [v[17], 0, 0, 0, 0, 0, 0, 0, 0, 0, v[33]],\n",
    "     [v[18], 0, 0, 0, 0, 0, 0, 0, 0, 0, v[32]],\n",
    "     [v[19], 0, 0, 0, 0, 0, 0, 0, 0, 0, v[31]],\n",
    "     [v[20], v[21], v[22], v[23], v[24], v[25], v[26], v[27], v[28], v[29], v[30]]\n",
    "     ]\n",
    "\n",
    "\n",
    "space_names = [['Jail', '', '', '', '', '', '', '', '', '', 'Go'],\n",
    "               ['', '', '', '', '', '', '', '', '', '', ''],\n",
    "               ['', '', '', '', '', '', '', '', '', '', ''],\n",
    "               ['', '', '', '', '', '', '', '', '', '', ''],\n",
    "               ['', '', '', '', '', '', '', '', '', '', ''],\n",
    "               ['', '', '', '', '', '', '', '', '', '', ''],\n",
    "               ['', '', '', '', '', '', '', '', '', '', ''],\n",
    "               ['', '', '', '', '', '', '', '', '', '', ''],\n",
    "               ['', '', '', '', '', '', '', '', '', '', ''],\n",
    "               ['', '', '', '', '', '', '', '', '', '', ''],\n",
    "               ['', '', '', '', '', '', '', '', '', '', 'Free Parking']]\n",
    "              \n",
    "    \n",
    "colorscale=[[0.0, 'rgb(255,255,255)'], [.01, 'rgb(173,216,230)'],\n",
    "            [.4, 'rgb(100,149,237)'], [.6, 'rgb(65,105,225)'],\n",
    "            [.8, 'rgb(0,0,205)'],[1.0, 'rgb(25,25,112)']]\n",
    "\n",
    "fig = ff.create_annotated_heatmap(z, annotation_text=space_names, colorscale=colorscale)\n",
    "plotly_plot(fig)"
   ]
  },
  {
   "cell_type": "code",
   "execution_count": 5,
   "metadata": {},
   "outputs": [
    {
     "data": {
      "application/vnd.plotly.v1+json": {
       "config": {
        "linkText": "Export to plot.ly",
        "plotlyServerURL": "https://plot.ly",
        "showLink": false
       },
       "data": [
        {
         "colorscale": [
          [
           0,
           "rgb(255,255,255)"
          ],
          [
           0.2,
           "rgb(255, 255, 153)"
          ],
          [
           0.4,
           "rgb(153, 255, 204)"
          ],
          [
           0.6,
           "rgb(179, 217, 255)"
          ],
          [
           0.8,
           "rgb(240, 179, 255)"
          ],
          [
           1,
           "rgb(255, 77, 148)"
          ]
         ],
         "hoverinfo": "text",
         "reversescale": false,
         "showscale": false,
         "text": [
          [
           "<br>Atomic Mass: 0.0",
           "<br>Atomic Mass: 0.0",
           "<br>Atomic Mass: 0.0",
           "<br>Atomic Mass: 0.0",
           "<br>Atomic Mass: 0.0",
           "<br>Atomic Mass: 0.0",
           "<br>Atomic Mass: 0.0",
           "<br>Atomic Mass: 0.0",
           "<br>Atomic Mass: 0.0",
           "<br>Atomic Mass: 0.0",
           "<br>Atomic Mass: 0.0",
           "<br>Atomic Mass: 0.0",
           "<br>Atomic Mass: 0.0",
           "<br>Atomic Mass: 0.0",
           "<br>Atomic Mass: 0.0",
           "<br>Atomic Mass: 0.0",
           "<br>Atomic Mass: 0.0",
           "<br>Atomic Mass: 0.0"
          ],
          [
           "<br>Atomic Mass: 0.0",
           "<br>Atomic Mass: 0.0",
           "<br>Atomic Mass: 0.0",
           "<br>Atomic Mass: 0.0",
           "<br>Atomic Mass: 0.0",
           "<br>Atomic Mass: 0.0",
           "<br>Atomic Mass: 0.0",
           "<br>Atomic Mass: 0.0",
           "<br>Atomic Mass: 0.0",
           "<br>Atomic Mass: 0.0",
           "<br>Atomic Mass: 0.0",
           "<br>Atomic Mass: 0.0",
           "<br>Atomic Mass: 0.0",
           "<br>Atomic Mass: 0.0",
           "<br>Atomic Mass: 0.0",
           "<br>Atomic Mass: 0.0",
           "<br>Atomic Mass: 0.0",
           "<br>Atomic Mass: 0.0"
          ],
          [
           "<br>Atomic Mass: 0.0",
           "<br>Atomic Mass: 0.0",
           "<br>Atomic Mass: 0.0",
           "<br>Atomic Mass: 0.0",
           "<br>Atomic Mass: 0.0",
           "<br>Atomic Mass: 0.0",
           "<br>Atomic Mass: 0.0",
           "<br>Atomic Mass: 0.0",
           "<br>Atomic Mass: 0.0",
           "<br>Atomic Mass: 0.0",
           "<br>Atomic Mass: 0.0",
           "<br>Atomic Mass: 0.0",
           "<br>Atomic Mass: 0.0",
           "<br>Atomic Mass: 0.0",
           "<br>Atomic Mass: 0.0",
           "<br>Atomic Mass: 0.0",
           "<br>Atomic Mass: 0.0",
           "<br>Atomic Mass: 0.0"
          ],
          [
           "<br>Atomic Mass: 0.0",
           "<br>Atomic Mass: 0.0",
           "Actinium<br>Atomic Mass: 227",
           "Thorium<br>Atomic Mass: 232.03806",
           "Protactinium<br>Atomic Mass: 231.03588",
           "Uranium<br>Atomic Mass: 238.02891",
           "Neptunium<br>Atomic Mass: 237",
           "Plutonium<br>Atomic Mass: 244",
           "Americium<br>Atomic Mass: 243",
           "Curium<br>Atomic Mass: 247",
           "Berkelium<br>Atomic Mass: 247",
           "Californium<br>Atomic Mass: 251",
           "Einsteinium<br>Atomic Mass: 252",
           "Fermium<br>Atomic Mass: 257",
           "Mendelevium<br>Atomic Mass: 258",
           "Nobelium<br>Atomic Mass: 259",
           "Lawrencium<br>Atomic Mass: 262",
           "<br>Atomic Mass: 0.0"
          ],
          [
           "<br>Atomic Mass: 0.0",
           "<br>Atomic Mass: 0.0",
           "Lanthanum<br>Atomic Mass: 138.90547",
           "Cerium<br>Atomic Mass: 140.116",
           "Praseodymium<br>Atomic Mass: 140.90765",
           "Neodymium<br>Atomic Mass: 144.242",
           "Promethium<br>Atomic Mass: 145",
           "Samarium<br>Atomic Mass: 150.36",
           "Europium<br>Atomic Mass: 151.964",
           "Gadolinium<br>Atomic Mass: 157.25",
           "Terbium<br>Atomic Mass: 158.92535",
           "Dysprosium<br>Atomic Mass: 162.5",
           "Holmium<br>Atomic Mass: 164.93032",
           "Erbium<br>Atomic Mass: 167.259",
           "Thulium<br>Atomic Mass: 168.93421",
           "Ytterbium<br>Atomic Mass: 173.054",
           "Lutetium<br>Atomic Mass: 174.9668",
           "<br>Atomic Mass: 0.0"
          ],
          [
           " Francium<br>Atomic Mass: 223",
           " Radium<br>Atomic Mass: 226",
           "<br>Atomic Mass: 0.0",
           "Rutherfordium<br>Atomic Mass: 267",
           "Dubnium<br>Atomic Mass: 268",
           "Seaborgium<br>Atomic Mass: 271",
           "Bohrium<br>Atomic Mass: 272",
           "Hassium<br>Atomic Mass: 270",
           "Meitnerium<br>Atomic Mass: 276",
           "Darmstadtium<br>Atomic Mass: 281",
           "Roentgenium<br>Atomic Mass: 280",
           "Copernicium<br>Atomic Mass: 285",
           "Ununtrium<br>Atomic Mass: 284",
           "Ununquadium<br>Atomic Mass: 289",
           "Ununpentium<br>Atomic Mass: 288",
           "Ununhexium<br>Atomic Mass: 293",
           "Ununseptium<br>Atomic Mass: unknown",
           "Ununoctium<br>Atomic Mass: 294"
          ],
          [
           " Cesium<br>Atomic Mass: 132.9054519",
           " Barium<br>Atomic Mass: 137.327",
           "<br>Atomic Mass: 0.0",
           "Hafnium<br>Atomic Mass: 178.49",
           "Tantalum<br>Atomic Mass: 180.94788",
           "Tungsten<br>Atomic Mass: 183.84",
           "Rhenium<br>Atomic Mass: 186.207",
           "Osmium<br>Atomic Mass: 190.23",
           "Iridium<br>Atomic Mass: 192.217",
           "Platinum<br>Atomic Mass: 195.084",
           "Gold<br>Atomic Mass: 196.966569",
           "Mercury<br>Atomic Mass: 200.59",
           "Thallium<br>Atomic Mass: 204.3833",
           "Lead<br>Atomic Mass: 207.2",
           "Bismuth<br>Atomic Mass: 208.9804",
           "Polonium<br>Atomic Mass: 209",
           "Astatine<br>Atomic Mass: 210",
           "Radon<br>Atomic Mass: 222"
          ],
          [
           "Rubidium<br>Atomic Mass: 85.4678",
           "Strontium<br>Atomic Mass: 87.62",
           "Yttrium<br>Atomic Mass: 88.90585",
           "Zirconium<br>Atomic Mass: 91.224",
           "Niobium<br>Atomic Mass: 92.90638",
           "Molybdenum<br>Atomic Mass: 95.96",
           "Technetium<br>Atomic Mass: 98",
           "Ruthenium<br>Atomic Mass: 101.07",
           "Rhodium<br>Atomic Mass: 102.9055",
           "Palladium<br>Atomic Mass: 106.42",
           "Silver<br>Atomic Mass: 107.8682",
           "Cadmium<br>Atomic Mass: 112.411",
           "Indium<br>Atomic Mass: 114.818",
           "Tin<br>Atomic Mass: 118.71",
           "Antimony<br>Atomic Mass: 121.76",
           "Tellurium<br>Atomic Mass: 127.6",
           "Iodine<br>Atomic Mass: 126.90447",
           "Xenon<br>Atomic Mass: 131.293"
          ],
          [
           "Potassium<br>Atomic Mass: 39.0983",
           " Calcium<br>Atomic Mass: 40.078",
           " Scandium<br>Atomic Mass: 44.955912",
           " Titanium<br>Atomic Mass: 47.867",
           " Vanadium<br>Atomic Mass: 50.9415",
           " Chromium<br>Atomic Mass: 51.9961",
           "Manganese<br>Atomic Mass: 54.938045",
           "Iron<br>Atomic Mass: 55.845",
           "Cobalt<br>Atomic Mass: 58.933195",
           "Nickel<br>Atomic Mass: 58.6934",
           "Copper<br>Atomic Mass: 63.546",
           "Zinc<br>Atomic Mass: 65.38",
           "Gallium<br>Atomic Mass: 69.723",
           "Germanium<br>Atomic Mass: 72.64",
           "Arsenic<br>Atomic Mass: 74.9216",
           "Selenium<br>Atomic Mass: 78.96",
           "Bromine<br>Atomic Mass: 79.904",
           "Krypton<br>Atomic Mass: 83.798"
          ],
          [
           "Sodium<br>Atomic Mass: 22.98976928",
           "Magnesium<br>Atomic Mass: 24.305",
           "<br>Atomic Mass: 0.0",
           "<br>Atomic Mass: 0.0",
           "<br>Atomic Mass: 0.0",
           "<br>Atomic Mass: 0.0",
           "<br>Atomic Mass: 0.0",
           "<br>Atomic Mass: 0.0",
           "<br>Atomic Mass: 0.0",
           "<br>Atomic Mass: 0.0",
           "<br>Atomic Mass: 0.0",
           "<br>Atomic Mass: 0.0",
           "Aluminium<br>Atomic Mass: 26.9815386",
           "Silicon<br>Atomic Mass: 28.0855",
           "Phosphorus<br>Atomic Mass: 30.973762",
           "Sulfur<br>Atomic Mass: 32.065",
           "Chlorine<br>Atomic Mass: 35.453",
           " Argon<br>Atomic Mass: 39.948"
          ],
          [
           "Lithium<br>Atomic Mass: 6.941",
           "Beryllium<br>Atomic Mass: 9.012182",
           "<br>Atomic Mass: 0.0",
           "<br>Atomic Mass: 0.0",
           "<br>Atomic Mass: 0.0",
           "<br>Atomic Mass: 0.0",
           "<br>Atomic Mass: 0.0",
           "<br>Atomic Mass: 0.0",
           "<br>Atomic Mass: 0.0",
           "<br>Atomic Mass: 0.0",
           "<br>Atomic Mass: 0.0",
           "<br>Atomic Mass: 0.0",
           "Boron<br>Atomic Mass: 10.811",
           "Carbon<br>Atomic Mass: 12.0107",
           "Nitrogen<br>Atomic Mass: 14.0067",
           "Oxygen<br>Atomic Mass: 15.9994",
           "Fluorine<br>Atomic Mass: 18.9984032",
           "Neon<br>Atomic Mass: 20.1797"
          ],
          [
           "Hydrogen<br>Atomic Mass: 1.00794",
           "<br>Atomic Mass: 0.0",
           "<br>Atomic Mass: 0.0",
           "<br>Atomic Mass: 0.0",
           "<br>Atomic Mass: 0.0",
           "<br>Atomic Mass: 0.0",
           "<br>Atomic Mass: 0.0",
           "<br>Atomic Mass: 0.0",
           "<br>Atomic Mass: 0.0",
           "<br>Atomic Mass: 0.0",
           "<br>Atomic Mass: 0.0",
           "<br>Atomic Mass: 0.0",
           "<br>Atomic Mass: 0.0",
           "<br>Atomic Mass: 0.0",
           "<br>Atomic Mass: 0.0",
           "<br>Atomic Mass: 0.0",
           "<br>Atomic Mass: 0.0",
           "Helium<br>Atomic Mass: 4.002602"
          ]
         ],
         "type": "heatmap",
         "uid": "bd0c2a44-a19b-45d4-a2d5-fe211a9d7000",
         "z": [
          [
           0.2,
           0.2,
           0.2,
           0.4,
           0.4,
           0.4,
           0.6,
           0.6,
           0.6,
           0.8,
           0.8,
           0.8,
           1,
           1,
           1,
           0,
           0,
           0
          ],
          [
           0.1,
           0.1,
           0.1,
           0.3,
           0.3,
           0.3,
           0.5,
           0.5,
           0.5,
           0.7,
           0.7,
           0.7,
           0.9,
           0.9,
           0.9,
           0,
           0,
           0
          ],
          [
           0,
           0,
           0,
           0,
           0,
           0,
           0,
           0,
           0,
           0,
           0,
           0,
           0,
           0,
           0,
           0,
           0,
           0
          ],
          [
           0,
           0,
           0.5,
           0.5,
           0.5,
           0.5,
           0.5,
           0.5,
           0.5,
           0.5,
           0.5,
           0.5,
           0.5,
           0.5,
           0.5,
           0.5,
           0.5,
           0
          ],
          [
           0,
           0,
           0.4,
           0.4,
           0.4,
           0.4,
           0.4,
           0.4,
           0.4,
           0.4,
           0.4,
           0.4,
           0.4,
           0.4,
           0.4,
           0.4,
           0.4,
           0
          ],
          [
           0.1,
           0.2,
           0.5,
           0.3,
           0.3,
           0.3,
           0.3,
           0.3,
           0.3,
           0.3,
           0.3,
           0.3,
           0.6,
           0.6,
           0.6,
           0.6,
           0.9,
           1
          ],
          [
           0.1,
           0.2,
           0.4,
           0.3,
           0.3,
           0.3,
           0.3,
           0.3,
           0.3,
           0.3,
           0.3,
           0.3,
           0.6,
           0.6,
           0.6,
           0.7,
           0.9,
           1
          ],
          [
           0.1,
           0.2,
           0.3,
           0.3,
           0.3,
           0.3,
           0.3,
           0.3,
           0.3,
           0.3,
           0.3,
           0.3,
           0.6,
           0.6,
           0.7,
           0.7,
           0.9,
           1
          ],
          [
           0.1,
           0.2,
           0.3,
           0.3,
           0.3,
           0.3,
           0.3,
           0.3,
           0.3,
           0.3,
           0.3,
           0.3,
           0.6,
           0.7,
           0.8,
           0.8,
           0.9,
           1
          ],
          [
           0.1,
           0.2,
           0,
           0,
           0,
           0,
           0,
           0,
           0,
           0,
           0,
           0,
           0.6,
           0.7,
           0.8,
           0.8,
           0.9,
           1
          ],
          [
           0.1,
           0.2,
           0,
           0,
           0,
           0,
           0,
           0,
           0,
           0,
           0,
           0,
           0.7,
           0.8,
           0.8,
           0.8,
           0.9,
           1
          ],
          [
           0.8,
           0,
           0,
           0,
           0,
           0,
           0,
           0,
           0,
           0,
           0,
           0,
           0,
           0,
           0,
           0,
           0,
           1
          ]
         ]
        }
       ],
       "layout": {
        "annotations": [
         {
          "font": {
           "color": "black"
          },
          "showarrow": false,
          "text": "",
          "x": 0,
          "xref": "x",
          "y": 0,
          "yref": "y"
         },
         {
          "font": {
           "color": "black"
          },
          "showarrow": false,
          "text": "Alkaline Metal",
          "x": 1,
          "xref": "x",
          "y": 0,
          "yref": "y"
         },
         {
          "font": {
           "color": "black"
          },
          "showarrow": false,
          "text": "",
          "x": 2,
          "xref": "x",
          "y": 0,
          "yref": "y"
         },
         {
          "font": {
           "color": "black"
          },
          "showarrow": false,
          "text": "",
          "x": 3,
          "xref": "x",
          "y": 0,
          "yref": "y"
         },
         {
          "font": {
           "color": "black"
          },
          "showarrow": false,
          "text": "Lanthanide",
          "x": 4,
          "xref": "x",
          "y": 0,
          "yref": "y"
         },
         {
          "font": {
           "color": "black"
          },
          "showarrow": false,
          "text": "",
          "x": 5,
          "xref": "x",
          "y": 0,
          "yref": "y"
         },
         {
          "font": {
           "color": "black"
          },
          "showarrow": false,
          "text": "",
          "x": 6,
          "xref": "x",
          "y": 0,
          "yref": "y"
         },
         {
          "font": {
           "color": "black"
          },
          "showarrow": false,
          "text": "Basic Metal",
          "x": 7,
          "xref": "x",
          "y": 0,
          "yref": "y"
         },
         {
          "font": {
           "color": "black"
          },
          "showarrow": false,
          "text": "",
          "x": 8,
          "xref": "x",
          "y": 0,
          "yref": "y"
         },
         {
          "font": {
           "color": "black"
          },
          "showarrow": false,
          "text": "",
          "x": 9,
          "xref": "x",
          "y": 0,
          "yref": "y"
         },
         {
          "font": {
           "color": "black"
          },
          "showarrow": false,
          "text": "Nonmetal",
          "x": 10,
          "xref": "x",
          "y": 0,
          "yref": "y"
         },
         {
          "font": {
           "color": "black"
          },
          "showarrow": false,
          "text": "",
          "x": 11,
          "xref": "x",
          "y": 0,
          "yref": "y"
         },
         {
          "font": {
           "color": "black"
          },
          "showarrow": false,
          "text": "",
          "x": 12,
          "xref": "x",
          "y": 0,
          "yref": "y"
         },
         {
          "font": {
           "color": "black"
          },
          "showarrow": false,
          "text": "Noble Gas",
          "x": 13,
          "xref": "x",
          "y": 0,
          "yref": "y"
         },
         {
          "font": {
           "color": "black"
          },
          "showarrow": false,
          "text": "",
          "x": 14,
          "xref": "x",
          "y": 0,
          "yref": "y"
         },
         {
          "font": {
           "color": "black"
          },
          "showarrow": false,
          "text": "",
          "x": 15,
          "xref": "x",
          "y": 0,
          "yref": "y"
         },
         {
          "font": {
           "color": "black"
          },
          "showarrow": false,
          "text": "",
          "x": 16,
          "xref": "x",
          "y": 0,
          "yref": "y"
         },
         {
          "font": {
           "color": "black"
          },
          "showarrow": false,
          "text": "",
          "x": 17,
          "xref": "x",
          "y": 0,
          "yref": "y"
         },
         {
          "font": {
           "color": "black"
          },
          "showarrow": false,
          "text": "",
          "x": 0,
          "xref": "x",
          "y": 1,
          "yref": "y"
         },
         {
          "font": {
           "color": "black"
          },
          "showarrow": false,
          "text": "Alkali Metal",
          "x": 1,
          "xref": "x",
          "y": 1,
          "yref": "y"
         },
         {
          "font": {
           "color": "black"
          },
          "showarrow": false,
          "text": "",
          "x": 2,
          "xref": "x",
          "y": 1,
          "yref": "y"
         },
         {
          "font": {
           "color": "black"
          },
          "showarrow": false,
          "text": "",
          "x": 3,
          "xref": "x",
          "y": 1,
          "yref": "y"
         },
         {
          "font": {
           "color": "black"
          },
          "showarrow": false,
          "text": "Transition Metal",
          "x": 4,
          "xref": "x",
          "y": 1,
          "yref": "y"
         },
         {
          "font": {
           "color": "black"
          },
          "showarrow": false,
          "text": "",
          "x": 5,
          "xref": "x",
          "y": 1,
          "yref": "y"
         },
         {
          "font": {
           "color": "black"
          },
          "showarrow": false,
          "text": "",
          "x": 6,
          "xref": "x",
          "y": 1,
          "yref": "y"
         },
         {
          "font": {
           "color": "black"
          },
          "showarrow": false,
          "text": "Actinide",
          "x": 7,
          "xref": "x",
          "y": 1,
          "yref": "y"
         },
         {
          "font": {
           "color": "black"
          },
          "showarrow": false,
          "text": "",
          "x": 8,
          "xref": "x",
          "y": 1,
          "yref": "y"
         },
         {
          "font": {
           "color": "black"
          },
          "showarrow": false,
          "text": "",
          "x": 9,
          "xref": "x",
          "y": 1,
          "yref": "y"
         },
         {
          "font": {
           "color": "black"
          },
          "showarrow": false,
          "text": "Semimetal",
          "x": 10,
          "xref": "x",
          "y": 1,
          "yref": "y"
         },
         {
          "font": {
           "color": "black"
          },
          "showarrow": false,
          "text": "",
          "x": 11,
          "xref": "x",
          "y": 1,
          "yref": "y"
         },
         {
          "font": {
           "color": "black"
          },
          "showarrow": false,
          "text": "",
          "x": 12,
          "xref": "x",
          "y": 1,
          "yref": "y"
         },
         {
          "font": {
           "color": "black"
          },
          "showarrow": false,
          "text": "Halogen",
          "x": 13,
          "xref": "x",
          "y": 1,
          "yref": "y"
         },
         {
          "font": {
           "color": "black"
          },
          "showarrow": false,
          "text": "",
          "x": 14,
          "xref": "x",
          "y": 1,
          "yref": "y"
         },
         {
          "font": {
           "color": "black"
          },
          "showarrow": false,
          "text": "",
          "x": 15,
          "xref": "x",
          "y": 1,
          "yref": "y"
         },
         {
          "font": {
           "color": "black"
          },
          "showarrow": false,
          "text": "",
          "x": 16,
          "xref": "x",
          "y": 1,
          "yref": "y"
         },
         {
          "font": {
           "color": "black"
          },
          "showarrow": false,
          "text": "",
          "x": 17,
          "xref": "x",
          "y": 1,
          "yref": "y"
         },
         {
          "font": {
           "color": "black"
          },
          "showarrow": false,
          "text": "",
          "x": 0,
          "xref": "x",
          "y": 2,
          "yref": "y"
         },
         {
          "font": {
           "color": "black"
          },
          "showarrow": false,
          "text": "",
          "x": 1,
          "xref": "x",
          "y": 2,
          "yref": "y"
         },
         {
          "font": {
           "color": "black"
          },
          "showarrow": false,
          "text": "",
          "x": 2,
          "xref": "x",
          "y": 2,
          "yref": "y"
         },
         {
          "font": {
           "color": "black"
          },
          "showarrow": false,
          "text": "",
          "x": 3,
          "xref": "x",
          "y": 2,
          "yref": "y"
         },
         {
          "font": {
           "color": "black"
          },
          "showarrow": false,
          "text": "",
          "x": 4,
          "xref": "x",
          "y": 2,
          "yref": "y"
         },
         {
          "font": {
           "color": "black"
          },
          "showarrow": false,
          "text": "",
          "x": 5,
          "xref": "x",
          "y": 2,
          "yref": "y"
         },
         {
          "font": {
           "color": "black"
          },
          "showarrow": false,
          "text": "",
          "x": 6,
          "xref": "x",
          "y": 2,
          "yref": "y"
         },
         {
          "font": {
           "color": "black"
          },
          "showarrow": false,
          "text": "",
          "x": 7,
          "xref": "x",
          "y": 2,
          "yref": "y"
         },
         {
          "font": {
           "color": "black"
          },
          "showarrow": false,
          "text": "",
          "x": 8,
          "xref": "x",
          "y": 2,
          "yref": "y"
         },
         {
          "font": {
           "color": "black"
          },
          "showarrow": false,
          "text": "",
          "x": 9,
          "xref": "x",
          "y": 2,
          "yref": "y"
         },
         {
          "font": {
           "color": "black"
          },
          "showarrow": false,
          "text": "",
          "x": 10,
          "xref": "x",
          "y": 2,
          "yref": "y"
         },
         {
          "font": {
           "color": "black"
          },
          "showarrow": false,
          "text": "",
          "x": 11,
          "xref": "x",
          "y": 2,
          "yref": "y"
         },
         {
          "font": {
           "color": "black"
          },
          "showarrow": false,
          "text": "",
          "x": 12,
          "xref": "x",
          "y": 2,
          "yref": "y"
         },
         {
          "font": {
           "color": "black"
          },
          "showarrow": false,
          "text": "",
          "x": 13,
          "xref": "x",
          "y": 2,
          "yref": "y"
         },
         {
          "font": {
           "color": "black"
          },
          "showarrow": false,
          "text": "",
          "x": 14,
          "xref": "x",
          "y": 2,
          "yref": "y"
         },
         {
          "font": {
           "color": "black"
          },
          "showarrow": false,
          "text": "",
          "x": 15,
          "xref": "x",
          "y": 2,
          "yref": "y"
         },
         {
          "font": {
           "color": "black"
          },
          "showarrow": false,
          "text": "",
          "x": 16,
          "xref": "x",
          "y": 2,
          "yref": "y"
         },
         {
          "font": {
           "color": "black"
          },
          "showarrow": false,
          "text": "",
          "x": 17,
          "xref": "x",
          "y": 2,
          "yref": "y"
         },
         {
          "font": {
           "color": "black"
          },
          "showarrow": false,
          "text": "",
          "x": 0,
          "xref": "x",
          "y": 3,
          "yref": "y"
         },
         {
          "font": {
           "color": "black"
          },
          "showarrow": false,
          "text": "",
          "x": 1,
          "xref": "x",
          "y": 3,
          "yref": "y"
         },
         {
          "font": {
           "color": "black"
          },
          "showarrow": false,
          "text": "Ac",
          "x": 2,
          "xref": "x",
          "y": 3,
          "yref": "y"
         },
         {
          "font": {
           "color": "black"
          },
          "showarrow": false,
          "text": "Th",
          "x": 3,
          "xref": "x",
          "y": 3,
          "yref": "y"
         },
         {
          "font": {
           "color": "black"
          },
          "showarrow": false,
          "text": "Pa",
          "x": 4,
          "xref": "x",
          "y": 3,
          "yref": "y"
         },
         {
          "font": {
           "color": "black"
          },
          "showarrow": false,
          "text": "U",
          "x": 5,
          "xref": "x",
          "y": 3,
          "yref": "y"
         },
         {
          "font": {
           "color": "black"
          },
          "showarrow": false,
          "text": "Np",
          "x": 6,
          "xref": "x",
          "y": 3,
          "yref": "y"
         },
         {
          "font": {
           "color": "black"
          },
          "showarrow": false,
          "text": "Pu",
          "x": 7,
          "xref": "x",
          "y": 3,
          "yref": "y"
         },
         {
          "font": {
           "color": "black"
          },
          "showarrow": false,
          "text": "Am",
          "x": 8,
          "xref": "x",
          "y": 3,
          "yref": "y"
         },
         {
          "font": {
           "color": "black"
          },
          "showarrow": false,
          "text": "Cm",
          "x": 9,
          "xref": "x",
          "y": 3,
          "yref": "y"
         },
         {
          "font": {
           "color": "black"
          },
          "showarrow": false,
          "text": "Bk",
          "x": 10,
          "xref": "x",
          "y": 3,
          "yref": "y"
         },
         {
          "font": {
           "color": "black"
          },
          "showarrow": false,
          "text": "Cf",
          "x": 11,
          "xref": "x",
          "y": 3,
          "yref": "y"
         },
         {
          "font": {
           "color": "black"
          },
          "showarrow": false,
          "text": "Es",
          "x": 12,
          "xref": "x",
          "y": 3,
          "yref": "y"
         },
         {
          "font": {
           "color": "black"
          },
          "showarrow": false,
          "text": "Fm",
          "x": 13,
          "xref": "x",
          "y": 3,
          "yref": "y"
         },
         {
          "font": {
           "color": "black"
          },
          "showarrow": false,
          "text": "Md",
          "x": 14,
          "xref": "x",
          "y": 3,
          "yref": "y"
         },
         {
          "font": {
           "color": "black"
          },
          "showarrow": false,
          "text": "No",
          "x": 15,
          "xref": "x",
          "y": 3,
          "yref": "y"
         },
         {
          "font": {
           "color": "black"
          },
          "showarrow": false,
          "text": "Lr",
          "x": 16,
          "xref": "x",
          "y": 3,
          "yref": "y"
         },
         {
          "font": {
           "color": "black"
          },
          "showarrow": false,
          "text": "",
          "x": 17,
          "xref": "x",
          "y": 3,
          "yref": "y"
         },
         {
          "font": {
           "color": "black"
          },
          "showarrow": false,
          "text": "",
          "x": 0,
          "xref": "x",
          "y": 4,
          "yref": "y"
         },
         {
          "font": {
           "color": "black"
          },
          "showarrow": false,
          "text": "",
          "x": 1,
          "xref": "x",
          "y": 4,
          "yref": "y"
         },
         {
          "font": {
           "color": "black"
          },
          "showarrow": false,
          "text": "La",
          "x": 2,
          "xref": "x",
          "y": 4,
          "yref": "y"
         },
         {
          "font": {
           "color": "black"
          },
          "showarrow": false,
          "text": "Ce",
          "x": 3,
          "xref": "x",
          "y": 4,
          "yref": "y"
         },
         {
          "font": {
           "color": "black"
          },
          "showarrow": false,
          "text": "Pr",
          "x": 4,
          "xref": "x",
          "y": 4,
          "yref": "y"
         },
         {
          "font": {
           "color": "black"
          },
          "showarrow": false,
          "text": "Nd",
          "x": 5,
          "xref": "x",
          "y": 4,
          "yref": "y"
         },
         {
          "font": {
           "color": "black"
          },
          "showarrow": false,
          "text": "Pm",
          "x": 6,
          "xref": "x",
          "y": 4,
          "yref": "y"
         },
         {
          "font": {
           "color": "black"
          },
          "showarrow": false,
          "text": "Sm",
          "x": 7,
          "xref": "x",
          "y": 4,
          "yref": "y"
         },
         {
          "font": {
           "color": "black"
          },
          "showarrow": false,
          "text": "Eu",
          "x": 8,
          "xref": "x",
          "y": 4,
          "yref": "y"
         },
         {
          "font": {
           "color": "black"
          },
          "showarrow": false,
          "text": "Gd",
          "x": 9,
          "xref": "x",
          "y": 4,
          "yref": "y"
         },
         {
          "font": {
           "color": "black"
          },
          "showarrow": false,
          "text": "Tb",
          "x": 10,
          "xref": "x",
          "y": 4,
          "yref": "y"
         },
         {
          "font": {
           "color": "black"
          },
          "showarrow": false,
          "text": "Dy",
          "x": 11,
          "xref": "x",
          "y": 4,
          "yref": "y"
         },
         {
          "font": {
           "color": "black"
          },
          "showarrow": false,
          "text": "Ho",
          "x": 12,
          "xref": "x",
          "y": 4,
          "yref": "y"
         },
         {
          "font": {
           "color": "black"
          },
          "showarrow": false,
          "text": "Er",
          "x": 13,
          "xref": "x",
          "y": 4,
          "yref": "y"
         },
         {
          "font": {
           "color": "black"
          },
          "showarrow": false,
          "text": "Tm",
          "x": 14,
          "xref": "x",
          "y": 4,
          "yref": "y"
         },
         {
          "font": {
           "color": "black"
          },
          "showarrow": false,
          "text": "Yb",
          "x": 15,
          "xref": "x",
          "y": 4,
          "yref": "y"
         },
         {
          "font": {
           "color": "black"
          },
          "showarrow": false,
          "text": "Lu",
          "x": 16,
          "xref": "x",
          "y": 4,
          "yref": "y"
         },
         {
          "font": {
           "color": "black"
          },
          "showarrow": false,
          "text": "",
          "x": 17,
          "xref": "x",
          "y": 4,
          "yref": "y"
         },
         {
          "font": {
           "color": "black"
          },
          "showarrow": false,
          "text": "Fr",
          "x": 0,
          "xref": "x",
          "y": 5,
          "yref": "y"
         },
         {
          "font": {
           "color": "black"
          },
          "showarrow": false,
          "text": "Ra",
          "x": 1,
          "xref": "x",
          "y": 5,
          "yref": "y"
         },
         {
          "font": {
           "color": "black"
          },
          "showarrow": false,
          "text": "",
          "x": 2,
          "xref": "x",
          "y": 5,
          "yref": "y"
         },
         {
          "font": {
           "color": "black"
          },
          "showarrow": false,
          "text": "Rf",
          "x": 3,
          "xref": "x",
          "y": 5,
          "yref": "y"
         },
         {
          "font": {
           "color": "black"
          },
          "showarrow": false,
          "text": "Db",
          "x": 4,
          "xref": "x",
          "y": 5,
          "yref": "y"
         },
         {
          "font": {
           "color": "black"
          },
          "showarrow": false,
          "text": "Sg",
          "x": 5,
          "xref": "x",
          "y": 5,
          "yref": "y"
         },
         {
          "font": {
           "color": "black"
          },
          "showarrow": false,
          "text": "Bh",
          "x": 6,
          "xref": "x",
          "y": 5,
          "yref": "y"
         },
         {
          "font": {
           "color": "black"
          },
          "showarrow": false,
          "text": "Hs",
          "x": 7,
          "xref": "x",
          "y": 5,
          "yref": "y"
         },
         {
          "font": {
           "color": "black"
          },
          "showarrow": false,
          "text": "Mt",
          "x": 8,
          "xref": "x",
          "y": 5,
          "yref": "y"
         },
         {
          "font": {
           "color": "black"
          },
          "showarrow": false,
          "text": "Ds",
          "x": 9,
          "xref": "x",
          "y": 5,
          "yref": "y"
         },
         {
          "font": {
           "color": "black"
          },
          "showarrow": false,
          "text": "Rg",
          "x": 10,
          "xref": "x",
          "y": 5,
          "yref": "y"
         },
         {
          "font": {
           "color": "black"
          },
          "showarrow": false,
          "text": "Cn",
          "x": 11,
          "xref": "x",
          "y": 5,
          "yref": "y"
         },
         {
          "font": {
           "color": "black"
          },
          "showarrow": false,
          "text": "Uut",
          "x": 12,
          "xref": "x",
          "y": 5,
          "yref": "y"
         },
         {
          "font": {
           "color": "black"
          },
          "showarrow": false,
          "text": "Fl",
          "x": 13,
          "xref": "x",
          "y": 5,
          "yref": "y"
         },
         {
          "font": {
           "color": "black"
          },
          "showarrow": false,
          "text": "Uup",
          "x": 14,
          "xref": "x",
          "y": 5,
          "yref": "y"
         },
         {
          "font": {
           "color": "black"
          },
          "showarrow": false,
          "text": "Lv",
          "x": 15,
          "xref": "x",
          "y": 5,
          "yref": "y"
         },
         {
          "font": {
           "color": "black"
          },
          "showarrow": false,
          "text": "Uus",
          "x": 16,
          "xref": "x",
          "y": 5,
          "yref": "y"
         },
         {
          "font": {
           "color": "black"
          },
          "showarrow": false,
          "text": "Uuo",
          "x": 17,
          "xref": "x",
          "y": 5,
          "yref": "y"
         },
         {
          "font": {
           "color": "black"
          },
          "showarrow": false,
          "text": "Cs",
          "x": 0,
          "xref": "x",
          "y": 6,
          "yref": "y"
         },
         {
          "font": {
           "color": "black"
          },
          "showarrow": false,
          "text": "Ba",
          "x": 1,
          "xref": "x",
          "y": 6,
          "yref": "y"
         },
         {
          "font": {
           "color": "black"
          },
          "showarrow": false,
          "text": "",
          "x": 2,
          "xref": "x",
          "y": 6,
          "yref": "y"
         },
         {
          "font": {
           "color": "black"
          },
          "showarrow": false,
          "text": "Hf",
          "x": 3,
          "xref": "x",
          "y": 6,
          "yref": "y"
         },
         {
          "font": {
           "color": "black"
          },
          "showarrow": false,
          "text": "Ta",
          "x": 4,
          "xref": "x",
          "y": 6,
          "yref": "y"
         },
         {
          "font": {
           "color": "black"
          },
          "showarrow": false,
          "text": "W",
          "x": 5,
          "xref": "x",
          "y": 6,
          "yref": "y"
         },
         {
          "font": {
           "color": "black"
          },
          "showarrow": false,
          "text": "Re",
          "x": 6,
          "xref": "x",
          "y": 6,
          "yref": "y"
         },
         {
          "font": {
           "color": "black"
          },
          "showarrow": false,
          "text": "Os",
          "x": 7,
          "xref": "x",
          "y": 6,
          "yref": "y"
         },
         {
          "font": {
           "color": "black"
          },
          "showarrow": false,
          "text": "Ir",
          "x": 8,
          "xref": "x",
          "y": 6,
          "yref": "y"
         },
         {
          "font": {
           "color": "black"
          },
          "showarrow": false,
          "text": "Pt",
          "x": 9,
          "xref": "x",
          "y": 6,
          "yref": "y"
         },
         {
          "font": {
           "color": "black"
          },
          "showarrow": false,
          "text": "Au",
          "x": 10,
          "xref": "x",
          "y": 6,
          "yref": "y"
         },
         {
          "font": {
           "color": "black"
          },
          "showarrow": false,
          "text": "Hg",
          "x": 11,
          "xref": "x",
          "y": 6,
          "yref": "y"
         },
         {
          "font": {
           "color": "black"
          },
          "showarrow": false,
          "text": "Tl",
          "x": 12,
          "xref": "x",
          "y": 6,
          "yref": "y"
         },
         {
          "font": {
           "color": "black"
          },
          "showarrow": false,
          "text": "Pb",
          "x": 13,
          "xref": "x",
          "y": 6,
          "yref": "y"
         },
         {
          "font": {
           "color": "black"
          },
          "showarrow": false,
          "text": "Bi",
          "x": 14,
          "xref": "x",
          "y": 6,
          "yref": "y"
         },
         {
          "font": {
           "color": "black"
          },
          "showarrow": false,
          "text": "Po",
          "x": 15,
          "xref": "x",
          "y": 6,
          "yref": "y"
         },
         {
          "font": {
           "color": "black"
          },
          "showarrow": false,
          "text": "At",
          "x": 16,
          "xref": "x",
          "y": 6,
          "yref": "y"
         },
         {
          "font": {
           "color": "black"
          },
          "showarrow": false,
          "text": "Rn",
          "x": 17,
          "xref": "x",
          "y": 6,
          "yref": "y"
         },
         {
          "font": {
           "color": "black"
          },
          "showarrow": false,
          "text": "Rb ",
          "x": 0,
          "xref": "x",
          "y": 7,
          "yref": "y"
         },
         {
          "font": {
           "color": "black"
          },
          "showarrow": false,
          "text": "Sr",
          "x": 1,
          "xref": "x",
          "y": 7,
          "yref": "y"
         },
         {
          "font": {
           "color": "black"
          },
          "showarrow": false,
          "text": "Y",
          "x": 2,
          "xref": "x",
          "y": 7,
          "yref": "y"
         },
         {
          "font": {
           "color": "black"
          },
          "showarrow": false,
          "text": "Zr",
          "x": 3,
          "xref": "x",
          "y": 7,
          "yref": "y"
         },
         {
          "font": {
           "color": "black"
          },
          "showarrow": false,
          "text": "Nb",
          "x": 4,
          "xref": "x",
          "y": 7,
          "yref": "y"
         },
         {
          "font": {
           "color": "black"
          },
          "showarrow": false,
          "text": "Mo",
          "x": 5,
          "xref": "x",
          "y": 7,
          "yref": "y"
         },
         {
          "font": {
           "color": "black"
          },
          "showarrow": false,
          "text": "Tc",
          "x": 6,
          "xref": "x",
          "y": 7,
          "yref": "y"
         },
         {
          "font": {
           "color": "black"
          },
          "showarrow": false,
          "text": "Ru",
          "x": 7,
          "xref": "x",
          "y": 7,
          "yref": "y"
         },
         {
          "font": {
           "color": "black"
          },
          "showarrow": false,
          "text": "Rh",
          "x": 8,
          "xref": "x",
          "y": 7,
          "yref": "y"
         },
         {
          "font": {
           "color": "black"
          },
          "showarrow": false,
          "text": "Pd",
          "x": 9,
          "xref": "x",
          "y": 7,
          "yref": "y"
         },
         {
          "font": {
           "color": "black"
          },
          "showarrow": false,
          "text": "Ag",
          "x": 10,
          "xref": "x",
          "y": 7,
          "yref": "y"
         },
         {
          "font": {
           "color": "black"
          },
          "showarrow": false,
          "text": "Cd",
          "x": 11,
          "xref": "x",
          "y": 7,
          "yref": "y"
         },
         {
          "font": {
           "color": "black"
          },
          "showarrow": false,
          "text": "In",
          "x": 12,
          "xref": "x",
          "y": 7,
          "yref": "y"
         },
         {
          "font": {
           "color": "black"
          },
          "showarrow": false,
          "text": "Sn",
          "x": 13,
          "xref": "x",
          "y": 7,
          "yref": "y"
         },
         {
          "font": {
           "color": "black"
          },
          "showarrow": false,
          "text": "Sb",
          "x": 14,
          "xref": "x",
          "y": 7,
          "yref": "y"
         },
         {
          "font": {
           "color": "black"
          },
          "showarrow": false,
          "text": "Te",
          "x": 15,
          "xref": "x",
          "y": 7,
          "yref": "y"
         },
         {
          "font": {
           "color": "black"
          },
          "showarrow": false,
          "text": "I",
          "x": 16,
          "xref": "x",
          "y": 7,
          "yref": "y"
         },
         {
          "font": {
           "color": "black"
          },
          "showarrow": false,
          "text": "Xe",
          "x": 17,
          "xref": "x",
          "y": 7,
          "yref": "y"
         },
         {
          "font": {
           "color": "black"
          },
          "showarrow": false,
          "text": "K",
          "x": 0,
          "xref": "x",
          "y": 8,
          "yref": "y"
         },
         {
          "font": {
           "color": "black"
          },
          "showarrow": false,
          "text": "Ca",
          "x": 1,
          "xref": "x",
          "y": 8,
          "yref": "y"
         },
         {
          "font": {
           "color": "black"
          },
          "showarrow": false,
          "text": "Sc",
          "x": 2,
          "xref": "x",
          "y": 8,
          "yref": "y"
         },
         {
          "font": {
           "color": "black"
          },
          "showarrow": false,
          "text": "Ti",
          "x": 3,
          "xref": "x",
          "y": 8,
          "yref": "y"
         },
         {
          "font": {
           "color": "black"
          },
          "showarrow": false,
          "text": "V",
          "x": 4,
          "xref": "x",
          "y": 8,
          "yref": "y"
         },
         {
          "font": {
           "color": "black"
          },
          "showarrow": false,
          "text": "Cr",
          "x": 5,
          "xref": "x",
          "y": 8,
          "yref": "y"
         },
         {
          "font": {
           "color": "black"
          },
          "showarrow": false,
          "text": "Mn",
          "x": 6,
          "xref": "x",
          "y": 8,
          "yref": "y"
         },
         {
          "font": {
           "color": "black"
          },
          "showarrow": false,
          "text": "Fe",
          "x": 7,
          "xref": "x",
          "y": 8,
          "yref": "y"
         },
         {
          "font": {
           "color": "black"
          },
          "showarrow": false,
          "text": "Co",
          "x": 8,
          "xref": "x",
          "y": 8,
          "yref": "y"
         },
         {
          "font": {
           "color": "black"
          },
          "showarrow": false,
          "text": "Ni",
          "x": 9,
          "xref": "x",
          "y": 8,
          "yref": "y"
         },
         {
          "font": {
           "color": "black"
          },
          "showarrow": false,
          "text": "Cu",
          "x": 10,
          "xref": "x",
          "y": 8,
          "yref": "y"
         },
         {
          "font": {
           "color": "black"
          },
          "showarrow": false,
          "text": "Zn",
          "x": 11,
          "xref": "x",
          "y": 8,
          "yref": "y"
         },
         {
          "font": {
           "color": "black"
          },
          "showarrow": false,
          "text": "Ga",
          "x": 12,
          "xref": "x",
          "y": 8,
          "yref": "y"
         },
         {
          "font": {
           "color": "black"
          },
          "showarrow": false,
          "text": "Ge",
          "x": 13,
          "xref": "x",
          "y": 8,
          "yref": "y"
         },
         {
          "font": {
           "color": "black"
          },
          "showarrow": false,
          "text": "As",
          "x": 14,
          "xref": "x",
          "y": 8,
          "yref": "y"
         },
         {
          "font": {
           "color": "black"
          },
          "showarrow": false,
          "text": "Se",
          "x": 15,
          "xref": "x",
          "y": 8,
          "yref": "y"
         },
         {
          "font": {
           "color": "black"
          },
          "showarrow": false,
          "text": "Br",
          "x": 16,
          "xref": "x",
          "y": 8,
          "yref": "y"
         },
         {
          "font": {
           "color": "black"
          },
          "showarrow": false,
          "text": "Kr",
          "x": 17,
          "xref": "x",
          "y": 8,
          "yref": "y"
         },
         {
          "font": {
           "color": "black"
          },
          "showarrow": false,
          "text": "Na",
          "x": 0,
          "xref": "x",
          "y": 9,
          "yref": "y"
         },
         {
          "font": {
           "color": "black"
          },
          "showarrow": false,
          "text": "Mg",
          "x": 1,
          "xref": "x",
          "y": 9,
          "yref": "y"
         },
         {
          "font": {
           "color": "black"
          },
          "showarrow": false,
          "text": "",
          "x": 2,
          "xref": "x",
          "y": 9,
          "yref": "y"
         },
         {
          "font": {
           "color": "black"
          },
          "showarrow": false,
          "text": "",
          "x": 3,
          "xref": "x",
          "y": 9,
          "yref": "y"
         },
         {
          "font": {
           "color": "black"
          },
          "showarrow": false,
          "text": "",
          "x": 4,
          "xref": "x",
          "y": 9,
          "yref": "y"
         },
         {
          "font": {
           "color": "black"
          },
          "showarrow": false,
          "text": "",
          "x": 5,
          "xref": "x",
          "y": 9,
          "yref": "y"
         },
         {
          "font": {
           "color": "black"
          },
          "showarrow": false,
          "text": "",
          "x": 6,
          "xref": "x",
          "y": 9,
          "yref": "y"
         },
         {
          "font": {
           "color": "black"
          },
          "showarrow": false,
          "text": "",
          "x": 7,
          "xref": "x",
          "y": 9,
          "yref": "y"
         },
         {
          "font": {
           "color": "black"
          },
          "showarrow": false,
          "text": "",
          "x": 8,
          "xref": "x",
          "y": 9,
          "yref": "y"
         },
         {
          "font": {
           "color": "black"
          },
          "showarrow": false,
          "text": "",
          "x": 9,
          "xref": "x",
          "y": 9,
          "yref": "y"
         },
         {
          "font": {
           "color": "black"
          },
          "showarrow": false,
          "text": "",
          "x": 10,
          "xref": "x",
          "y": 9,
          "yref": "y"
         },
         {
          "font": {
           "color": "black"
          },
          "showarrow": false,
          "text": "",
          "x": 11,
          "xref": "x",
          "y": 9,
          "yref": "y"
         },
         {
          "font": {
           "color": "black"
          },
          "showarrow": false,
          "text": "Al",
          "x": 12,
          "xref": "x",
          "y": 9,
          "yref": "y"
         },
         {
          "font": {
           "color": "black"
          },
          "showarrow": false,
          "text": "Si",
          "x": 13,
          "xref": "x",
          "y": 9,
          "yref": "y"
         },
         {
          "font": {
           "color": "black"
          },
          "showarrow": false,
          "text": "P",
          "x": 14,
          "xref": "x",
          "y": 9,
          "yref": "y"
         },
         {
          "font": {
           "color": "black"
          },
          "showarrow": false,
          "text": "S",
          "x": 15,
          "xref": "x",
          "y": 9,
          "yref": "y"
         },
         {
          "font": {
           "color": "black"
          },
          "showarrow": false,
          "text": "Cl",
          "x": 16,
          "xref": "x",
          "y": 9,
          "yref": "y"
         },
         {
          "font": {
           "color": "black"
          },
          "showarrow": false,
          "text": "Ar",
          "x": 17,
          "xref": "x",
          "y": 9,
          "yref": "y"
         },
         {
          "font": {
           "color": "black"
          },
          "showarrow": false,
          "text": "Li",
          "x": 0,
          "xref": "x",
          "y": 10,
          "yref": "y"
         },
         {
          "font": {
           "color": "black"
          },
          "showarrow": false,
          "text": "Be",
          "x": 1,
          "xref": "x",
          "y": 10,
          "yref": "y"
         },
         {
          "font": {
           "color": "black"
          },
          "showarrow": false,
          "text": "",
          "x": 2,
          "xref": "x",
          "y": 10,
          "yref": "y"
         },
         {
          "font": {
           "color": "black"
          },
          "showarrow": false,
          "text": "",
          "x": 3,
          "xref": "x",
          "y": 10,
          "yref": "y"
         },
         {
          "font": {
           "color": "black"
          },
          "showarrow": false,
          "text": "",
          "x": 4,
          "xref": "x",
          "y": 10,
          "yref": "y"
         },
         {
          "font": {
           "color": "black"
          },
          "showarrow": false,
          "text": "",
          "x": 5,
          "xref": "x",
          "y": 10,
          "yref": "y"
         },
         {
          "font": {
           "color": "black"
          },
          "showarrow": false,
          "text": "",
          "x": 6,
          "xref": "x",
          "y": 10,
          "yref": "y"
         },
         {
          "font": {
           "color": "black"
          },
          "showarrow": false,
          "text": "",
          "x": 7,
          "xref": "x",
          "y": 10,
          "yref": "y"
         },
         {
          "font": {
           "color": "black"
          },
          "showarrow": false,
          "text": "",
          "x": 8,
          "xref": "x",
          "y": 10,
          "yref": "y"
         },
         {
          "font": {
           "color": "black"
          },
          "showarrow": false,
          "text": "",
          "x": 9,
          "xref": "x",
          "y": 10,
          "yref": "y"
         },
         {
          "font": {
           "color": "black"
          },
          "showarrow": false,
          "text": "",
          "x": 10,
          "xref": "x",
          "y": 10,
          "yref": "y"
         },
         {
          "font": {
           "color": "black"
          },
          "showarrow": false,
          "text": "",
          "x": 11,
          "xref": "x",
          "y": 10,
          "yref": "y"
         },
         {
          "font": {
           "color": "black"
          },
          "showarrow": false,
          "text": "B",
          "x": 12,
          "xref": "x",
          "y": 10,
          "yref": "y"
         },
         {
          "font": {
           "color": "black"
          },
          "showarrow": false,
          "text": "C",
          "x": 13,
          "xref": "x",
          "y": 10,
          "yref": "y"
         },
         {
          "font": {
           "color": "black"
          },
          "showarrow": false,
          "text": "N",
          "x": 14,
          "xref": "x",
          "y": 10,
          "yref": "y"
         },
         {
          "font": {
           "color": "black"
          },
          "showarrow": false,
          "text": "O",
          "x": 15,
          "xref": "x",
          "y": 10,
          "yref": "y"
         },
         {
          "font": {
           "color": "black"
          },
          "showarrow": false,
          "text": "F",
          "x": 16,
          "xref": "x",
          "y": 10,
          "yref": "y"
         },
         {
          "font": {
           "color": "black"
          },
          "showarrow": false,
          "text": "Ne",
          "x": 17,
          "xref": "x",
          "y": 10,
          "yref": "y"
         },
         {
          "font": {
           "color": "black"
          },
          "showarrow": false,
          "text": "H",
          "x": 0,
          "xref": "x",
          "y": 11,
          "yref": "y"
         },
         {
          "font": {
           "color": "black"
          },
          "showarrow": false,
          "text": "",
          "x": 1,
          "xref": "x",
          "y": 11,
          "yref": "y"
         },
         {
          "font": {
           "color": "black"
          },
          "showarrow": false,
          "text": "",
          "x": 2,
          "xref": "x",
          "y": 11,
          "yref": "y"
         },
         {
          "font": {
           "color": "black"
          },
          "showarrow": false,
          "text": "",
          "x": 3,
          "xref": "x",
          "y": 11,
          "yref": "y"
         },
         {
          "font": {
           "color": "black"
          },
          "showarrow": false,
          "text": "",
          "x": 4,
          "xref": "x",
          "y": 11,
          "yref": "y"
         },
         {
          "font": {
           "color": "black"
          },
          "showarrow": false,
          "text": "",
          "x": 5,
          "xref": "x",
          "y": 11,
          "yref": "y"
         },
         {
          "font": {
           "color": "black"
          },
          "showarrow": false,
          "text": "",
          "x": 6,
          "xref": "x",
          "y": 11,
          "yref": "y"
         },
         {
          "font": {
           "color": "black"
          },
          "showarrow": false,
          "text": "",
          "x": 7,
          "xref": "x",
          "y": 11,
          "yref": "y"
         },
         {
          "font": {
           "color": "black"
          },
          "showarrow": false,
          "text": "",
          "x": 8,
          "xref": "x",
          "y": 11,
          "yref": "y"
         },
         {
          "font": {
           "color": "black"
          },
          "showarrow": false,
          "text": "",
          "x": 9,
          "xref": "x",
          "y": 11,
          "yref": "y"
         },
         {
          "font": {
           "color": "black"
          },
          "showarrow": false,
          "text": "",
          "x": 10,
          "xref": "x",
          "y": 11,
          "yref": "y"
         },
         {
          "font": {
           "color": "black"
          },
          "showarrow": false,
          "text": "",
          "x": 11,
          "xref": "x",
          "y": 11,
          "yref": "y"
         },
         {
          "font": {
           "color": "black"
          },
          "showarrow": false,
          "text": "",
          "x": 12,
          "xref": "x",
          "y": 11,
          "yref": "y"
         },
         {
          "font": {
           "color": "black"
          },
          "showarrow": false,
          "text": "",
          "x": 13,
          "xref": "x",
          "y": 11,
          "yref": "y"
         },
         {
          "font": {
           "color": "black"
          },
          "showarrow": false,
          "text": "",
          "x": 14,
          "xref": "x",
          "y": 11,
          "yref": "y"
         },
         {
          "font": {
           "color": "black"
          },
          "showarrow": false,
          "text": "",
          "x": 15,
          "xref": "x",
          "y": 11,
          "yref": "y"
         },
         {
          "font": {
           "color": "black"
          },
          "showarrow": false,
          "text": "",
          "x": 16,
          "xref": "x",
          "y": 11,
          "yref": "y"
         },
         {
          "font": {
           "color": "black"
          },
          "showarrow": false,
          "text": "He",
          "x": 17,
          "xref": "x",
          "y": 11,
          "yref": "y"
         }
        ],
        "xaxis": {
         "gridcolor": "rgb(0, 0, 0)",
         "showticklabels": false,
         "side": "top",
         "ticks": ""
        },
        "yaxis": {
         "showticklabels": false,
         "ticks": "",
         "ticksuffix": "  "
        }
       }
      },
      "text/html": [
       "<div>\n",
       "        \n",
       "        \n",
       "            <div id=\"2129b83d-57f9-4e28-ac15-21dfc0121428\" class=\"plotly-graph-div\" style=\"height:525px; width:100%;\"></div>\n",
       "            <script type=\"text/javascript\">\n",
       "                require([\"plotly\"], function(Plotly) {\n",
       "                    window.PLOTLYENV=window.PLOTLYENV || {};\n",
       "                    window.PLOTLYENV.BASE_URL='https://plot.ly';\n",
       "                    \n",
       "                if (document.getElementById(\"2129b83d-57f9-4e28-ac15-21dfc0121428\")) {\n",
       "                    Plotly.newPlot(\n",
       "                        '2129b83d-57f9-4e28-ac15-21dfc0121428',\n",
       "                        [{\"colorscale\": [[0.0, \"rgb(255,255,255)\"], [0.2, \"rgb(255, 255, 153)\"], [0.4, \"rgb(153, 255, 204)\"], [0.6, \"rgb(179, 217, 255)\"], [0.8, \"rgb(240, 179, 255)\"], [1.0, \"rgb(255, 77, 148)\"]], \"hoverinfo\": \"text\", \"reversescale\": false, \"showscale\": false, \"text\": [[\"<br>Atomic Mass: 0.0\", \"<br>Atomic Mass: 0.0\", \"<br>Atomic Mass: 0.0\", \"<br>Atomic Mass: 0.0\", \"<br>Atomic Mass: 0.0\", \"<br>Atomic Mass: 0.0\", \"<br>Atomic Mass: 0.0\", \"<br>Atomic Mass: 0.0\", \"<br>Atomic Mass: 0.0\", \"<br>Atomic Mass: 0.0\", \"<br>Atomic Mass: 0.0\", \"<br>Atomic Mass: 0.0\", \"<br>Atomic Mass: 0.0\", \"<br>Atomic Mass: 0.0\", \"<br>Atomic Mass: 0.0\", \"<br>Atomic Mass: 0.0\", \"<br>Atomic Mass: 0.0\", \"<br>Atomic Mass: 0.0\"], [\"<br>Atomic Mass: 0.0\", \"<br>Atomic Mass: 0.0\", \"<br>Atomic Mass: 0.0\", \"<br>Atomic Mass: 0.0\", \"<br>Atomic Mass: 0.0\", \"<br>Atomic Mass: 0.0\", \"<br>Atomic Mass: 0.0\", \"<br>Atomic Mass: 0.0\", \"<br>Atomic Mass: 0.0\", \"<br>Atomic Mass: 0.0\", \"<br>Atomic Mass: 0.0\", \"<br>Atomic Mass: 0.0\", \"<br>Atomic Mass: 0.0\", \"<br>Atomic Mass: 0.0\", \"<br>Atomic Mass: 0.0\", \"<br>Atomic Mass: 0.0\", \"<br>Atomic Mass: 0.0\", \"<br>Atomic Mass: 0.0\"], [\"<br>Atomic Mass: 0.0\", \"<br>Atomic Mass: 0.0\", \"<br>Atomic Mass: 0.0\", \"<br>Atomic Mass: 0.0\", \"<br>Atomic Mass: 0.0\", \"<br>Atomic Mass: 0.0\", \"<br>Atomic Mass: 0.0\", \"<br>Atomic Mass: 0.0\", \"<br>Atomic Mass: 0.0\", \"<br>Atomic Mass: 0.0\", \"<br>Atomic Mass: 0.0\", \"<br>Atomic Mass: 0.0\", \"<br>Atomic Mass: 0.0\", \"<br>Atomic Mass: 0.0\", \"<br>Atomic Mass: 0.0\", \"<br>Atomic Mass: 0.0\", \"<br>Atomic Mass: 0.0\", \"<br>Atomic Mass: 0.0\"], [\"<br>Atomic Mass: 0.0\", \"<br>Atomic Mass: 0.0\", \"Actinium<br>Atomic Mass: 227\", \"Thorium<br>Atomic Mass: 232.03806\", \"Protactinium<br>Atomic Mass: 231.03588\", \"Uranium<br>Atomic Mass: 238.02891\", \"Neptunium<br>Atomic Mass: 237\", \"Plutonium<br>Atomic Mass: 244\", \"Americium<br>Atomic Mass: 243\", \"Curium<br>Atomic Mass: 247\", \"Berkelium<br>Atomic Mass: 247\", \"Californium<br>Atomic Mass: 251\", \"Einsteinium<br>Atomic Mass: 252\", \"Fermium<br>Atomic Mass: 257\", \"Mendelevium<br>Atomic Mass: 258\", \"Nobelium<br>Atomic Mass: 259\", \"Lawrencium<br>Atomic Mass: 262\", \"<br>Atomic Mass: 0.0\"], [\"<br>Atomic Mass: 0.0\", \"<br>Atomic Mass: 0.0\", \"Lanthanum<br>Atomic Mass: 138.90547\", \"Cerium<br>Atomic Mass: 140.116\", \"Praseodymium<br>Atomic Mass: 140.90765\", \"Neodymium<br>Atomic Mass: 144.242\", \"Promethium<br>Atomic Mass: 145\", \"Samarium<br>Atomic Mass: 150.36\", \"Europium<br>Atomic Mass: 151.964\", \"Gadolinium<br>Atomic Mass: 157.25\", \"Terbium<br>Atomic Mass: 158.92535\", \"Dysprosium<br>Atomic Mass: 162.5\", \"Holmium<br>Atomic Mass: 164.93032\", \"Erbium<br>Atomic Mass: 167.259\", \"Thulium<br>Atomic Mass: 168.93421\", \"Ytterbium<br>Atomic Mass: 173.054\", \"Lutetium<br>Atomic Mass: 174.9668\", \"<br>Atomic Mass: 0.0\"], [\" Francium<br>Atomic Mass: 223\", \" Radium<br>Atomic Mass: 226\", \"<br>Atomic Mass: 0.0\", \"Rutherfordium<br>Atomic Mass: 267\", \"Dubnium<br>Atomic Mass: 268\", \"Seaborgium<br>Atomic Mass: 271\", \"Bohrium<br>Atomic Mass: 272\", \"Hassium<br>Atomic Mass: 270\", \"Meitnerium<br>Atomic Mass: 276\", \"Darmstadtium<br>Atomic Mass: 281\", \"Roentgenium<br>Atomic Mass: 280\", \"Copernicium<br>Atomic Mass: 285\", \"Ununtrium<br>Atomic Mass: 284\", \"Ununquadium<br>Atomic Mass: 289\", \"Ununpentium<br>Atomic Mass: 288\", \"Ununhexium<br>Atomic Mass: 293\", \"Ununseptium<br>Atomic Mass: unknown\", \"Ununoctium<br>Atomic Mass: 294\"], [\" Cesium<br>Atomic Mass: 132.9054519\", \" Barium<br>Atomic Mass: 137.327\", \"<br>Atomic Mass: 0.0\", \"Hafnium<br>Atomic Mass: 178.49\", \"Tantalum<br>Atomic Mass: 180.94788\", \"Tungsten<br>Atomic Mass: 183.84\", \"Rhenium<br>Atomic Mass: 186.207\", \"Osmium<br>Atomic Mass: 190.23\", \"Iridium<br>Atomic Mass: 192.217\", \"Platinum<br>Atomic Mass: 195.084\", \"Gold<br>Atomic Mass: 196.966569\", \"Mercury<br>Atomic Mass: 200.59\", \"Thallium<br>Atomic Mass: 204.3833\", \"Lead<br>Atomic Mass: 207.2\", \"Bismuth<br>Atomic Mass: 208.9804\", \"Polonium<br>Atomic Mass: 209\", \"Astatine<br>Atomic Mass: 210\", \"Radon<br>Atomic Mass: 222\"], [\"Rubidium<br>Atomic Mass: 85.4678\", \"Strontium<br>Atomic Mass: 87.62\", \"Yttrium<br>Atomic Mass: 88.90585\", \"Zirconium<br>Atomic Mass: 91.224\", \"Niobium<br>Atomic Mass: 92.90638\", \"Molybdenum<br>Atomic Mass: 95.96\", \"Technetium<br>Atomic Mass: 98\", \"Ruthenium<br>Atomic Mass: 101.07\", \"Rhodium<br>Atomic Mass: 102.9055\", \"Palladium<br>Atomic Mass: 106.42\", \"Silver<br>Atomic Mass: 107.8682\", \"Cadmium<br>Atomic Mass: 112.411\", \"Indium<br>Atomic Mass: 114.818\", \"Tin<br>Atomic Mass: 118.71\", \"Antimony<br>Atomic Mass: 121.76\", \"Tellurium<br>Atomic Mass: 127.6\", \"Iodine<br>Atomic Mass: 126.90447\", \"Xenon<br>Atomic Mass: 131.293\"], [\"Potassium<br>Atomic Mass: 39.0983\", \" Calcium<br>Atomic Mass: 40.078\", \" Scandium<br>Atomic Mass: 44.955912\", \" Titanium<br>Atomic Mass: 47.867\", \" Vanadium<br>Atomic Mass: 50.9415\", \" Chromium<br>Atomic Mass: 51.9961\", \"Manganese<br>Atomic Mass: 54.938045\", \"Iron<br>Atomic Mass: 55.845\", \"Cobalt<br>Atomic Mass: 58.933195\", \"Nickel<br>Atomic Mass: 58.6934\", \"Copper<br>Atomic Mass: 63.546\", \"Zinc<br>Atomic Mass: 65.38\", \"Gallium<br>Atomic Mass: 69.723\", \"Germanium<br>Atomic Mass: 72.64\", \"Arsenic<br>Atomic Mass: 74.9216\", \"Selenium<br>Atomic Mass: 78.96\", \"Bromine<br>Atomic Mass: 79.904\", \"Krypton<br>Atomic Mass: 83.798\"], [\"Sodium<br>Atomic Mass: 22.98976928\", \"Magnesium<br>Atomic Mass: 24.305\", \"<br>Atomic Mass: 0.0\", \"<br>Atomic Mass: 0.0\", \"<br>Atomic Mass: 0.0\", \"<br>Atomic Mass: 0.0\", \"<br>Atomic Mass: 0.0\", \"<br>Atomic Mass: 0.0\", \"<br>Atomic Mass: 0.0\", \"<br>Atomic Mass: 0.0\", \"<br>Atomic Mass: 0.0\", \"<br>Atomic Mass: 0.0\", \"Aluminium<br>Atomic Mass: 26.9815386\", \"Silicon<br>Atomic Mass: 28.0855\", \"Phosphorus<br>Atomic Mass: 30.973762\", \"Sulfur<br>Atomic Mass: 32.065\", \"Chlorine<br>Atomic Mass: 35.453\", \" Argon<br>Atomic Mass: 39.948\"], [\"Lithium<br>Atomic Mass: 6.941\", \"Beryllium<br>Atomic Mass: 9.012182\", \"<br>Atomic Mass: 0.0\", \"<br>Atomic Mass: 0.0\", \"<br>Atomic Mass: 0.0\", \"<br>Atomic Mass: 0.0\", \"<br>Atomic Mass: 0.0\", \"<br>Atomic Mass: 0.0\", \"<br>Atomic Mass: 0.0\", \"<br>Atomic Mass: 0.0\", \"<br>Atomic Mass: 0.0\", \"<br>Atomic Mass: 0.0\", \"Boron<br>Atomic Mass: 10.811\", \"Carbon<br>Atomic Mass: 12.0107\", \"Nitrogen<br>Atomic Mass: 14.0067\", \"Oxygen<br>Atomic Mass: 15.9994\", \"Fluorine<br>Atomic Mass: 18.9984032\", \"Neon<br>Atomic Mass: 20.1797\"], [\"Hydrogen<br>Atomic Mass: 1.00794\", \"<br>Atomic Mass: 0.0\", \"<br>Atomic Mass: 0.0\", \"<br>Atomic Mass: 0.0\", \"<br>Atomic Mass: 0.0\", \"<br>Atomic Mass: 0.0\", \"<br>Atomic Mass: 0.0\", \"<br>Atomic Mass: 0.0\", \"<br>Atomic Mass: 0.0\", \"<br>Atomic Mass: 0.0\", \"<br>Atomic Mass: 0.0\", \"<br>Atomic Mass: 0.0\", \"<br>Atomic Mass: 0.0\", \"<br>Atomic Mass: 0.0\", \"<br>Atomic Mass: 0.0\", \"<br>Atomic Mass: 0.0\", \"<br>Atomic Mass: 0.0\", \"Helium<br>Atomic Mass: 4.002602\"]], \"type\": \"heatmap\", \"uid\": \"bd0c2a44-a19b-45d4-a2d5-fe211a9d7000\", \"z\": [[0.2, 0.2, 0.2, 0.4, 0.4, 0.4, 0.6, 0.6, 0.6, 0.8, 0.8, 0.8, 1.0, 1.0, 1.0, 0.0, 0.0, 0.0], [0.1, 0.1, 0.1, 0.3, 0.3, 0.3, 0.5, 0.5, 0.5, 0.7, 0.7, 0.7, 0.9, 0.9, 0.9, 0.0, 0.0, 0.0], [0.0, 0.0, 0.0, 0.0, 0.0, 0.0, 0.0, 0.0, 0.0, 0.0, 0.0, 0.0, 0.0, 0.0, 0.0, 0.0, 0.0, 0.0], [0.0, 0.0, 0.5, 0.5, 0.5, 0.5, 0.5, 0.5, 0.5, 0.5, 0.5, 0.5, 0.5, 0.5, 0.5, 0.5, 0.5, 0.0], [0.0, 0.0, 0.4, 0.4, 0.4, 0.4, 0.4, 0.4, 0.4, 0.4, 0.4, 0.4, 0.4, 0.4, 0.4, 0.4, 0.4, 0.0], [0.1, 0.2, 0.5, 0.3, 0.3, 0.3, 0.3, 0.3, 0.3, 0.3, 0.3, 0.3, 0.6, 0.6, 0.6, 0.6, 0.9, 1.0], [0.1, 0.2, 0.4, 0.3, 0.3, 0.3, 0.3, 0.3, 0.3, 0.3, 0.3, 0.3, 0.6, 0.6, 0.6, 0.7, 0.9, 1.0], [0.1, 0.2, 0.3, 0.3, 0.3, 0.3, 0.3, 0.3, 0.3, 0.3, 0.3, 0.3, 0.6, 0.6, 0.7, 0.7, 0.9, 1.0], [0.1, 0.2, 0.3, 0.3, 0.3, 0.3, 0.3, 0.3, 0.3, 0.3, 0.3, 0.3, 0.6, 0.7, 0.8, 0.8, 0.9, 1.0], [0.1, 0.2, 0.0, 0.0, 0.0, 0.0, 0.0, 0.0, 0.0, 0.0, 0.0, 0.0, 0.6, 0.7, 0.8, 0.8, 0.9, 1], [0.1, 0.2, 0.0, 0.0, 0.0, 0.0, 0.0, 0.0, 0.0, 0.0, 0.0, 0.0, 0.7, 0.8, 0.8, 0.8, 0.9, 1.0], [0.8, 0.0, 0.0, 0.0, 0.0, 0.0, 0.0, 0.0, 0.0, 0.0, 0.0, 0.0, 0.0, 0.0, 0.0, 0.0, 0.0, 1.0]]}],\n",
       "                        {\"annotations\": [{\"font\": {\"color\": \"black\"}, \"showarrow\": false, \"text\": \"\", \"x\": 0, \"xref\": \"x\", \"y\": 0, \"yref\": \"y\"}, {\"font\": {\"color\": \"black\"}, \"showarrow\": false, \"text\": \"Alkaline Metal\", \"x\": 1, \"xref\": \"x\", \"y\": 0, \"yref\": \"y\"}, {\"font\": {\"color\": \"black\"}, \"showarrow\": false, \"text\": \"\", \"x\": 2, \"xref\": \"x\", \"y\": 0, \"yref\": \"y\"}, {\"font\": {\"color\": \"black\"}, \"showarrow\": false, \"text\": \"\", \"x\": 3, \"xref\": \"x\", \"y\": 0, \"yref\": \"y\"}, {\"font\": {\"color\": \"black\"}, \"showarrow\": false, \"text\": \"Lanthanide\", \"x\": 4, \"xref\": \"x\", \"y\": 0, \"yref\": \"y\"}, {\"font\": {\"color\": \"black\"}, \"showarrow\": false, \"text\": \"\", \"x\": 5, \"xref\": \"x\", \"y\": 0, \"yref\": \"y\"}, {\"font\": {\"color\": \"black\"}, \"showarrow\": false, \"text\": \"\", \"x\": 6, \"xref\": \"x\", \"y\": 0, \"yref\": \"y\"}, {\"font\": {\"color\": \"black\"}, \"showarrow\": false, \"text\": \"Basic Metal\", \"x\": 7, \"xref\": \"x\", \"y\": 0, \"yref\": \"y\"}, {\"font\": {\"color\": \"black\"}, \"showarrow\": false, \"text\": \"\", \"x\": 8, \"xref\": \"x\", \"y\": 0, \"yref\": \"y\"}, {\"font\": {\"color\": \"black\"}, \"showarrow\": false, \"text\": \"\", \"x\": 9, \"xref\": \"x\", \"y\": 0, \"yref\": \"y\"}, {\"font\": {\"color\": \"black\"}, \"showarrow\": false, \"text\": \"Nonmetal\", \"x\": 10, \"xref\": \"x\", \"y\": 0, \"yref\": \"y\"}, {\"font\": {\"color\": \"black\"}, \"showarrow\": false, \"text\": \"\", \"x\": 11, \"xref\": \"x\", \"y\": 0, \"yref\": \"y\"}, {\"font\": {\"color\": \"black\"}, \"showarrow\": false, \"text\": \"\", \"x\": 12, \"xref\": \"x\", \"y\": 0, \"yref\": \"y\"}, {\"font\": {\"color\": \"black\"}, \"showarrow\": false, \"text\": \"Noble Gas\", \"x\": 13, \"xref\": \"x\", \"y\": 0, \"yref\": \"y\"}, {\"font\": {\"color\": \"black\"}, \"showarrow\": false, \"text\": \"\", \"x\": 14, \"xref\": \"x\", \"y\": 0, \"yref\": \"y\"}, {\"font\": {\"color\": \"black\"}, \"showarrow\": false, \"text\": \"\", \"x\": 15, \"xref\": \"x\", \"y\": 0, \"yref\": \"y\"}, {\"font\": {\"color\": \"black\"}, \"showarrow\": false, \"text\": \"\", \"x\": 16, \"xref\": \"x\", \"y\": 0, \"yref\": \"y\"}, {\"font\": {\"color\": \"black\"}, \"showarrow\": false, \"text\": \"\", \"x\": 17, \"xref\": \"x\", \"y\": 0, \"yref\": \"y\"}, {\"font\": {\"color\": \"black\"}, \"showarrow\": false, \"text\": \"\", \"x\": 0, \"xref\": \"x\", \"y\": 1, \"yref\": \"y\"}, {\"font\": {\"color\": \"black\"}, \"showarrow\": false, \"text\": \"Alkali Metal\", \"x\": 1, \"xref\": \"x\", \"y\": 1, \"yref\": \"y\"}, {\"font\": {\"color\": \"black\"}, \"showarrow\": false, \"text\": \"\", \"x\": 2, \"xref\": \"x\", \"y\": 1, \"yref\": \"y\"}, {\"font\": {\"color\": \"black\"}, \"showarrow\": false, \"text\": \"\", \"x\": 3, \"xref\": \"x\", \"y\": 1, \"yref\": \"y\"}, {\"font\": {\"color\": \"black\"}, \"showarrow\": false, \"text\": \"Transition Metal\", \"x\": 4, \"xref\": \"x\", \"y\": 1, \"yref\": \"y\"}, {\"font\": {\"color\": \"black\"}, \"showarrow\": false, \"text\": \"\", \"x\": 5, \"xref\": \"x\", \"y\": 1, \"yref\": \"y\"}, {\"font\": {\"color\": \"black\"}, \"showarrow\": false, \"text\": \"\", \"x\": 6, \"xref\": \"x\", \"y\": 1, \"yref\": \"y\"}, {\"font\": {\"color\": \"black\"}, \"showarrow\": false, \"text\": \"Actinide\", \"x\": 7, \"xref\": \"x\", \"y\": 1, \"yref\": \"y\"}, {\"font\": {\"color\": \"black\"}, \"showarrow\": false, \"text\": \"\", \"x\": 8, \"xref\": \"x\", \"y\": 1, \"yref\": \"y\"}, {\"font\": {\"color\": \"black\"}, \"showarrow\": false, \"text\": \"\", \"x\": 9, \"xref\": \"x\", \"y\": 1, \"yref\": \"y\"}, {\"font\": {\"color\": \"black\"}, \"showarrow\": false, \"text\": \"Semimetal\", \"x\": 10, \"xref\": \"x\", \"y\": 1, \"yref\": \"y\"}, {\"font\": {\"color\": \"black\"}, \"showarrow\": false, \"text\": \"\", \"x\": 11, \"xref\": \"x\", \"y\": 1, \"yref\": \"y\"}, {\"font\": {\"color\": \"black\"}, \"showarrow\": false, \"text\": \"\", \"x\": 12, \"xref\": \"x\", \"y\": 1, \"yref\": \"y\"}, {\"font\": {\"color\": \"black\"}, \"showarrow\": false, \"text\": \"Halogen\", \"x\": 13, \"xref\": \"x\", \"y\": 1, \"yref\": \"y\"}, {\"font\": {\"color\": \"black\"}, \"showarrow\": false, \"text\": \"\", \"x\": 14, \"xref\": \"x\", \"y\": 1, \"yref\": \"y\"}, {\"font\": {\"color\": \"black\"}, \"showarrow\": false, \"text\": \"\", \"x\": 15, \"xref\": \"x\", \"y\": 1, \"yref\": \"y\"}, {\"font\": {\"color\": \"black\"}, \"showarrow\": false, \"text\": \"\", \"x\": 16, \"xref\": \"x\", \"y\": 1, \"yref\": \"y\"}, {\"font\": {\"color\": \"black\"}, \"showarrow\": false, \"text\": \"\", \"x\": 17, \"xref\": \"x\", \"y\": 1, \"yref\": \"y\"}, {\"font\": {\"color\": \"black\"}, \"showarrow\": false, \"text\": \"\", \"x\": 0, \"xref\": \"x\", \"y\": 2, \"yref\": \"y\"}, {\"font\": {\"color\": \"black\"}, \"showarrow\": false, \"text\": \"\", \"x\": 1, \"xref\": \"x\", \"y\": 2, \"yref\": \"y\"}, {\"font\": {\"color\": \"black\"}, \"showarrow\": false, \"text\": \"\", \"x\": 2, \"xref\": \"x\", \"y\": 2, \"yref\": \"y\"}, {\"font\": {\"color\": \"black\"}, \"showarrow\": false, \"text\": \"\", \"x\": 3, \"xref\": \"x\", \"y\": 2, \"yref\": \"y\"}, {\"font\": {\"color\": \"black\"}, \"showarrow\": false, \"text\": \"\", \"x\": 4, \"xref\": \"x\", \"y\": 2, \"yref\": \"y\"}, {\"font\": {\"color\": \"black\"}, \"showarrow\": false, \"text\": \"\", \"x\": 5, \"xref\": \"x\", \"y\": 2, \"yref\": \"y\"}, {\"font\": {\"color\": \"black\"}, \"showarrow\": false, \"text\": \"\", \"x\": 6, \"xref\": \"x\", \"y\": 2, \"yref\": \"y\"}, {\"font\": {\"color\": \"black\"}, \"showarrow\": false, \"text\": \"\", \"x\": 7, \"xref\": \"x\", \"y\": 2, \"yref\": \"y\"}, {\"font\": {\"color\": \"black\"}, \"showarrow\": false, \"text\": \"\", \"x\": 8, \"xref\": \"x\", \"y\": 2, \"yref\": \"y\"}, {\"font\": {\"color\": \"black\"}, \"showarrow\": false, \"text\": \"\", \"x\": 9, \"xref\": \"x\", \"y\": 2, \"yref\": \"y\"}, {\"font\": {\"color\": \"black\"}, \"showarrow\": false, \"text\": \"\", \"x\": 10, \"xref\": \"x\", \"y\": 2, \"yref\": \"y\"}, {\"font\": {\"color\": \"black\"}, \"showarrow\": false, \"text\": \"\", \"x\": 11, \"xref\": \"x\", \"y\": 2, \"yref\": \"y\"}, {\"font\": {\"color\": \"black\"}, \"showarrow\": false, \"text\": \"\", \"x\": 12, \"xref\": \"x\", \"y\": 2, \"yref\": \"y\"}, {\"font\": {\"color\": \"black\"}, \"showarrow\": false, \"text\": \"\", \"x\": 13, \"xref\": \"x\", \"y\": 2, \"yref\": \"y\"}, {\"font\": {\"color\": \"black\"}, \"showarrow\": false, \"text\": \"\", \"x\": 14, \"xref\": \"x\", \"y\": 2, \"yref\": \"y\"}, {\"font\": {\"color\": \"black\"}, \"showarrow\": false, \"text\": \"\", \"x\": 15, \"xref\": \"x\", \"y\": 2, \"yref\": \"y\"}, {\"font\": {\"color\": \"black\"}, \"showarrow\": false, \"text\": \"\", \"x\": 16, \"xref\": \"x\", \"y\": 2, \"yref\": \"y\"}, {\"font\": {\"color\": \"black\"}, \"showarrow\": false, \"text\": \"\", \"x\": 17, \"xref\": \"x\", \"y\": 2, \"yref\": \"y\"}, {\"font\": {\"color\": \"black\"}, \"showarrow\": false, \"text\": \"\", \"x\": 0, \"xref\": \"x\", \"y\": 3, \"yref\": \"y\"}, {\"font\": {\"color\": \"black\"}, \"showarrow\": false, \"text\": \"\", \"x\": 1, \"xref\": \"x\", \"y\": 3, \"yref\": \"y\"}, {\"font\": {\"color\": \"black\"}, \"showarrow\": false, \"text\": \"Ac\", \"x\": 2, \"xref\": \"x\", \"y\": 3, \"yref\": \"y\"}, {\"font\": {\"color\": \"black\"}, \"showarrow\": false, \"text\": \"Th\", \"x\": 3, \"xref\": \"x\", \"y\": 3, \"yref\": \"y\"}, {\"font\": {\"color\": \"black\"}, \"showarrow\": false, \"text\": \"Pa\", \"x\": 4, \"xref\": \"x\", \"y\": 3, \"yref\": \"y\"}, {\"font\": {\"color\": \"black\"}, \"showarrow\": false, \"text\": \"U\", \"x\": 5, \"xref\": \"x\", \"y\": 3, \"yref\": \"y\"}, {\"font\": {\"color\": \"black\"}, \"showarrow\": false, \"text\": \"Np\", \"x\": 6, \"xref\": \"x\", \"y\": 3, \"yref\": \"y\"}, {\"font\": {\"color\": \"black\"}, \"showarrow\": false, \"text\": \"Pu\", \"x\": 7, \"xref\": \"x\", \"y\": 3, \"yref\": \"y\"}, {\"font\": {\"color\": \"black\"}, \"showarrow\": false, \"text\": \"Am\", \"x\": 8, \"xref\": \"x\", \"y\": 3, \"yref\": \"y\"}, {\"font\": {\"color\": \"black\"}, \"showarrow\": false, \"text\": \"Cm\", \"x\": 9, \"xref\": \"x\", \"y\": 3, \"yref\": \"y\"}, {\"font\": {\"color\": \"black\"}, \"showarrow\": false, \"text\": \"Bk\", \"x\": 10, \"xref\": \"x\", \"y\": 3, \"yref\": \"y\"}, {\"font\": {\"color\": \"black\"}, \"showarrow\": false, \"text\": \"Cf\", \"x\": 11, \"xref\": \"x\", \"y\": 3, \"yref\": \"y\"}, {\"font\": {\"color\": \"black\"}, \"showarrow\": false, \"text\": \"Es\", \"x\": 12, \"xref\": \"x\", \"y\": 3, \"yref\": \"y\"}, {\"font\": {\"color\": \"black\"}, \"showarrow\": false, \"text\": \"Fm\", \"x\": 13, \"xref\": \"x\", \"y\": 3, \"yref\": \"y\"}, {\"font\": {\"color\": \"black\"}, \"showarrow\": false, \"text\": \"Md\", \"x\": 14, \"xref\": \"x\", \"y\": 3, \"yref\": \"y\"}, {\"font\": {\"color\": \"black\"}, \"showarrow\": false, \"text\": \"No\", \"x\": 15, \"xref\": \"x\", \"y\": 3, \"yref\": \"y\"}, {\"font\": {\"color\": \"black\"}, \"showarrow\": false, \"text\": \"Lr\", \"x\": 16, \"xref\": \"x\", \"y\": 3, \"yref\": \"y\"}, {\"font\": {\"color\": \"black\"}, \"showarrow\": false, \"text\": \"\", \"x\": 17, \"xref\": \"x\", \"y\": 3, \"yref\": \"y\"}, {\"font\": {\"color\": \"black\"}, \"showarrow\": false, \"text\": \"\", \"x\": 0, \"xref\": \"x\", \"y\": 4, \"yref\": \"y\"}, {\"font\": {\"color\": \"black\"}, \"showarrow\": false, \"text\": \"\", \"x\": 1, \"xref\": \"x\", \"y\": 4, \"yref\": \"y\"}, {\"font\": {\"color\": \"black\"}, \"showarrow\": false, \"text\": \"La\", \"x\": 2, \"xref\": \"x\", \"y\": 4, \"yref\": \"y\"}, {\"font\": {\"color\": \"black\"}, \"showarrow\": false, \"text\": \"Ce\", \"x\": 3, \"xref\": \"x\", \"y\": 4, \"yref\": \"y\"}, {\"font\": {\"color\": \"black\"}, \"showarrow\": false, \"text\": \"Pr\", \"x\": 4, \"xref\": \"x\", \"y\": 4, \"yref\": \"y\"}, {\"font\": {\"color\": \"black\"}, \"showarrow\": false, \"text\": \"Nd\", \"x\": 5, \"xref\": \"x\", \"y\": 4, \"yref\": \"y\"}, {\"font\": {\"color\": \"black\"}, \"showarrow\": false, \"text\": \"Pm\", \"x\": 6, \"xref\": \"x\", \"y\": 4, \"yref\": \"y\"}, {\"font\": {\"color\": \"black\"}, \"showarrow\": false, \"text\": \"Sm\", \"x\": 7, \"xref\": \"x\", \"y\": 4, \"yref\": \"y\"}, {\"font\": {\"color\": \"black\"}, \"showarrow\": false, \"text\": \"Eu\", \"x\": 8, \"xref\": \"x\", \"y\": 4, \"yref\": \"y\"}, {\"font\": {\"color\": \"black\"}, \"showarrow\": false, \"text\": \"Gd\", \"x\": 9, \"xref\": \"x\", \"y\": 4, \"yref\": \"y\"}, {\"font\": {\"color\": \"black\"}, \"showarrow\": false, \"text\": \"Tb\", \"x\": 10, \"xref\": \"x\", \"y\": 4, \"yref\": \"y\"}, {\"font\": {\"color\": \"black\"}, \"showarrow\": false, \"text\": \"Dy\", \"x\": 11, \"xref\": \"x\", \"y\": 4, \"yref\": \"y\"}, {\"font\": {\"color\": \"black\"}, \"showarrow\": false, \"text\": \"Ho\", \"x\": 12, \"xref\": \"x\", \"y\": 4, \"yref\": \"y\"}, {\"font\": {\"color\": \"black\"}, \"showarrow\": false, \"text\": \"Er\", \"x\": 13, \"xref\": \"x\", \"y\": 4, \"yref\": \"y\"}, {\"font\": {\"color\": \"black\"}, \"showarrow\": false, \"text\": \"Tm\", \"x\": 14, \"xref\": \"x\", \"y\": 4, \"yref\": \"y\"}, {\"font\": {\"color\": \"black\"}, \"showarrow\": false, \"text\": \"Yb\", \"x\": 15, \"xref\": \"x\", \"y\": 4, \"yref\": \"y\"}, {\"font\": {\"color\": \"black\"}, \"showarrow\": false, \"text\": \"Lu\", \"x\": 16, \"xref\": \"x\", \"y\": 4, \"yref\": \"y\"}, {\"font\": {\"color\": \"black\"}, \"showarrow\": false, \"text\": \"\", \"x\": 17, \"xref\": \"x\", \"y\": 4, \"yref\": \"y\"}, {\"font\": {\"color\": \"black\"}, \"showarrow\": false, \"text\": \"Fr\", \"x\": 0, \"xref\": \"x\", \"y\": 5, \"yref\": \"y\"}, {\"font\": {\"color\": \"black\"}, \"showarrow\": false, \"text\": \"Ra\", \"x\": 1, \"xref\": \"x\", \"y\": 5, \"yref\": \"y\"}, {\"font\": {\"color\": \"black\"}, \"showarrow\": false, \"text\": \"\", \"x\": 2, \"xref\": \"x\", \"y\": 5, \"yref\": \"y\"}, {\"font\": {\"color\": \"black\"}, \"showarrow\": false, \"text\": \"Rf\", \"x\": 3, \"xref\": \"x\", \"y\": 5, \"yref\": \"y\"}, {\"font\": {\"color\": \"black\"}, \"showarrow\": false, \"text\": \"Db\", \"x\": 4, \"xref\": \"x\", \"y\": 5, \"yref\": \"y\"}, {\"font\": {\"color\": \"black\"}, \"showarrow\": false, \"text\": \"Sg\", \"x\": 5, \"xref\": \"x\", \"y\": 5, \"yref\": \"y\"}, {\"font\": {\"color\": \"black\"}, \"showarrow\": false, \"text\": \"Bh\", \"x\": 6, \"xref\": \"x\", \"y\": 5, \"yref\": \"y\"}, {\"font\": {\"color\": \"black\"}, \"showarrow\": false, \"text\": \"Hs\", \"x\": 7, \"xref\": \"x\", \"y\": 5, \"yref\": \"y\"}, {\"font\": {\"color\": \"black\"}, \"showarrow\": false, \"text\": \"Mt\", \"x\": 8, \"xref\": \"x\", \"y\": 5, \"yref\": \"y\"}, {\"font\": {\"color\": \"black\"}, \"showarrow\": false, \"text\": \"Ds\", \"x\": 9, \"xref\": \"x\", \"y\": 5, \"yref\": \"y\"}, {\"font\": {\"color\": \"black\"}, \"showarrow\": false, \"text\": \"Rg\", \"x\": 10, \"xref\": \"x\", \"y\": 5, \"yref\": \"y\"}, {\"font\": {\"color\": \"black\"}, \"showarrow\": false, \"text\": \"Cn\", \"x\": 11, \"xref\": \"x\", \"y\": 5, \"yref\": \"y\"}, {\"font\": {\"color\": \"black\"}, \"showarrow\": false, \"text\": \"Uut\", \"x\": 12, \"xref\": \"x\", \"y\": 5, \"yref\": \"y\"}, {\"font\": {\"color\": \"black\"}, \"showarrow\": false, \"text\": \"Fl\", \"x\": 13, \"xref\": \"x\", \"y\": 5, \"yref\": \"y\"}, {\"font\": {\"color\": \"black\"}, \"showarrow\": false, \"text\": \"Uup\", \"x\": 14, \"xref\": \"x\", \"y\": 5, \"yref\": \"y\"}, {\"font\": {\"color\": \"black\"}, \"showarrow\": false, \"text\": \"Lv\", \"x\": 15, \"xref\": \"x\", \"y\": 5, \"yref\": \"y\"}, {\"font\": {\"color\": \"black\"}, \"showarrow\": false, \"text\": \"Uus\", \"x\": 16, \"xref\": \"x\", \"y\": 5, \"yref\": \"y\"}, {\"font\": {\"color\": \"black\"}, \"showarrow\": false, \"text\": \"Uuo\", \"x\": 17, \"xref\": \"x\", \"y\": 5, \"yref\": \"y\"}, {\"font\": {\"color\": \"black\"}, \"showarrow\": false, \"text\": \"Cs\", \"x\": 0, \"xref\": \"x\", \"y\": 6, \"yref\": \"y\"}, {\"font\": {\"color\": \"black\"}, \"showarrow\": false, \"text\": \"Ba\", \"x\": 1, \"xref\": \"x\", \"y\": 6, \"yref\": \"y\"}, {\"font\": {\"color\": \"black\"}, \"showarrow\": false, \"text\": \"\", \"x\": 2, \"xref\": \"x\", \"y\": 6, \"yref\": \"y\"}, {\"font\": {\"color\": \"black\"}, \"showarrow\": false, \"text\": \"Hf\", \"x\": 3, \"xref\": \"x\", \"y\": 6, \"yref\": \"y\"}, {\"font\": {\"color\": \"black\"}, \"showarrow\": false, \"text\": \"Ta\", \"x\": 4, \"xref\": \"x\", \"y\": 6, \"yref\": \"y\"}, {\"font\": {\"color\": \"black\"}, \"showarrow\": false, \"text\": \"W\", \"x\": 5, \"xref\": \"x\", \"y\": 6, \"yref\": \"y\"}, {\"font\": {\"color\": \"black\"}, \"showarrow\": false, \"text\": \"Re\", \"x\": 6, \"xref\": \"x\", \"y\": 6, \"yref\": \"y\"}, {\"font\": {\"color\": \"black\"}, \"showarrow\": false, \"text\": \"Os\", \"x\": 7, \"xref\": \"x\", \"y\": 6, \"yref\": \"y\"}, {\"font\": {\"color\": \"black\"}, \"showarrow\": false, \"text\": \"Ir\", \"x\": 8, \"xref\": \"x\", \"y\": 6, \"yref\": \"y\"}, {\"font\": {\"color\": \"black\"}, \"showarrow\": false, \"text\": \"Pt\", \"x\": 9, \"xref\": \"x\", \"y\": 6, \"yref\": \"y\"}, {\"font\": {\"color\": \"black\"}, \"showarrow\": false, \"text\": \"Au\", \"x\": 10, \"xref\": \"x\", \"y\": 6, \"yref\": \"y\"}, {\"font\": {\"color\": \"black\"}, \"showarrow\": false, \"text\": \"Hg\", \"x\": 11, \"xref\": \"x\", \"y\": 6, \"yref\": \"y\"}, {\"font\": {\"color\": \"black\"}, \"showarrow\": false, \"text\": \"Tl\", \"x\": 12, \"xref\": \"x\", \"y\": 6, \"yref\": \"y\"}, {\"font\": {\"color\": \"black\"}, \"showarrow\": false, \"text\": \"Pb\", \"x\": 13, \"xref\": \"x\", \"y\": 6, \"yref\": \"y\"}, {\"font\": {\"color\": \"black\"}, \"showarrow\": false, \"text\": \"Bi\", \"x\": 14, \"xref\": \"x\", \"y\": 6, \"yref\": \"y\"}, {\"font\": {\"color\": \"black\"}, \"showarrow\": false, \"text\": \"Po\", \"x\": 15, \"xref\": \"x\", \"y\": 6, \"yref\": \"y\"}, {\"font\": {\"color\": \"black\"}, \"showarrow\": false, \"text\": \"At\", \"x\": 16, \"xref\": \"x\", \"y\": 6, \"yref\": \"y\"}, {\"font\": {\"color\": \"black\"}, \"showarrow\": false, \"text\": \"Rn\", \"x\": 17, \"xref\": \"x\", \"y\": 6, \"yref\": \"y\"}, {\"font\": {\"color\": \"black\"}, \"showarrow\": false, \"text\": \"Rb \", \"x\": 0, \"xref\": \"x\", \"y\": 7, \"yref\": \"y\"}, {\"font\": {\"color\": \"black\"}, \"showarrow\": false, \"text\": \"Sr\", \"x\": 1, \"xref\": \"x\", \"y\": 7, \"yref\": \"y\"}, {\"font\": {\"color\": \"black\"}, \"showarrow\": false, \"text\": \"Y\", \"x\": 2, \"xref\": \"x\", \"y\": 7, \"yref\": \"y\"}, {\"font\": {\"color\": \"black\"}, \"showarrow\": false, \"text\": \"Zr\", \"x\": 3, \"xref\": \"x\", \"y\": 7, \"yref\": \"y\"}, {\"font\": {\"color\": \"black\"}, \"showarrow\": false, \"text\": \"Nb\", \"x\": 4, \"xref\": \"x\", \"y\": 7, \"yref\": \"y\"}, {\"font\": {\"color\": \"black\"}, \"showarrow\": false, \"text\": \"Mo\", \"x\": 5, \"xref\": \"x\", \"y\": 7, \"yref\": \"y\"}, {\"font\": {\"color\": \"black\"}, \"showarrow\": false, \"text\": \"Tc\", \"x\": 6, \"xref\": \"x\", \"y\": 7, \"yref\": \"y\"}, {\"font\": {\"color\": \"black\"}, \"showarrow\": false, \"text\": \"Ru\", \"x\": 7, \"xref\": \"x\", \"y\": 7, \"yref\": \"y\"}, {\"font\": {\"color\": \"black\"}, \"showarrow\": false, \"text\": \"Rh\", \"x\": 8, \"xref\": \"x\", \"y\": 7, \"yref\": \"y\"}, {\"font\": {\"color\": \"black\"}, \"showarrow\": false, \"text\": \"Pd\", \"x\": 9, \"xref\": \"x\", \"y\": 7, \"yref\": \"y\"}, {\"font\": {\"color\": \"black\"}, \"showarrow\": false, \"text\": \"Ag\", \"x\": 10, \"xref\": \"x\", \"y\": 7, \"yref\": \"y\"}, {\"font\": {\"color\": \"black\"}, \"showarrow\": false, \"text\": \"Cd\", \"x\": 11, \"xref\": \"x\", \"y\": 7, \"yref\": \"y\"}, {\"font\": {\"color\": \"black\"}, \"showarrow\": false, \"text\": \"In\", \"x\": 12, \"xref\": \"x\", \"y\": 7, \"yref\": \"y\"}, {\"font\": {\"color\": \"black\"}, \"showarrow\": false, \"text\": \"Sn\", \"x\": 13, \"xref\": \"x\", \"y\": 7, \"yref\": \"y\"}, {\"font\": {\"color\": \"black\"}, \"showarrow\": false, \"text\": \"Sb\", \"x\": 14, \"xref\": \"x\", \"y\": 7, \"yref\": \"y\"}, {\"font\": {\"color\": \"black\"}, \"showarrow\": false, \"text\": \"Te\", \"x\": 15, \"xref\": \"x\", \"y\": 7, \"yref\": \"y\"}, {\"font\": {\"color\": \"black\"}, \"showarrow\": false, \"text\": \"I\", \"x\": 16, \"xref\": \"x\", \"y\": 7, \"yref\": \"y\"}, {\"font\": {\"color\": \"black\"}, \"showarrow\": false, \"text\": \"Xe\", \"x\": 17, \"xref\": \"x\", \"y\": 7, \"yref\": \"y\"}, {\"font\": {\"color\": \"black\"}, \"showarrow\": false, \"text\": \"K\", \"x\": 0, \"xref\": \"x\", \"y\": 8, \"yref\": \"y\"}, {\"font\": {\"color\": \"black\"}, \"showarrow\": false, \"text\": \"Ca\", \"x\": 1, \"xref\": \"x\", \"y\": 8, \"yref\": \"y\"}, {\"font\": {\"color\": \"black\"}, \"showarrow\": false, \"text\": \"Sc\", \"x\": 2, \"xref\": \"x\", \"y\": 8, \"yref\": \"y\"}, {\"font\": {\"color\": \"black\"}, \"showarrow\": false, \"text\": \"Ti\", \"x\": 3, \"xref\": \"x\", \"y\": 8, \"yref\": \"y\"}, {\"font\": {\"color\": \"black\"}, \"showarrow\": false, \"text\": \"V\", \"x\": 4, \"xref\": \"x\", \"y\": 8, \"yref\": \"y\"}, {\"font\": {\"color\": \"black\"}, \"showarrow\": false, \"text\": \"Cr\", \"x\": 5, \"xref\": \"x\", \"y\": 8, \"yref\": \"y\"}, {\"font\": {\"color\": \"black\"}, \"showarrow\": false, \"text\": \"Mn\", \"x\": 6, \"xref\": \"x\", \"y\": 8, \"yref\": \"y\"}, {\"font\": {\"color\": \"black\"}, \"showarrow\": false, \"text\": \"Fe\", \"x\": 7, \"xref\": \"x\", \"y\": 8, \"yref\": \"y\"}, {\"font\": {\"color\": \"black\"}, \"showarrow\": false, \"text\": \"Co\", \"x\": 8, \"xref\": \"x\", \"y\": 8, \"yref\": \"y\"}, {\"font\": {\"color\": \"black\"}, \"showarrow\": false, \"text\": \"Ni\", \"x\": 9, \"xref\": \"x\", \"y\": 8, \"yref\": \"y\"}, {\"font\": {\"color\": \"black\"}, \"showarrow\": false, \"text\": \"Cu\", \"x\": 10, \"xref\": \"x\", \"y\": 8, \"yref\": \"y\"}, {\"font\": {\"color\": \"black\"}, \"showarrow\": false, \"text\": \"Zn\", \"x\": 11, \"xref\": \"x\", \"y\": 8, \"yref\": \"y\"}, {\"font\": {\"color\": \"black\"}, \"showarrow\": false, \"text\": \"Ga\", \"x\": 12, \"xref\": \"x\", \"y\": 8, \"yref\": \"y\"}, {\"font\": {\"color\": \"black\"}, \"showarrow\": false, \"text\": \"Ge\", \"x\": 13, \"xref\": \"x\", \"y\": 8, \"yref\": \"y\"}, {\"font\": {\"color\": \"black\"}, \"showarrow\": false, \"text\": \"As\", \"x\": 14, \"xref\": \"x\", \"y\": 8, \"yref\": \"y\"}, {\"font\": {\"color\": \"black\"}, \"showarrow\": false, \"text\": \"Se\", \"x\": 15, \"xref\": \"x\", \"y\": 8, \"yref\": \"y\"}, {\"font\": {\"color\": \"black\"}, \"showarrow\": false, \"text\": \"Br\", \"x\": 16, \"xref\": \"x\", \"y\": 8, \"yref\": \"y\"}, {\"font\": {\"color\": \"black\"}, \"showarrow\": false, \"text\": \"Kr\", \"x\": 17, \"xref\": \"x\", \"y\": 8, \"yref\": \"y\"}, {\"font\": {\"color\": \"black\"}, \"showarrow\": false, \"text\": \"Na\", \"x\": 0, \"xref\": \"x\", \"y\": 9, \"yref\": \"y\"}, {\"font\": {\"color\": \"black\"}, \"showarrow\": false, \"text\": \"Mg\", \"x\": 1, \"xref\": \"x\", \"y\": 9, \"yref\": \"y\"}, {\"font\": {\"color\": \"black\"}, \"showarrow\": false, \"text\": \"\", \"x\": 2, \"xref\": \"x\", \"y\": 9, \"yref\": \"y\"}, {\"font\": {\"color\": \"black\"}, \"showarrow\": false, \"text\": \"\", \"x\": 3, \"xref\": \"x\", \"y\": 9, \"yref\": \"y\"}, {\"font\": {\"color\": \"black\"}, \"showarrow\": false, \"text\": \"\", \"x\": 4, \"xref\": \"x\", \"y\": 9, \"yref\": \"y\"}, {\"font\": {\"color\": \"black\"}, \"showarrow\": false, \"text\": \"\", \"x\": 5, \"xref\": \"x\", \"y\": 9, \"yref\": \"y\"}, {\"font\": {\"color\": \"black\"}, \"showarrow\": false, \"text\": \"\", \"x\": 6, \"xref\": \"x\", \"y\": 9, \"yref\": \"y\"}, {\"font\": {\"color\": \"black\"}, \"showarrow\": false, \"text\": \"\", \"x\": 7, \"xref\": \"x\", \"y\": 9, \"yref\": \"y\"}, {\"font\": {\"color\": \"black\"}, \"showarrow\": false, \"text\": \"\", \"x\": 8, \"xref\": \"x\", \"y\": 9, \"yref\": \"y\"}, {\"font\": {\"color\": \"black\"}, \"showarrow\": false, \"text\": \"\", \"x\": 9, \"xref\": \"x\", \"y\": 9, \"yref\": \"y\"}, {\"font\": {\"color\": \"black\"}, \"showarrow\": false, \"text\": \"\", \"x\": 10, \"xref\": \"x\", \"y\": 9, \"yref\": \"y\"}, {\"font\": {\"color\": \"black\"}, \"showarrow\": false, \"text\": \"\", \"x\": 11, \"xref\": \"x\", \"y\": 9, \"yref\": \"y\"}, {\"font\": {\"color\": \"black\"}, \"showarrow\": false, \"text\": \"Al\", \"x\": 12, \"xref\": \"x\", \"y\": 9, \"yref\": \"y\"}, {\"font\": {\"color\": \"black\"}, \"showarrow\": false, \"text\": \"Si\", \"x\": 13, \"xref\": \"x\", \"y\": 9, \"yref\": \"y\"}, {\"font\": {\"color\": \"black\"}, \"showarrow\": false, \"text\": \"P\", \"x\": 14, \"xref\": \"x\", \"y\": 9, \"yref\": \"y\"}, {\"font\": {\"color\": \"black\"}, \"showarrow\": false, \"text\": \"S\", \"x\": 15, \"xref\": \"x\", \"y\": 9, \"yref\": \"y\"}, {\"font\": {\"color\": \"black\"}, \"showarrow\": false, \"text\": \"Cl\", \"x\": 16, \"xref\": \"x\", \"y\": 9, \"yref\": \"y\"}, {\"font\": {\"color\": \"black\"}, \"showarrow\": false, \"text\": \"Ar\", \"x\": 17, \"xref\": \"x\", \"y\": 9, \"yref\": \"y\"}, {\"font\": {\"color\": \"black\"}, \"showarrow\": false, \"text\": \"Li\", \"x\": 0, \"xref\": \"x\", \"y\": 10, \"yref\": \"y\"}, {\"font\": {\"color\": \"black\"}, \"showarrow\": false, \"text\": \"Be\", \"x\": 1, \"xref\": \"x\", \"y\": 10, \"yref\": \"y\"}, {\"font\": {\"color\": \"black\"}, \"showarrow\": false, \"text\": \"\", \"x\": 2, \"xref\": \"x\", \"y\": 10, \"yref\": \"y\"}, {\"font\": {\"color\": \"black\"}, \"showarrow\": false, \"text\": \"\", \"x\": 3, \"xref\": \"x\", \"y\": 10, \"yref\": \"y\"}, {\"font\": {\"color\": \"black\"}, \"showarrow\": false, \"text\": \"\", \"x\": 4, \"xref\": \"x\", \"y\": 10, \"yref\": \"y\"}, {\"font\": {\"color\": \"black\"}, \"showarrow\": false, \"text\": \"\", \"x\": 5, \"xref\": \"x\", \"y\": 10, \"yref\": \"y\"}, {\"font\": {\"color\": \"black\"}, \"showarrow\": false, \"text\": \"\", \"x\": 6, \"xref\": \"x\", \"y\": 10, \"yref\": \"y\"}, {\"font\": {\"color\": \"black\"}, \"showarrow\": false, \"text\": \"\", \"x\": 7, \"xref\": \"x\", \"y\": 10, \"yref\": \"y\"}, {\"font\": {\"color\": \"black\"}, \"showarrow\": false, \"text\": \"\", \"x\": 8, \"xref\": \"x\", \"y\": 10, \"yref\": \"y\"}, {\"font\": {\"color\": \"black\"}, \"showarrow\": false, \"text\": \"\", \"x\": 9, \"xref\": \"x\", \"y\": 10, \"yref\": \"y\"}, {\"font\": {\"color\": \"black\"}, \"showarrow\": false, \"text\": \"\", \"x\": 10, \"xref\": \"x\", \"y\": 10, \"yref\": \"y\"}, {\"font\": {\"color\": \"black\"}, \"showarrow\": false, \"text\": \"\", \"x\": 11, \"xref\": \"x\", \"y\": 10, \"yref\": \"y\"}, {\"font\": {\"color\": \"black\"}, \"showarrow\": false, \"text\": \"B\", \"x\": 12, \"xref\": \"x\", \"y\": 10, \"yref\": \"y\"}, {\"font\": {\"color\": \"black\"}, \"showarrow\": false, \"text\": \"C\", \"x\": 13, \"xref\": \"x\", \"y\": 10, \"yref\": \"y\"}, {\"font\": {\"color\": \"black\"}, \"showarrow\": false, \"text\": \"N\", \"x\": 14, \"xref\": \"x\", \"y\": 10, \"yref\": \"y\"}, {\"font\": {\"color\": \"black\"}, \"showarrow\": false, \"text\": \"O\", \"x\": 15, \"xref\": \"x\", \"y\": 10, \"yref\": \"y\"}, {\"font\": {\"color\": \"black\"}, \"showarrow\": false, \"text\": \"F\", \"x\": 16, \"xref\": \"x\", \"y\": 10, \"yref\": \"y\"}, {\"font\": {\"color\": \"black\"}, \"showarrow\": false, \"text\": \"Ne\", \"x\": 17, \"xref\": \"x\", \"y\": 10, \"yref\": \"y\"}, {\"font\": {\"color\": \"black\"}, \"showarrow\": false, \"text\": \"H\", \"x\": 0, \"xref\": \"x\", \"y\": 11, \"yref\": \"y\"}, {\"font\": {\"color\": \"black\"}, \"showarrow\": false, \"text\": \"\", \"x\": 1, \"xref\": \"x\", \"y\": 11, \"yref\": \"y\"}, {\"font\": {\"color\": \"black\"}, \"showarrow\": false, \"text\": \"\", \"x\": 2, \"xref\": \"x\", \"y\": 11, \"yref\": \"y\"}, {\"font\": {\"color\": \"black\"}, \"showarrow\": false, \"text\": \"\", \"x\": 3, \"xref\": \"x\", \"y\": 11, \"yref\": \"y\"}, {\"font\": {\"color\": \"black\"}, \"showarrow\": false, \"text\": \"\", \"x\": 4, \"xref\": \"x\", \"y\": 11, \"yref\": \"y\"}, {\"font\": {\"color\": \"black\"}, \"showarrow\": false, \"text\": \"\", \"x\": 5, \"xref\": \"x\", \"y\": 11, \"yref\": \"y\"}, {\"font\": {\"color\": \"black\"}, \"showarrow\": false, \"text\": \"\", \"x\": 6, \"xref\": \"x\", \"y\": 11, \"yref\": \"y\"}, {\"font\": {\"color\": \"black\"}, \"showarrow\": false, \"text\": \"\", \"x\": 7, \"xref\": \"x\", \"y\": 11, \"yref\": \"y\"}, {\"font\": {\"color\": \"black\"}, \"showarrow\": false, \"text\": \"\", \"x\": 8, \"xref\": \"x\", \"y\": 11, \"yref\": \"y\"}, {\"font\": {\"color\": \"black\"}, \"showarrow\": false, \"text\": \"\", \"x\": 9, \"xref\": \"x\", \"y\": 11, \"yref\": \"y\"}, {\"font\": {\"color\": \"black\"}, \"showarrow\": false, \"text\": \"\", \"x\": 10, \"xref\": \"x\", \"y\": 11, \"yref\": \"y\"}, {\"font\": {\"color\": \"black\"}, \"showarrow\": false, \"text\": \"\", \"x\": 11, \"xref\": \"x\", \"y\": 11, \"yref\": \"y\"}, {\"font\": {\"color\": \"black\"}, \"showarrow\": false, \"text\": \"\", \"x\": 12, \"xref\": \"x\", \"y\": 11, \"yref\": \"y\"}, {\"font\": {\"color\": \"black\"}, \"showarrow\": false, \"text\": \"\", \"x\": 13, \"xref\": \"x\", \"y\": 11, \"yref\": \"y\"}, {\"font\": {\"color\": \"black\"}, \"showarrow\": false, \"text\": \"\", \"x\": 14, \"xref\": \"x\", \"y\": 11, \"yref\": \"y\"}, {\"font\": {\"color\": \"black\"}, \"showarrow\": false, \"text\": \"\", \"x\": 15, \"xref\": \"x\", \"y\": 11, \"yref\": \"y\"}, {\"font\": {\"color\": \"black\"}, \"showarrow\": false, \"text\": \"\", \"x\": 16, \"xref\": \"x\", \"y\": 11, \"yref\": \"y\"}, {\"font\": {\"color\": \"black\"}, \"showarrow\": false, \"text\": \"He\", \"x\": 17, \"xref\": \"x\", \"y\": 11, \"yref\": \"y\"}], \"xaxis\": {\"gridcolor\": \"rgb(0, 0, 0)\", \"showticklabels\": false, \"side\": \"top\", \"ticks\": \"\"}, \"yaxis\": {\"showticklabels\": false, \"ticks\": \"\", \"ticksuffix\": \"  \"}},\n",
       "                        {\"showLink\": false, \"linkText\": \"Export to plot.ly\", \"plotlyServerURL\": \"https://plot.ly\", \"responsive\": true}\n",
       "                    ).then(function(){\n",
       "                            \n",
       "var gd = document.getElementById('2129b83d-57f9-4e28-ac15-21dfc0121428');\n",
       "var x = new MutationObserver(function (mutations, observer) {{\n",
       "        var display = window.getComputedStyle(gd).display;\n",
       "        if (!display || display === 'none') {{\n",
       "            console.log([gd, 'removed!']);\n",
       "            Plotly.purge(gd);\n",
       "            observer.disconnect();\n",
       "        }}\n",
       "}});\n",
       "\n",
       "// Listen for the removal of the full notebook cells\n",
       "var notebookContainer = gd.closest('#notebook-container');\n",
       "if (notebookContainer) {{\n",
       "    x.observe(notebookContainer, {childList: true});\n",
       "}}\n",
       "\n",
       "// Listen for the clearing of the current output cell\n",
       "var outputEl = gd.closest('.output');\n",
       "if (outputEl) {{\n",
       "    x.observe(outputEl, {childList: true});\n",
       "}}\n",
       "\n",
       "                        })\n",
       "                };\n",
       "                });\n",
       "            </script>\n",
       "        </div>"
      ]
     },
     "metadata": {},
     "output_type": "display_data"
    }
   ],
   "source": [
    "# Add Periodic Table Data\n",
    "symbol = [['H', '', '', '', '', '', '', '', '', '', '', '', '', '', '', '', '', 'He'],\n",
    "         ['Li', 'Be', '', '', '', '', '', '', '', '', '', '', 'B', 'C', 'N', 'O', 'F', 'Ne'],\n",
    "         ['Na', 'Mg', '', '', '', '', '', '', '', '', '', '', 'Al', 'Si', 'P', 'S', 'Cl', 'Ar'],\n",
    "         ['K', 'Ca', 'Sc', 'Ti', 'V', 'Cr', 'Mn', 'Fe', 'Co', 'Ni', 'Cu', 'Zn', 'Ga', 'Ge', 'As', 'Se', 'Br', 'Kr'],\n",
    "         ['Rb ', 'Sr', 'Y', 'Zr', 'Nb', 'Mo', 'Tc', 'Ru', 'Rh', 'Pd', 'Ag', 'Cd', 'In', 'Sn', 'Sb', 'Te', 'I', 'Xe' ],\n",
    "         ['Cs', 'Ba', '', 'Hf', 'Ta', 'W', 'Re', 'Os', 'Ir', 'Pt', 'Au', 'Hg', 'Tl', 'Pb', 'Bi', 'Po', 'At', 'Rn' ],\n",
    "         ['Fr', 'Ra', '', 'Rf', 'Db', 'Sg', 'Bh', 'Hs', 'Mt', 'Ds', 'Rg', 'Cn', 'Uut', 'Fl', 'Uup', 'Lv', 'Uus', 'Uuo'],\n",
    "         ['', '', 'La', 'Ce', 'Pr', 'Nd', 'Pm', 'Sm', 'Eu', 'Gd', 'Tb', 'Dy', 'Ho', 'Er', 'Tm', 'Yb', 'Lu', ''],\n",
    "         ['', '', 'Ac', 'Th', 'Pa', 'U', 'Np', 'Pu', 'Am', 'Cm', 'Bk', 'Cf', 'Es', 'Fm', 'Md', 'No', 'Lr', '' ],\n",
    "         ['', '', '', '', '', '', '', '', '', '', '', '', '', '', '', '', '', ''],\n",
    "         ['', 'Alkali Metal', '', '', 'Transition Metal', '', '', 'Actinide', '', '', 'Semimetal', '', '', 'Halogen', '', '', '', ''],\n",
    "         ['', 'Alkaline Metal', '', '', 'Lanthanide', '', '', 'Basic Metal', '', '', 'Nonmetal', '', '', 'Noble Gas', '', '', '', '']]\n",
    "\n",
    "element = [['Hydrogen', '', '', '', '', '', '', '', '', '', '', '', '', '', '', '', '', 'Helium'],\n",
    "           ['Lithium', 'Beryllium', '', '', '', '', '', '', '', '', '', '', 'Boron', 'Carbon', 'Nitrogen', 'Oxygen', 'Fluorine', 'Neon'],\n",
    "           ['Sodium', 'Magnesium', '', '', '', '', '', '', '', '', '', '', 'Aluminium', 'Silicon', 'Phosphorus', 'Sulfur', 'Chlorine', ' Argon'],\n",
    "           ['Potassium', ' Calcium', ' Scandium', ' Titanium', ' Vanadium', ' Chromium',  'Manganese', 'Iron', 'Cobalt', 'Nickel', 'Copper', 'Zinc', 'Gallium', 'Germanium', 'Arsenic', 'Selenium', 'Bromine', 'Krypton'],\n",
    "           ['Rubidium', 'Strontium', 'Yttrium', 'Zirconium', 'Niobium', 'Molybdenum', 'Technetium', 'Ruthenium', 'Rhodium', 'Palladium', 'Silver', 'Cadmium', 'Indium', 'Tin', 'Antimony', 'Tellurium', 'Iodine', 'Xenon'],\n",
    "           [' Cesium', ' Barium', '',  'Hafnium', 'Tantalum', 'Tungsten', 'Rhenium', 'Osmium', 'Iridium', 'Platinum', 'Gold', 'Mercury', 'Thallium', 'Lead', 'Bismuth', 'Polonium', 'Astatine', 'Radon'],\n",
    "           [' Francium', ' Radium', '', 'Rutherfordium','Dubnium','Seaborgium','Bohrium','Hassium','Meitnerium','Darmstadtium','Roentgenium','Copernicium','Ununtrium','Ununquadium','Ununpentium','Ununhexium','Ununseptium','Ununoctium'],\n",
    "           ['', '',  'Lanthanum', 'Cerium', 'Praseodymium', 'Neodymium', 'Promethium', 'Samarium', 'Europium', 'Gadolinium', 'Terbium', 'Dysprosium', 'Holmium', 'Erbium', 'Thulium', 'Ytterbium', 'Lutetium', ''],\n",
    "           ['', '', 'Actinium', 'Thorium', 'Protactinium', 'Uranium', 'Neptunium', 'Plutonium', 'Americium', 'Curium', 'Berkelium', 'Californium', 'Einsteinium','Fermium' ,'Mendelevium', 'Nobelium', 'Lawrencium', '' ],\n",
    "           ['', '', '', '', '', '', '', '', '', '', '', '', '', '', '', '', '', ''],\n",
    "           ['', '', '', '', '', '', '', '', '', '', '', '', '', '', '', '', '', ''],\n",
    "           ['', '', '', '', '', '', '', '', '', '', '', '', '', '', '', '', '', '']]\n",
    "\n",
    "atomic_mass = [[ 1.00794, .0, .0, .0, .0, .0, .0, .0, .0, .0, .0, .0, .0, .0, .0, .0, .0,  4.002602],\n",
    "     [ 6.941, 9.012182, .0, .0, .0, .0, .0, .0, .0, .0, .0, .0,  10.811, 12.0107, 14.0067, 15.9994, 18.9984032, 20.1797],\n",
    "     [ 22.98976928, 24.3050, .0, .0, .0, .0, .0, .0, .0, .0, .0, .0,  26.9815386, 28.0855, 30.973762, 32.065, 35.453, 39.948],\n",
    "     [ 39.0983, 40.078, 44.955912, 47.867, 50.9415, 51.9961, 54.938045, 55.845, 58.933195, 58.6934, 63.546, 65.38, 69.723, 72.64, 74.92160, 78.96, 79.904, 83.798],\n",
    "     [ 85.4678, 87.62, 88.90585, 91.224, 92.90638, 95.96, 98, 101.07, 102.90550, 106.42, 107.8682, 112.411, 114.818, 118.710, 121.760, 127.60, 126.90447, 131.293],\n",
    "     [ 132.9054519, 137.327, .0, 178.49, 180.94788, 183.84, 186.207, 190.23, 192.217, 195.084, 196.966569, 200.59, 204.3833, 207.2, 208.98040, 209, 210, 222],\n",
    "     [223, 226, .0, 267, 268, 271, 272, 270, 276, 281, 280, 285, 284, 289, 288, 293, 'unknown', 294],\n",
    "     [.0, .0, 138.90547, 140.116, 140.90765, 144.242, 145, 150.36, 151.964, 157.25, 158.92535, 162.500, 164.93032, 167.259, 168.93421, 173.054, 174.9668, .0],\n",
    "     [.0, .0, 227, 232.03806, 231.03588, 238.02891, 237, 244, 243, 247, 247, 251, 252, 257, 258, 259, 262, .0],\n",
    "     [.0, .0, .0, .0, .0, .0, .0, .0, .0, .0, .0, .0, .0, .0, .0, .0, .0, .0],\n",
    "     [.0, .0, .0, .0, .0, .0, .0, .0, .0, .0, .0, .0, .0, .0, .0, .0, .0, .0],\n",
    "     [.0, .0, .0, .0, .0, .0, .0, .0, .0, .0, .0, .0, .0, .0, .0, .0, .0, .0]]\n",
    "\n",
    "z = [[.8, .0, .0, .0, .0, .0, .0, .0, .0, .0, .0, .0, .0, .0, .0, .0, .0, 1.],\n",
    "     [.1, .2, .0, .0, .0, .0, .0, .0, .0, .0, .0, .0, .7, .8, .8, .8, .9, 1.],\n",
    "     [.1, .2, .0, .0, .0, .0, .0, .0, .0, .0, .0, .0, .6, .7, .8, .8, .9, 1],\n",
    "     [.1, .2, .3, .3, .3, .3, .3, .3, .3, .3, .3, .3, .6, .7, .8, .8, .9, 1.],\n",
    "     [.1, .2, .3, .3, .3, .3, .3, .3, .3, .3, .3, .3, .6, .6, .7, .7, .9, 1.],\n",
    "     [.1, .2, .4, .3, .3, .3, .3, .3, .3, .3, .3, .3, .6, .6, .6, .7, .9, 1.],\n",
    "     [.1, .2, .5, .3, .3, .3, .3, .3, .3, .3, .3, .3, .6, .6, .6, .6, .9, 1.],\n",
    "     [.0, .0, .4, .4, .4, .4, .4, .4, .4, .4, .4, .4, .4, .4, .4, .4, .4, .0],\n",
    "     [.0, .0, .5, .5, .5, .5, .5, .5, .5, .5, .5, .5, .5, .5, .5, .5, .5, .0],\n",
    "     [.0, .0, .0, .0, .0, .0, .0, .0, .0, .0, .0, .0, .0, .0, .0, .0, .0, .0],\n",
    "     [.1, .1, .1, .3, .3, .3, .5, .5, .5, .7, .7, .7, .9, .9, .9, .0, .0, .0],\n",
    "     [.2, .2, .2, .4, .4, .4, .6, .6, .6, .8, .8, .8, 1., 1., 1., .0, .0, .0]]\n",
    "\n",
    "# Display element name and atomic mass on hover\n",
    "hover=[]\n",
    "for x in range(len(symbol)):\n",
    "    hover.append([i + '<br>' + 'Atomic Mass: ' + str(j) \n",
    "                      for i, j in zip(element[x], atomic_mass[x])])\n",
    "\n",
    "# Invert Matrices\n",
    "symbol = symbol[::-1]\n",
    "hover = hover[::-1]\n",
    "z = z[::-1]\n",
    "\n",
    "# Set Colorscale\n",
    "colorscale=[[0.0, 'rgb(255,255,255)'], [.2, 'rgb(255, 255, 153)'],\n",
    "            [.4, 'rgb(153, 255, 204)'], [.6, 'rgb(179, 217, 255)'],\n",
    "            [.8, 'rgb(240, 179, 255)'],[1.0, 'rgb(255, 77, 148)']]\n",
    "\n",
    "# Make Annotated Heatmap\n",
    "fig = ff.create_annotated_heatmap(z, annotation_text=symbol, text=hover,\n",
    "                                 colorscale=colorscale, font_colors=['black'], hoverinfo='text')\n",
    "#fig.update_layout(title_text='Periodic Table')\n",
    "plotly_plot(fig)"
   ]
  },
  {
   "cell_type": "code",
   "execution_count": 6,
   "metadata": {},
   "outputs": [
    {
     "name": "stdout",
     "output_type": "stream",
     "text": [
      "0\n",
      "1\n",
      "2\n",
      "3\n",
      "4\n",
      "5\n",
      "6\n",
      "7\n",
      "8\n",
      "9\n"
     ]
    }
   ],
   "source": [
    "for i in range(10):\n",
    "    print(i)"
   ]
  },
  {
   "cell_type": "code",
   "execution_count": null,
   "metadata": {},
   "outputs": [],
   "source": []
  }
 ],
 "metadata": {
  "kernelspec": {
   "display_name": "Python 3",
   "language": "python",
   "name": "python3"
  },
  "language_info": {
   "codemirror_mode": {
    "name": "ipython",
    "version": 3
   },
   "file_extension": ".py",
   "mimetype": "text/x-python",
   "name": "python",
   "nbconvert_exporter": "python",
   "pygments_lexer": "ipython3",
   "version": "3.6.6"
  }
 },
 "nbformat": 4,
 "nbformat_minor": 2
}
