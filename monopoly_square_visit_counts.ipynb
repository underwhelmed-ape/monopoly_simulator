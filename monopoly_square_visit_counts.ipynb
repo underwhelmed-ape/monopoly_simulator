{
 "cells": [
  {
   "cell_type": "markdown",
   "metadata": {},
   "source": [
    "# What are the most visitied squares in Monopoly?"
   ]
  },
  {
   "cell_type": "markdown",
   "metadata": {},
   "source": [
    "Winning a game of Monopoly involves buying the right properties and building up the properties on the most important and spaces to maximise profit.\n",
    "\n",
    "This project will focus on the first part of this problem. What properties are landed on the most and should be bought to incease footfall?\n",
    "\n",
    "As a player does not move around the board in a random way, but according to:\n",
    "\n",
    "* The total of two dice are used\n",
    "* Game rules, as well as cards, dictate a player's position on the board sporadically\n",
    "\n",
    "This notebook is a description of the Monte Carlo method and the results obtained. The script within the project simulated a player's movements around a board multiple times and output the probability of a player landing on any particular space."
   ]
  },
  {
   "cell_type": "code",
   "execution_count": 92,
   "metadata": {},
   "outputs": [
    {
     "data": {
      "text/html": [
       "        <script type=\"text/javascript\">\n",
       "        window.PlotlyConfig = {MathJaxConfig: 'local'};\n",
       "        if (window.MathJax) {MathJax.Hub.Config({SVG: {font: \"STIX-Web\"}});}\n",
       "        if (typeof require !== 'undefined') {\n",
       "        require.undef(\"plotly\");\n",
       "        requirejs.config({\n",
       "            paths: {\n",
       "                'plotly': ['https://cdn.plot.ly/plotly-latest.min']\n",
       "            }\n",
       "        });\n",
       "        require(['plotly'], function(Plotly) {\n",
       "            window._Plotly = Plotly;\n",
       "        });\n",
       "        }\n",
       "        </script>\n",
       "        "
      ]
     },
     "metadata": {},
     "output_type": "display_data"
    }
   ],
   "source": [
    "from random import randint    \n",
    "import numpy as np\n",
    "import pandas as pd\n",
    "import matplotlib.pyplot as plt\n",
    "%matplotlib inline\n",
    "\n",
    "import plotly\n",
    "plotly.offline.init_notebook_mode(connected=True)\n",
    "plotly_plot = plotly.offline.iplot\n",
    "import plotly.figure_factory as ff\n",
    "\n",
    "import __main__ as game"
   ]
  },
  {
   "cell_type": "markdown",
   "metadata": {},
   "source": [
    "Each square on the board is assigned a number, starting with 'Go' which was assigned 0. The player starts here at the beginning of each game."
   ]
  },
  {
   "cell_type": "markdown",
   "metadata": {},
   "source": [
    "## Dice rolls\n",
    "How do dice rolls affect player position?\n",
    "As we roll two dice, the sum of the dice are more likely to be a 6,7, or 8 than a 2 or a 12 for instance. \n",
    "\n",
    "Plotting throw statistics"
   ]
  },
  {
   "cell_type": "code",
   "execution_count": 2,
   "metadata": {
    "scrolled": true
   },
   "outputs": [
    {
     "data": {
      "image/png": "[encoded data removed]",
      "text/plain": [
       "<Figure size 864x288 with 1 Axes>"
      ]
     },
     "metadata": {
      "needs_background": "light"
     },
     "output_type": "display_data"
    }
   ],
   "source": [
    "from dice import dice_roll\n",
    "\n",
    "rolls = {}\n",
    "for i in range(10000):\n",
    "    roll = dice_roll()[0]\n",
    "    if roll in rolls:\n",
    "        rolls[roll] += 1\n",
    "    else:\n",
    "        rolls[roll] = 1\n",
    "\n",
    "fig = plt.figure(figsize=(12,4))\n",
    "ax = fig.add_axes([0,0,1,1])\n",
    "ax.bar(list(rolls.keys()), rolls.values())\n",
    "ax.set_xlabel('Roll count')\n",
    "plt.show()"
   ]
  },
  {
   "cell_type": "markdown",
   "metadata": {},
   "source": [
    "The dice_roll function, returns the value that the player moves and whether the roll was a double. When three rolls are accured consecutively, the player's position is set equal to 10 (Jail position)"
   ]
  },
  {
   "cell_type": "code",
   "execution_count": 3,
   "metadata": {},
   "outputs": [],
   "source": [
    "from game import run_games"
   ]
  },
  {
   "cell_type": "code",
   "execution_count": 77,
   "metadata": {},
   "outputs": [
    {
     "name": "stdout",
     "output_type": "stream",
     "text": [
      "Begin 10000 games\n",
      "Int64Index([ 0,  1,  2,  3,  4,  5,  6,  8, 10, 11, 13, 14, 15, 16, 17, 18, 19,\n",
      "            20, 21, 22, 23, 24, 25, 26, 27, 28, 29, 31, 32, 33, 34, 35, 36, 37,\n",
      "            38, 39,  7, 12,  9],\n",
      "           dtype='int64')\n",
      "         0         1         2         3         4         5         6   \\\n",
      "0  0.990099  1.980198  1.980198  0.990099  0.990099  3.960396  2.970297   \n",
      "1  4.166667  5.208333       NaN       NaN  4.166667  1.041667  1.041667   \n",
      "2  0.990099  3.960396  2.970297       NaN  1.980198  2.970297  0.990099   \n",
      "3  5.940594  2.970297  0.990099       NaN  2.970297  3.960396  1.980198   \n",
      "4  2.970297  2.970297  1.980198  3.960396  1.980198  2.970297  1.980198   \n",
      "\n",
      "         8         10        11  ...        33        34        35        36  \\\n",
      "0  2.970297  6.930693  2.970297  ...  1.980198  2.970297  0.990099  0.990099   \n",
      "1  3.125000  8.333333  3.125000  ...  4.166667  1.041667  2.083333       NaN   \n",
      "2  2.970297  6.930693  3.960396  ...  0.990099  2.970297  1.980198  0.990099   \n",
      "3  2.970297  2.970297  1.980198  ...  4.950495  0.990099  1.980198  0.990099   \n",
      "4  2.970297  4.950495  2.970297  ...  2.970297  4.950495  1.980198  0.990099   \n",
      "\n",
      "         37        38        39        7         12        9   \n",
      "0  0.990099  1.980198  5.940594       NaN       NaN       NaN  \n",
      "1  3.125000       NaN  1.041667  3.125000  2.083333       NaN  \n",
      "2       NaN  3.960396  1.980198  2.970297  3.960396  0.990099  \n",
      "3  0.990099  1.980198  2.970297  1.980198  5.940594  1.980198  \n",
      "4  2.970297  2.970297  0.990099  0.990099  1.980198  0.990099  \n",
      "\n",
      "[5 rows x 39 columns]\n"
     ]
    }
   ],
   "source": [
    "game_results = run_games()\n",
    "xtab = game_results.apply(lambda r: r/r.sum()*100, axis=1)\n",
    "print(xtab.head())"
   ]
  },
  {
   "cell_type": "code",
   "execution_count": 100,
   "metadata": {},
   "outputs": [],
   "source": [
    "mean_prop = xtab.mean(axis=0)\n",
    "mean_prop.loc[30] = 0\n",
    "mean_prop = mean_prop.sort_index()"
   ]
  },
  {
   "cell_type": "code",
   "execution_count": 109,
   "metadata": {},
   "outputs": [],
   "source": [
    "# Adding labels\n",
    "space_names = ['Go',\n",
    " 'Old Kent Road',\n",
    " 'Community Chest',\n",
    " 'Whitechapel Road',\n",
    " 'Income Tax',\n",
    " 'King\\'s Cross',\n",
    " 'The Angel Islington',\n",
    " 'Chance',\n",
    " 'Euston Road',\n",
    " 'Pentonville Road',\n",
    " 'Jail',\n",
    " 'Pall Mall',\n",
    " 'Electric Company',\n",
    " 'Whitehall',\n",
    " 'Northumberland Avenue',\n",
    " 'Marylebone Station',\n",
    " 'Bow Street',\n",
    " 'Community Chest',\n",
    " 'Marlborough Street',\n",
    " 'Vine Street',\n",
    " 'Free Parking',\n",
    " 'Strand',\n",
    " 'Chance',\n",
    " 'Fleet Street',\n",
    " 'Trafalger Square',\n",
    " 'Fenchurch St Station',\n",
    " 'Leicester Square',\n",
    " 'Coventry Street',\n",
    " 'Water Works',\n",
    " 'Piccadilly',\n",
    " 'Go to Jail',\n",
    " 'Regent Street',\n",
    " 'Oxford Street',\n",
    " 'Community Chest',\n",
    " 'Bond Street',\n",
    " 'Liverpool St Station',\n",
    " 'Chance',\n",
    " 'Park Lane',\n",
    " 'Super Tax',\n",
    " 'Mayfair'\n",
    "]\n"
   ]
  },
  {
   "cell_type": "code",
   "execution_count": 110,
   "metadata": {},
   "outputs": [
    {
     "name": "stdout",
     "output_type": "stream",
     "text": [
      "0     2.969894\n",
      "1     2.345001\n",
      "2     2.044424\n",
      "3     2.409093\n",
      "4     2.561160\n",
      "5     2.863772\n",
      "6     2.556908\n",
      "7     1.753583\n",
      "8     2.605919\n",
      "9     2.535803\n",
      "10    6.127773\n",
      "11    2.475947\n",
      "12    2.540811\n",
      "13    2.951611\n",
      "14    2.669253\n",
      "15    2.800780\n",
      "16    2.935835\n",
      "17    3.042251\n",
      "18    2.983624\n",
      "19    3.361558\n",
      "20    2.986100\n",
      "21    2.929473\n",
      "22    1.920457\n",
      "23    2.886780\n",
      "24    3.267453\n",
      "25    2.913822\n",
      "26    2.897243\n",
      "27    2.869366\n",
      "28    2.820978\n",
      "29    2.774600\n",
      "30    0.000000\n",
      "31    2.853172\n",
      "32    2.729594\n",
      "33    2.418686\n",
      "34    2.620414\n",
      "35    2.591837\n",
      "36    1.703418\n",
      "37    2.370036\n",
      "38    2.379125\n",
      "39    2.730617\n",
      "dtype: float64\n"
     ]
    }
   ],
   "source": [
    "print(mean_prop)"
   ]
  },
  {
   "cell_type": "code",
   "execution_count": 125,
   "metadata": {},
   "outputs": [
    {
     "data": {
      "text/plain": [
       "<BarContainer object of 40 artists>"
      ]
     },
     "execution_count": 125,
     "metadata": {},
     "output_type": "execute_result"
    },
    {
     "data": {
      "image/png": "[encoded data removed]",
      "text/plain": [
       "<Figure size 720x576 with 1 Axes>"
      ]
     },
     "metadata": {
      "needs_background": "light"
     },
     "output_type": "display_data"
    }
   ],
   "source": [
    "fig = plt.figure(figsize=(10,8))\n",
    "ax = fig.add_axes([0,0,1,1])\n",
    "ax.barh(y=space_names, width=mean_prop)\n"
   ]
  },
  {
   "cell_type": "markdown",
   "metadata": {},
   "source": [
    "* Jail is the most commonly visited space\n",
    "* After that, Vine Street"
   ]
  },
  {
   "cell_type": "code",
   "execution_count": null,
   "metadata": {},
   "outputs": [],
   "source": []
  }
 ],
 "metadata": {
  "kernelspec": {
   "display_name": "Python 3",
   "language": "python",
   "name": "python3"
  },
  "language_info": {
   "codemirror_mode": {
    "name": "ipython",
    "version": 3
   },
   "file_extension": ".py",
   "mimetype": "text/x-python",
   "name": "python",
   "nbconvert_exporter": "python",
   "pygments_lexer": "ipython3",
   "version": "3.7.6"
  }
 },
 "nbformat": 4,
 "nbformat_minor": 2
}
