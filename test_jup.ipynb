{
 "cells": [
  {
   "cell_type": "code",
   "execution_count": 1,
   "metadata": {},
   "outputs": [
    {
     "name": "stdout",
     "output_type": "stream",
     "text": [
      "hello world\n"
     ]
    }
   ],
   "source": [
    "print('hello world')"
   ]
  },
  {
   "cell_type": "code",
   "execution_count": 2,
   "metadata": {},
   "outputs": [],
   "source": [
    "from random import randint    \n",
    "import numpy as np\n",
    "import matplotlib\n",
    "import matplotlib.pyplot as plt\n",
    "import plotly.figure_factory as ff\n",
    "import plotly.graph_objects as go\n",
    "\n",
    "from dice import dice_roll"
   ]
  },
  {
   "cell_type": "code",
   "execution_count": 4,
   "metadata": {
    "scrolled": true
   },
   "outputs": [
    {
     "name": "stdout",
     "output_type": "stream",
     "text": [
      "{8: 1398, 5: 1125, 3: 543, 6: 1362, 12: 291, 7: 1710, 9: 1111, 10: 801, 4: 827, 11: 565, 2: 267}\n",
      "dict_items([(8, 1398), (5, 1125), (3, 543), (6, 1362), (12, 291), (7, 1710), (9, 1111), (10, 801), (4, 827), (11, 565), (2, 267)])\n"
     ]
    },
    {
     "data": {
      "text/plain": [
       "<BarContainer object of 11 artists>"
      ]
     },
     "execution_count": 4,
     "metadata": {},
     "output_type": "execute_result"
    },
    {
     "data": {
      "image/png": "[encoded data removed]",
      "text/plain": [
       "<Figure size 432x288 with 1 Axes>"
      ]
     },
     "metadata": {
      "needs_background": "light"
     },
     "output_type": "display_data"
    }
   ],
   "source": [
    "rolls = {}\n",
    "for i in range(10000):\n",
    "    roll = dice_roll()[0]\n",
    "    if roll in rolls:\n",
    "        rolls[roll] += 1\n",
    "    else:\n",
    "        rolls[roll] = 1\n",
    "\n",
    "print(rolls)\n",
    "print(rolls.items())\n",
    "\n",
    "plt.bar(list(rolls.keys()), rolls.values(), color='g')"
   ]
  },
  {
   "cell_type": "code",
   "execution_count": 11,
   "metadata": {},
   "outputs": [
    {
     "data": {
      "text/plain": [
       "Figure({\n",
       "    'data': [{'colorscale': 'RdBu',\n",
       "              'reversescale': False,\n",
       "              'showscale': False,\n",
       "              'type': 'heatmap',\n",
       "              'uid': '1a5fa44d-7d88-490c-b3a4-fe19124fbad4',\n",
       "              'z': [[0.1, 0.3, 0.5, 0.7, 0.9], [1, 0.8, 0.6, 0.4, 0.2], [0.2, 0,\n",
       "                    0.5, 0.7, 0.9], [0.9, 0.8, 0.4, 0.2, 0], [0.3, 0.4, 0.5, 0.7,\n",
       "                    1]]}],\n",
       "    'layout': {'annotations': [{'font': {'color': '#FFFFFF'},\n",
       "                                'showarrow': False,\n",
       "                                'text': '0.1',\n",
       "                                'x': 0,\n",
       "                                'xref': 'x',\n",
       "                                'y': 0,\n",
       "                                'yref': 'y'},\n",
       "                               {'font': {'color': '#FFFFFF'},\n",
       "                                'showarrow': False,\n",
       "                                'text': '0.3',\n",
       "                                'x': 1,\n",
       "                                'xref': 'x',\n",
       "                                'y': 0,\n",
       "                                'yref': 'y'},\n",
       "                               {'font': {'color': '#000000'},\n",
       "                                'showarrow': False,\n",
       "                                'text': '0.5',\n",
       "                                'x': 2,\n",
       "                                'xref': 'x',\n",
       "                                'y': 0,\n",
       "                                'yref': 'y'},\n",
       "                               {'font': {'color': '#000000'},\n",
       "                                'showarrow': False,\n",
       "                                'text': '0.7',\n",
       "                                'x': 3,\n",
       "                                'xref': 'x',\n",
       "                                'y': 0,\n",
       "                                'yref': 'y'},\n",
       "                               {'font': {'color': '#000000'},\n",
       "                                'showarrow': False,\n",
       "                                'text': '0.9',\n",
       "                                'x': 4,\n",
       "                                'xref': 'x',\n",
       "                                'y': 0,\n",
       "                                'yref': 'y'},\n",
       "                               {'font': {'color': '#000000'},\n",
       "                                'showarrow': False,\n",
       "                                'text': '1',\n",
       "                                'x': 0,\n",
       "                                'xref': 'x',\n",
       "                                'y': 1,\n",
       "                                'yref': 'y'},\n",
       "                               {'font': {'color': '#000000'},\n",
       "                                'showarrow': False,\n",
       "                                'text': '0.8',\n",
       "                                'x': 1,\n",
       "                                'xref': 'x',\n",
       "                                'y': 1,\n",
       "                                'yref': 'y'},\n",
       "                               {'font': {'color': '#000000'},\n",
       "                                'showarrow': False,\n",
       "                                'text': '0.6',\n",
       "                                'x': 2,\n",
       "                                'xref': 'x',\n",
       "                                'y': 1,\n",
       "                                'yref': 'y'},\n",
       "                               {'font': {'color': '#FFFFFF'},\n",
       "                                'showarrow': False,\n",
       "                                'text': '0.4',\n",
       "                                'x': 3,\n",
       "                                'xref': 'x',\n",
       "                                'y': 1,\n",
       "                                'yref': 'y'},\n",
       "                               {'font': {'color': '#FFFFFF'},\n",
       "                                'showarrow': False,\n",
       "                                'text': '0.2',\n",
       "                                'x': 4,\n",
       "                                'xref': 'x',\n",
       "                                'y': 1,\n",
       "                                'yref': 'y'},\n",
       "                               {'font': {'color': '#FFFFFF'},\n",
       "                                'showarrow': False,\n",
       "                                'text': '0.2',\n",
       "                                'x': 0,\n",
       "                                'xref': 'x',\n",
       "                                'y': 2,\n",
       "                                'yref': 'y'},\n",
       "                               {'font': {'color': '#FFFFFF'},\n",
       "                                'showarrow': False,\n",
       "                                'text': '0',\n",
       "                                'x': 1,\n",
       "                                'xref': 'x',\n",
       "                                'y': 2,\n",
       "                                'yref': 'y'},\n",
       "                               {'font': {'color': '#000000'},\n",
       "                                'showarrow': False,\n",
       "                                'text': '0.5',\n",
       "                                'x': 2,\n",
       "                                'xref': 'x',\n",
       "                                'y': 2,\n",
       "                                'yref': 'y'},\n",
       "                               {'font': {'color': '#000000'},\n",
       "                                'showarrow': False,\n",
       "                                'text': '0.7',\n",
       "                                'x': 3,\n",
       "                                'xref': 'x',\n",
       "                                'y': 2,\n",
       "                                'yref': 'y'},\n",
       "                               {'font': {'color': '#000000'},\n",
       "                                'showarrow': False,\n",
       "                                'text': '0.9',\n",
       "                                'x': 4,\n",
       "                                'xref': 'x',\n",
       "                                'y': 2,\n",
       "                                'yref': 'y'},\n",
       "                               {'font': {'color': '#000000'},\n",
       "                                'showarrow': False,\n",
       "                                'text': '0.9',\n",
       "                                'x': 0,\n",
       "                                'xref': 'x',\n",
       "                                'y': 3,\n",
       "                                'yref': 'y'},\n",
       "                               {'font': {'color': '#000000'},\n",
       "                                'showarrow': False,\n",
       "                                'text': '0.8',\n",
       "                                'x': 1,\n",
       "                                'xref': 'x',\n",
       "                                'y': 3,\n",
       "                                'yref': 'y'},\n",
       "                               {'font': {'color': '#FFFFFF'},\n",
       "                                'showarrow': False,\n",
       "                                'text': '0.4',\n",
       "                                'x': 2,\n",
       "                                'xref': 'x',\n",
       "                                'y': 3,\n",
       "                                'yref': 'y'},\n",
       "                               {'font': {'color': '#FFFFFF'},\n",
       "                                'showarrow': False,\n",
       "                                'text': '0.2',\n",
       "                                'x': 3,\n",
       "                                'xref': 'x',\n",
       "                                'y': 3,\n",
       "                                'yref': 'y'},\n",
       "                               {'font': {'color': '#FFFFFF'},\n",
       "                                'showarrow': False,\n",
       "                                'text': '0',\n",
       "                                'x': 4,\n",
       "                                'xref': 'x',\n",
       "                                'y': 3,\n",
       "                                'yref': 'y'},\n",
       "                               {'font': {'color': '#FFFFFF'},\n",
       "                                'showarrow': False,\n",
       "                                'text': '0.3',\n",
       "                                'x': 0,\n",
       "                                'xref': 'x',\n",
       "                                'y': 4,\n",
       "                                'yref': 'y'},\n",
       "                               {'font': {'color': '#FFFFFF'},\n",
       "                                'showarrow': False,\n",
       "                                'text': '0.4',\n",
       "                                'x': 1,\n",
       "                                'xref': 'x',\n",
       "                                'y': 4,\n",
       "                                'yref': 'y'},\n",
       "                               {'font': {'color': '#000000'},\n",
       "                                'showarrow': False,\n",
       "                                'text': '0.5',\n",
       "                                'x': 2,\n",
       "                                'xref': 'x',\n",
       "                                'y': 4,\n",
       "                                'yref': 'y'},\n",
       "                               {'font': {'color': '#000000'},\n",
       "                                'showarrow': False,\n",
       "                                'text': '0.7',\n",
       "                                'x': 3,\n",
       "                                'xref': 'x',\n",
       "                                'y': 4,\n",
       "                                'yref': 'y'},\n",
       "                               {'font': {'color': '#000000'},\n",
       "                                'showarrow': False,\n",
       "                                'text': '1',\n",
       "                                'x': 4,\n",
       "                                'xref': 'x',\n",
       "                                'y': 4,\n",
       "                                'yref': 'y'}],\n",
       "               'xaxis': {'gridcolor': 'rgb(0, 0, 0)', 'showticklabels': False, 'side': 'top', 'ticks': ''},\n",
       "               'yaxis': {'showticklabels': False, 'ticks': '', 'ticksuffix': '  '}}\n",
       "})"
      ]
     },
     "execution_count": 11,
     "metadata": {},
     "output_type": "execute_result"
    }
   ],
   "source": [
    "z = [[.1, .3, .5, .7, .9],\n",
    "     [1, .8, .6, .4, .2],\n",
    "     [.2, 0, .5, .7, .9],\n",
    "     [.9, .8, .4, .2, 0],\n",
    "     [.3, .4, .5, .7, 1]]\n",
    "\n",
    "fig = ff.create_annotated_heatmap(z)\n",
    "fig"
   ]
  },
  {
   "cell_type": "code",
   "execution_count": null,
   "metadata": {},
   "outputs": [],
   "source": []
  }
 ],
 "metadata": {
  "kernelspec": {
   "display_name": "Python 3",
   "language": "python",
   "name": "python3"
  },
  "language_info": {
   "codemirror_mode": {
    "name": "ipython",
    "version": 3
   },
   "file_extension": ".py",
   "mimetype": "text/x-python",
   "name": "python",
   "nbconvert_exporter": "python",
   "pygments_lexer": "ipython3",
   "version": "3.6.6"
  }
 },
 "nbformat": 4,
 "nbformat_minor": 2
}
